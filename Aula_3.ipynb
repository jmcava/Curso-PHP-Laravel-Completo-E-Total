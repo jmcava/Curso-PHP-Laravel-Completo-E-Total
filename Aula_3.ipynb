{
  "nbformat": 4,
  "nbformat_minor": 0,
  "metadata": {
    "colab": {
      "name": "Aula-3.ipynb",
      "provenance": [],
      "collapsed_sections": [],
      "include_colab_link": true
    },
    "kernelspec": {
      "name": "python3",
      "display_name": "Python 3"
    }
  },
  "cells": [
    {
      "cell_type": "markdown",
      "metadata": {
        "id": "view-in-github",
        "colab_type": "text"
      },
      "source": [
        "<a href=\"https://colab.research.google.com/github/jmcava/Curso-PHP-Laravel-Completo-E-Total/blob/master/Aula_3.ipynb\" target=\"_parent\"><img src=\"https://colab.research.google.com/assets/colab-badge.svg\" alt=\"Open In Colab\"/></a>"
      ]
    },
    {
      "cell_type": "markdown",
      "metadata": {
        "id": "rpxlv82AvKHU",
        "colab_type": "text"
      },
      "source": [
        "<p align=\"center\"> \n",
        "<img src=\"https://datascience.study/wp-content/uploads/2019/01/python-logo.png\">\n",
        "</p>\n",
        "\n",
        "## Estruturas de decisão\n",
        "\n",
        "Estruturas de decisão são recursos de linguagens de programação úteis para criar desvios e condições lógicas para certas situações no código ocorrerem, a base dessa aula é o comando **if**, **elif**, **else** e suas combinações. "
      ]
    },
    {
      "cell_type": "markdown",
      "metadata": {
        "id": "x5Ar2nlOvyLf",
        "colab_type": "text"
      },
      "source": [
        "### Expressões booleanas\n",
        "\n",
        "Expressões booleanas são aquelas que retornam apenas dois tipos de condição: **verdadeiro** ou **falso**. O operador mais simples que podemos considerar é o **==** que serve para comparar dois operandos:\n"
      ]
    },
    {
      "cell_type": "code",
      "metadata": {
        "id": "SOrOzylyw62n",
        "colab_type": "code",
        "outputId": "d2ea7414-73a1-4281-e499-77de25d960a6",
        "colab": {
          "base_uri": "https://localhost:8080/",
          "height": 34
        }
      },
      "source": [
        "# Essa expressão vai retornar false, pois 5 é diferente de 10\n",
        "print(5 == 10)"
      ],
      "execution_count": 0,
      "outputs": [
        {
          "output_type": "stream",
          "text": [
            "False\n"
          ],
          "name": "stdout"
        }
      ]
    },
    {
      "cell_type": "code",
      "metadata": {
        "id": "iA5WjqU5xDvq",
        "colab_type": "code",
        "outputId": "45f3133d-1471-4472-977c-a7771701103e",
        "colab": {
          "base_uri": "https://localhost:8080/",
          "height": 34
        }
      },
      "source": [
        "# Agora vamos ter uma condição verdadeira\n",
        "print(20 == 20)"
      ],
      "execution_count": 0,
      "outputs": [
        {
          "output_type": "stream",
          "text": [
            "True\n"
          ],
          "name": "stdout"
        }
      ]
    },
    {
      "cell_type": "markdown",
      "metadata": {
        "id": "1CNV9o4UxLNn",
        "colab_type": "text"
      },
      "source": [
        "Os tipos **True** e **False** pertencem ao tipo **bool** do Python, portanto não são Strings, apesar de termos usado o print. O operador **==** faz parte dos operadores chamados de **operadores relacionais**. O Python possui seis operadores relacionais:\n",
        "\n",
        "| &nbsp; | &nbsp; |\n",
        "| ------- | ----- | \n",
        "| **Operador** | **Interpretação do Operador Relacional** |\n",
        "| x != y | \"x é diferente de y\" |\n",
        "| x == y | \"x é igual a y\" |\n",
        "| x > y | \"x é maior que y\" | \n",
        "| x < y | \"x é menor que y\" | \n",
        "| x >= y | \"x é maior ou igual a y\" | \n",
        "| x <= y | \"x é menor ou igual a y\" |\n",
        "||\n",
        "\n",
        "<center><b>Tab-1.</b> Operadores relacionais do Python.</center>\n",
        "\n",
        "**Observação:** Cuidado para não confundir o operador **==** com **=**. O operador **=** (conforme já vimos) é o operador de atribuição do Python que produz um resultado totalmente diferente do operador relacional **==**."
      ]
    },
    {
      "cell_type": "code",
      "metadata": {
        "id": "mduFJOyMzLgp",
        "colab_type": "code",
        "outputId": "ac0a4b60-37aa-48c0-c825-7df881ede798",
        "colab": {
          "base_uri": "https://localhost:8080/",
          "height": 34
        }
      },
      "source": [
        "# Operador de atribuição = (estou escrevendo o valor 10 na variável a)\n",
        "a = 10\n",
        "\n",
        "# Operador relacional == (estou comparando a com 10)\n",
        "print(a == 10)"
      ],
      "execution_count": 0,
      "outputs": [
        {
          "output_type": "stream",
          "text": [
            "True\n"
          ],
          "name": "stdout"
        }
      ]
    },
    {
      "cell_type": "markdown",
      "metadata": {
        "id": "Ia-ZKfiVzqBA",
        "colab_type": "text"
      },
      "source": [
        "Imprima comparações com outros operadores relacionais e veja os resultados."
      ]
    },
    {
      "cell_type": "code",
      "metadata": {
        "id": "lYwd0frxzlU3",
        "colab_type": "code",
        "colab": {}
      },
      "source": [
        "# Escreva aqui\n"
      ],
      "execution_count": 0,
      "outputs": []
    },
    {
      "cell_type": "markdown",
      "metadata": {
        "id": "7aG8xq6vz8X0",
        "colab_type": "text"
      },
      "source": [
        "### Operadores lógicos\n",
        "\n",
        "Operadores lógicos são operadores que unem expressões lógicas resultando em estados verdadeiro ou falso, assim como as expressões booleanas. Existem três operadores lógicos em Python: **and**, **or** e **not**. Esses operadores representam os operadores lógicos: conjunção, disjunção e negação. Operadores lógicos estão intimamente relacionados as chamadas **Tabelas Verdade** que servem para visualizar as possíveis combinações dado um certo número de variáveis. \n",
        "\n",
        "\n",
        "<table>\n",
        "<tr></tr>\n",
        "<tr><td>\n",
        "\n",
        "| a | b | and |\n",
        "| ------- | ----- | :-----: |\n",
        "| 0 | 0 | 0 |\n",
        "| 0 | 1 | 0 |\n",
        "| 1 | 0 | 0 |\n",
        "| 1 | 1 | 1 |\n",
        "||\n",
        "\n",
        "Lógica and\n",
        "</td><td>\n",
        "\n",
        "| a | b | or |\n",
        "| ------- | ----- |:-----: |\n",
        "| 0 | 0 | 0 |\n",
        "| 0 | 1 | 1 |\n",
        "| 1 | 0 | 1 |\n",
        "| 1 | 1 | 1 |\n",
        "||\n",
        "\n",
        "Lógica or\n",
        "</td>\n",
        "<td>\n",
        "\n",
        "| a | not | \n",
        "| ------- | :-----: |\n",
        "| 0 | 1 | \n",
        "| 1 | 0 | \n",
        "||\n",
        "\n",
        "Negação\n",
        "</td>\n",
        "</tr> \n",
        "\n",
        "</table>\n",
        "<center><b>Tab-1.</b> Tabelas verdade para os operadores lógicos <b>and</b>, <b>or</b> e <b>not</b>.</center>\n",
        "\n",
        "Em programação podemos utilizar esses operadores com qualquer tipo de comparação que resulte em estados de verdadeiro ou falso. Isso implica que, podemos combinar expressões booleanas e operadores lógicos."
      ]
    },
    {
      "cell_type": "code",
      "metadata": {
        "id": "s1-z0pxb6EDg",
        "colab_type": "code",
        "outputId": "a8766590-9bcc-4b84-97fb-c68e238affef",
        "colab": {
          "base_uri": "https://localhost:8080/",
          "height": 119
        }
      },
      "source": [
        "# Considere a expressão 5 < a < 10\n",
        "a = 7\n",
        "print(a > 5 and a < 10) # Como a vale 7 então é verdade\n",
        "\n",
        "# Agora comparando exepressões com duas variáveis\n",
        "b = 10\n",
        "print(a < b and b > 5) # Vai ser verdadeiro, pois ambas as condições são verdadeiras\n",
        "\n",
        "# Diferenciando do operador and\n",
        "c = 8\n",
        "print(c > a or a > c) # Vai ser verdadeiro, pois umas das condições é verdadeira\n",
        "\n",
        "# Entendendo o operador not negando as expressões anteriores\n",
        "print(not(a > 5 and a < 10))\n",
        "print(not(a < b and b > 5))\n",
        "print(not(c > a or a > c))"
      ],
      "execution_count": 0,
      "outputs": [
        {
          "output_type": "stream",
          "text": [
            "True\n",
            "True\n",
            "True\n",
            "False\n",
            "False\n",
            "False\n"
          ],
          "name": "stdout"
        }
      ]
    },
    {
      "cell_type": "markdown",
      "metadata": {
        "id": "6Ip2YUOW8BNe",
        "colab_type": "text"
      },
      "source": [
        "### Operadores condicionais\n",
        "\n",
        "Um operador condicional como o nome sugere é um operador que nos fornece o poder de testar condições com o intuito de tomadas de decisão. O operador condicional mais simples é o **if**:"
      ]
    },
    {
      "cell_type": "code",
      "metadata": {
        "id": "zKRaa41p9Yot",
        "colab_type": "code",
        "colab": {}
      },
      "source": [
        "x = -1 #@param {type:\"number\"}\n",
        "\n",
        "# Vamos \"testar\" se a condição é verdadeira\n",
        "if x > 0:\n",
        "    print(\"x é positivo\")"
      ],
      "execution_count": 0,
      "outputs": []
    },
    {
      "cell_type": "markdown",
      "metadata": {
        "id": "oHIIFmH39pgJ",
        "colab_type": "text"
      },
      "source": [
        "A expressão que vem após a chamada **if** é chamada de condição. Se ela for **verdadeira** então o que está dentro do **if** é executado. A condição **if** tem a seguinte estrutura:\n",
        "\n",
        "```python\n",
        "if condição: \n",
        "    # Se verdadeiro executa\n",
        "    comando 1\n",
        "    comando 2\n",
        "    ...\n",
        "    comando m\n",
        "```\n",
        "Perceba que é obrigatório colocar os dois pontos ao final da estrutura if, além disso é também <u>obrigatório indentar</u> o código dentro do corpo do if caso contrário o código será executado fora do if. É comum durante o desenvolvimento nós declaramos condições if sem ainda ter definido os comandos que virão se a condição for verdadeira. Contudo, se declararmos um if vazio vamos ter um erro:"
      ]
    },
    {
      "cell_type": "code",
      "metadata": {
        "id": "z4VKCD2i_KzS",
        "colab_type": "code",
        "outputId": "a9be76f7-6e60-4c65-edc0-a750044e09f4",
        "colab": {
          "base_uri": "https://localhost:8080/",
          "height": 130
        }
      },
      "source": [
        "x = 0 #@param {type:\"number\"}\n",
        "\n",
        "# O print é executado fora do if, pois o código não está indentado\n",
        "if x > 0:\n",
        "    # Esse if está vazio"
      ],
      "execution_count": 0,
      "outputs": [
        {
          "output_type": "error",
          "ename": "SyntaxError",
          "evalue": "ignored",
          "traceback": [
            "\u001b[0;36m  File \u001b[0;32m\"<ipython-input-9-1452a2addd47>\"\u001b[0;36m, line \u001b[0;32m5\u001b[0m\n\u001b[0;31m    # Esse if está vazio\u001b[0m\n\u001b[0m                        ^\u001b[0m\n\u001b[0;31mSyntaxError\u001b[0m\u001b[0;31m:\u001b[0m unexpected EOF while parsing\n"
          ]
        }
      ]
    },
    {
      "cell_type": "markdown",
      "metadata": {
        "id": "LxCN5lTgAEbO",
        "colab_type": "text"
      },
      "source": [
        "Pensando nessa necessidade, o Python possui um comando chamado **pass**, que não executa nada, e possibilita declarar um if vazio:"
      ]
    },
    {
      "cell_type": "code",
      "metadata": {
        "id": "CSotlFbVATkN",
        "colab_type": "code",
        "colab": {}
      },
      "source": [
        "x = 0 #@param {type:\"number\"}\n",
        "\n",
        "# O print é executado fora do if, pois o código não está indentado\n",
        "if x > 0:\n",
        "    # Esse if está vazio mas não da erro\n",
        "    pass"
      ],
      "execution_count": 0,
      "outputs": []
    },
    {
      "cell_type": "markdown",
      "metadata": {
        "id": "CV2QBCr5_e5A",
        "colab_type": "text"
      },
      "source": [
        "Para entender a importância da indentação no Python, veja o resultado de colocar o print fora do if:"
      ]
    },
    {
      "cell_type": "code",
      "metadata": {
        "id": "ufCnAPAWAn0W",
        "colab_type": "code",
        "outputId": "d1fc128f-9926-451d-aa31-38797890e2f2",
        "colab": {
          "base_uri": "https://localhost:8080/",
          "height": 34
        }
      },
      "source": [
        "x = 0 #@param {type:\"number\"}\n",
        "\n",
        "# O print é executado fora do if, pois o código não está indentado\n",
        "if x > 0:\n",
        "    pass\n",
        "print(\"x é positivo\")"
      ],
      "execution_count": 0,
      "outputs": [
        {
          "output_type": "stream",
          "text": [
            "x é positivo\n"
          ],
          "name": "stdout"
        }
      ]
    },
    {
      "cell_type": "markdown",
      "metadata": {
        "id": "nUnKPVZMAxvI",
        "colab_type": "text"
      },
      "source": [
        "O **if** tem o seu contrário na linguagem Python que é chamado de **else**. Essa estrutura de decisão é chamada de **if-else**. O **else** é executado quanto o **if** retorna **falso** na condição:"
      ]
    },
    {
      "cell_type": "code",
      "metadata": {
        "id": "DxGUOjGPBjRV",
        "colab_type": "code",
        "outputId": "38690dc5-8fe0-40ca-b27f-9db6a639413a",
        "colab": {
          "base_uri": "https://localhost:8080/",
          "height": 34
        }
      },
      "source": [
        "x = 0 #@param {type:\"number\"}\n",
        "\n",
        "# Vamos \"testar\" se a condição é verdadeira\n",
        "if x > 0:\n",
        "    print(\"x é positivo\")\n",
        "else: # Caso a condição seja falsa executa o que bem abaixo\n",
        "    print(\"x não é positivo\")"
      ],
      "execution_count": 0,
      "outputs": [
        {
          "output_type": "stream",
          "text": [
            "x não é positivo\n"
          ],
          "name": "stdout"
        }
      ]
    },
    {
      "cell_type": "markdown",
      "metadata": {
        "id": "OandyKnaBrHK",
        "colab_type": "text"
      },
      "source": [
        "Note que, diferente do **if** o **else** não existe sozinho, ele depende de ter um **if** anterior. A condição **if-else** tem a seguinte estrutura:\n",
        "```python\n",
        "if condição:\n",
        "    # Se condição verdadeira executa\n",
        "    comando 1\n",
        "    comando 2\n",
        "    ...\n",
        "    comando m\n",
        "else:\n",
        "    # Se condição falsa executa\n",
        "    comando 1\n",
        "    comando 2\n",
        "    ....\n",
        "    comando n\n",
        "```\n",
        "Mas e quando queremos verificar outra condição dado que o **if** retornou falso? Nesse caso podemos usar o comando **elif** que é a junção das palavras **else+if**, é um else com um outro if:"
      ]
    },
    {
      "cell_type": "code",
      "metadata": {
        "id": "Z-OSbPYhDCaw",
        "colab_type": "code",
        "outputId": "d1ac2132-3505-40ee-8338-bd8687e85a71",
        "colab": {
          "base_uri": "https://localhost:8080/",
          "height": 34
        }
      },
      "source": [
        "x = 1 #@param {type:\"number\"}\n",
        "\n",
        "# Vamos \"testar\" se a condição é verdadeira\n",
        "if x > 0:\n",
        "    print(\"x é maior que zero\")\n",
        "elif x < 0: # Vamos testar outra condição\n",
        "    print(\"x é menor que zero\")"
      ],
      "execution_count": 0,
      "outputs": [
        {
          "output_type": "stream",
          "text": [
            "x é maior que zero\n"
          ],
          "name": "stdout"
        }
      ]
    },
    {
      "cell_type": "markdown",
      "metadata": {
        "id": "EOpl39jvDe3m",
        "colab_type": "text"
      },
      "source": [
        "Assim como o **else** o **elif** não existe sozinho, ele também depende de um **if**. A condição **if-elif** tem a seguinte estrutura:\n",
        "\n",
        "```python\n",
        "if condição:\n",
        "    # Se condição verdadeira executa\n",
        "    comando 1\n",
        "    comando 2\n",
        "    ...\n",
        "    comando m\n",
        "elif condição2:\n",
        "    # Se condição falsa e condição2 verdadeira, então executa\n",
        "    comando 1\n",
        "    comando 2\n",
        "    ....\n",
        "    comando n\n",
        "```"
      ]
    },
    {
      "cell_type": "markdown",
      "metadata": {
        "id": "n9ufxRm9EKy4",
        "colab_type": "text"
      },
      "source": [
        "Podemos quantos **elif** encadeados quisermos, formando combinações **if-elif-elif-elif-...**, dessa forma, a estrutura de decisão passa a ter a seguinte construção:\n",
        "```python\n",
        "if condição:\n",
        "    # Se condição verdadeira executa\n",
        "    comando 1\n",
        "    comando 2\n",
        "    ...\n",
        "    comando m\n",
        "elif condição2:\n",
        "    # Se condição falsa e condição2 verdadeira, então executa\n",
        "    comando 1\n",
        "    comando 2\n",
        "    ....\n",
        "    comando n\n",
        "elif condição3:\n",
        "    # Se condição falsa e condição2 falsa e condição3 verdadeira, então executa\n",
        "    comando 1\n",
        "    comando 2\n",
        "    ....\n",
        "    comando o    \n",
        "...\n",
        "```\n",
        "\n",
        "A última variação que temos é o **if-elif-else** que também possibilita encadear comandos **elif** entre o **if** e o **else**:"
      ]
    },
    {
      "cell_type": "code",
      "metadata": {
        "id": "t4Bz-bbdFj9l",
        "colab_type": "code",
        "outputId": "383c3687-7741-48af-8dbf-c2dcec162f78",
        "colab": {
          "base_uri": "https://localhost:8080/",
          "height": 34
        }
      },
      "source": [
        "x = 0 #@param {type:\"number\"}\n",
        "\n",
        "# Vamos \"testar\" se a condição é verdadeira\n",
        "if x > 0:\n",
        "    print(\"x é maior que zero\")\n",
        "elif x < 0: # Vamos testar outra condição\n",
        "    print(\"x é menor que zero\")\n",
        "else: # Como x não é nem maior, nem menor que 0, então só pode ser igual a 0\n",
        "    print(\"x é igual a zero\")    "
      ],
      "execution_count": 0,
      "outputs": [
        {
          "output_type": "stream",
          "text": [
            "x é igual a zero\n"
          ],
          "name": "stdout"
        }
      ]
    },
    {
      "cell_type": "markdown",
      "metadata": {
        "id": "FOHLe0xSF2Qa",
        "colab_type": "text"
      },
      "source": [
        "A condição **if-elif-else** tem a seguinte estrutura:\n",
        "```python\n",
        "if condição:\n",
        "    # Se condição verdadeira executa\n",
        "    comando 1\n",
        "    comando 2\n",
        "    ...\n",
        "    comando m\n",
        "elif condição2:\n",
        "    # Se condição falsa e condição2 verdadeira, então executa\n",
        "    comando 1\n",
        "    comando 2\n",
        "    ....\n",
        "    comando n\n",
        "else:\n",
        "    # Se condição falsa e condição2 falsa, então executa\n",
        "    comando 1\n",
        "    comando 2\n",
        "    ....\n",
        "    comando o \n",
        "```\n",
        "É possível também combinar condicionais dentro de outras condicionais para produzir as chamadas **condicionais aninhadas**."
      ]
    },
    {
      "cell_type": "code",
      "metadata": {
        "id": "B2yBkU2xGU_2",
        "colab_type": "code",
        "outputId": "545d6ced-3c73-4804-b56d-a5c18f0ca5bb",
        "colab": {
          "base_uri": "https://localhost:8080/",
          "height": 34
        }
      },
      "source": [
        "x = 1 #@param {type:\"number\"}\n",
        "y = 1 #@param {type:\"number\"}\n",
        "\n",
        "# Vamos \"testar\" se a condição é verdadeira\n",
        "if x == y:\n",
        "    print(\"x e y são iguais\")\n",
        "else:\n",
        "    if x < y:\n",
        "        print(\"x é menor que y\")\n",
        "    else:\n",
        "        print(\"x é maior que y\")"
      ],
      "execution_count": 0,
      "outputs": [
        {
          "output_type": "stream",
          "text": [
            "x e y são iguais\n"
          ],
          "name": "stdout"
        }
      ]
    },
    {
      "cell_type": "markdown",
      "metadata": {
        "id": "Y9HNiDXmGpu1",
        "colab_type": "text"
      },
      "source": [
        "Estruturas condicionais aninhadas são difíceis de ler, e na medida do possível devem ser evitadas. Por exemplo, no exemplo acima poderiamos trocar o primeiro **else** e o segundo **if** por um **elif**. Escreva essa modificação abaixo:"
      ]
    },
    {
      "cell_type": "code",
      "metadata": {
        "id": "Cqd7AZdwG7ox",
        "colab_type": "code",
        "colab": {}
      },
      "source": [
        "x = 1 #@param {type:\"number\"}\n",
        "y = 1 #@param {type:\"number\"}\n",
        "\n",
        "# Escreva aqui\n"
      ],
      "execution_count": 0,
      "outputs": []
    },
    {
      "cell_type": "markdown",
      "metadata": {
        "id": "eCXdbk-pxIXn",
        "colab_type": "text"
      },
      "source": [
        "Alguns tipos de condições aninhadas podem ser simplificadas com uso de operadores lógicos. Por exemplo, considere o código abaixo:"
      ]
    },
    {
      "cell_type": "code",
      "metadata": {
        "id": "KMRZhlYUxU3B",
        "colab_type": "code",
        "colab": {}
      },
      "source": [
        "x = 1 #@param {type:\"number\"}\n",
        "\n",
        "# Determinando se x está no intervalo [0, 10]\n",
        "if 0 < x:\n",
        "    if x < 10:\n",
        "        print(\"x é positivo e tem apenas um dígito\")"
      ],
      "execution_count": 0,
      "outputs": []
    },
    {
      "cell_type": "markdown",
      "metadata": {
        "id": "FA6uK-pZxpJw",
        "colab_type": "text"
      },
      "source": [
        "Podemos reescrever os dois **if** encadeados usando uma condição lógica **and**:"
      ]
    },
    {
      "cell_type": "code",
      "metadata": {
        "id": "NogRC4Wixnfl",
        "colab_type": "code",
        "colab": {}
      },
      "source": [
        "x = 1 #@param {type:\"number\"}\n",
        "\n",
        "# Determinando se x está no intervalo [0, 10]\n",
        "if 0 < x and x < 10:\n",
        "    print(\"x é positivo e tem apenas um dígito\")"
      ],
      "execution_count": 0,
      "outputs": []
    },
    {
      "cell_type": "markdown",
      "metadata": {
        "id": "V-65X9Vfx700",
        "colab_type": "text"
      },
      "source": [
        "Para esse tipo de relação, o python possui opções mais simples e compactas:"
      ]
    },
    {
      "cell_type": "code",
      "metadata": {
        "id": "KpDz6jS9x7Ev",
        "colab_type": "code",
        "colab": {}
      },
      "source": [
        "x = 1 #@param {type:\"number\"}\n",
        "\n",
        "# Determinando se x está no intervalo [0, 10]\n",
        "if 0 < x < 10:\n",
        "    print(\"x é positivo e tem apenas um dígito\")"
      ],
      "execution_count": 0,
      "outputs": []
    },
    {
      "cell_type": "markdown",
      "metadata": {
        "id": "I_GAmDpsyQxi",
        "colab_type": "text"
      },
      "source": [
        "### Exercícios\n",
        "\n",
        "**Ex1.** Escreva um programa que recebe três notas $n_1, n_2$ e $n_3$ e calcula a média aritmética $m=\\frac{n_1+n_2+n_3}{3}$. Se $ m >= 7 $ e $ m<=10 $ então imprima **aprovado**, se $ m >= 5 $ e $m < 7$, então imprima **recuperação**, se $ m >= 0 $ e $ m < 5 $, então imprima **reprovado**."
      ]
    },
    {
      "cell_type": "code",
      "metadata": {
        "id": "T1duB98myaWo",
        "colab_type": "code",
        "colab": {}
      },
      "source": [
        "n1 = 7 #@param {type:\"number\"}\n",
        "n2 = 7 #@param {type:\"number\"}\n",
        "n3 = 7 #@param {type:\"number\"}\n",
        "\n",
        "# Escreva aqui\n"
      ],
      "execution_count": 0,
      "outputs": []
    },
    {
      "cell_type": "markdown",
      "metadata": {
        "id": "5eECnTLuzJhG",
        "colab_type": "text"
      },
      "source": [
        "**Ex2.** Para saber se um dado número $n\\in \\mathbb{Z}$ é par, podemos verificar se o módulo de sua divisão é igual a $ 0 $, isto é, se $ n\\bmod 2 = 0 $, então $ n $ é par, caso contrário $ n $ é ímpar. No python o operador modulo é implementado por meio do símbolo %. Escreva um programa que recebe um número inteiro $ n \\in \\mathbb{Z} $ e imprime **par**, caso sele seja par e **ímpar** caso contrário."
      ]
    },
    {
      "cell_type": "code",
      "metadata": {
        "id": "9b93VBO_3TBr",
        "colab_type": "code",
        "colab": {}
      },
      "source": [
        "n = 7 #@param {type:\"integer\"}\n",
        "\n",
        "# Escreva aqui\n"
      ],
      "execution_count": 0,
      "outputs": []
    },
    {
      "cell_type": "markdown",
      "metadata": {
        "id": "rs4pgeQ2315G",
        "colab_type": "text"
      },
      "source": [
        "**Ex3.** O Último Teorema de Fermat's diz que não existem inteiros positivos $ a, b$ e $c $, tais que: \n",
        "\n",
        "$$ a^n + b^n = c^n $$\n",
        "\n",
        "para qualquer $ n > 2 $. O Teorema de Pitágoras implica no caso em que $ n=2 $ e existe solução.\n",
        "\n",
        "Infelizmente Fermat's não pode provar o seu Teorema. Recentemente o matemático Andrew Wiles's apresentou uma prova (2016) que lhe rendeu o Prêmio Abel. \n",
        "\n",
        "Escreva uma função **checa_fermat** que recebe $a,b,c \\in \\mathbb{Z}$ e $n \\in \\mathbb{N}$ e imprime \"Fermat estava errado!\" se a condição do teorema é satisfeita, e imprime \"Não é que o Fermat estava certo...\" caso contrário. "
      ]
    },
    {
      "cell_type": "code",
      "metadata": {
        "id": "2ikY6fqA8eQB",
        "colab_type": "code",
        "colab": {}
      },
      "source": [
        "# Escreva aqui\n"
      ],
      "execution_count": 0,
      "outputs": []
    },
    {
      "cell_type": "markdown",
      "metadata": {
        "id": "tv_G2aQx9u18",
        "colab_type": "text"
      },
      "source": [
        "**Ex4.** Escreva um programa que recebe três números $ a,b$ e $c$ e imprime quem é o maior deles. Por exemplo se $ c=10, a=5 $ e $ b=2 $ o programa deve imprimir \"O número c é o maior\". "
      ]
    },
    {
      "cell_type": "code",
      "metadata": {
        "id": "24fTV1sp-giH",
        "colab_type": "code",
        "colab": {}
      },
      "source": [
        "# Escreva aqui\n"
      ],
      "execution_count": 0,
      "outputs": []
    },
    {
      "cell_type": "markdown",
      "metadata": {
        "id": "DTUF-Xj9kWaP",
        "colab_type": "text"
      },
      "source": [
        "**Ex5.** Escreva uma função **tipo_triangulo** que recebe três números $a,b$ e $c$ e verificar se é possível desenhar um triângulo com esses valores e imprime o tipo do triângulo quanto aos seus lados (equilátero, isósceles ou escaleno). **Dica:** Em um triângulo o comprimento de um dos lados é sempre inferior à soma dos comprimentos dos outros dois lados."
      ]
    },
    {
      "cell_type": "code",
      "metadata": {
        "id": "rmr8Y9E1mW5O",
        "colab_type": "code",
        "colab": {}
      },
      "source": [
        "# Escreva aqui\n"
      ],
      "execution_count": 0,
      "outputs": []
    },
    {
      "cell_type": "markdown",
      "metadata": {
        "id": "F9Jg3ASUnnHp",
        "colab_type": "text"
      },
      "source": [
        "**Ex6.** O IMC (indice de massa corpórea) é uma medida internacional usada para calcular se uma pessoa está no peso ideal. Dados o peso $p$ e a altura $h$ de uma pessoa, caalcula-se o IMC por $IMC = \\frac{p}{h^2}$. Escreva uma função **calcula_imc** que recebe o peso e altura da pessoa e imprime sua condição de acordo com a tabela abaixo:\n",
        "\n",
        "| &nbsp; | &nbsp; |\n",
        "| ------- | ----- |\n",
        "|**IMC**| **Condição** |\n",
        "|IMC Abaixo de 18,5| Abaixo do peso|\n",
        "|IMC Entre 18,5 e 25| Peso normal|\n",
        "|IMC Entre 25 e 30 |Acima do peso|\n",
        "|IMC Acima de 30| obeso |\n",
        "|||\n",
        "\n",
        "<center><b>Tab-2.</b> Tabela do índice IMC.</center>"
      ]
    },
    {
      "cell_type": "code",
      "metadata": {
        "id": "vJv7MZSvrce_",
        "colab_type": "code",
        "colab": {}
      },
      "source": [
        "# Escreva aqui\n"
      ],
      "execution_count": 0,
      "outputs": []
    },
    {
      "cell_type": "markdown",
      "metadata": {
        "id": "8Cf5LZRusFps",
        "colab_type": "text"
      },
      "source": [
        "**Ex7.** Faça um programa que recebe um número $ n $ e diz qual o dia da semana correspondente ao número. Por exemplo, quando $n=1$ imprimir segunda e assim sucessivamente."
      ]
    },
    {
      "cell_type": "code",
      "metadata": {
        "id": "bLYju2O3sWMF",
        "colab_type": "code",
        "colab": {}
      },
      "source": [
        "# Escreva aqui\n"
      ],
      "execution_count": 0,
      "outputs": []
    },
    {
      "cell_type": "markdown",
      "metadata": {
        "id": "cpK9OTbntkZE",
        "colab_type": "text"
      },
      "source": [
        "**Ex8.** Uma grande loja de calçados resolveu reajustar os valores dos funcionários. Para isso eles precisam de uma função **reajusta_salario** que receba o salário do funcionário e faça os reajustes com o seguinte critério:\n",
        "\n",
        "\n",
        "1. Salários até R$\\$$280,00 reais: aumento de 22%\n",
        "\n",
        "2. Salários entre R$\\$$280,00 e R$\\$$700: aumento de 18%\n",
        "\n",
        "3. Salários entre R$\\$$700,00 e R$\\$$1500,00: aumento de 8%\n",
        "\n",
        "4. Salários de R$\\$$1500,00 em diante recebem um aumento de 6%.\n",
        "\n",
        "Ao final a função deve exibir: O Salário antes do reajuste, o valor de reajuste, o aumento concedido e o salário após o reajuste.\n"
      ]
    },
    {
      "cell_type": "code",
      "metadata": {
        "id": "tSic1NKzvUST",
        "colab_type": "code",
        "colab": {}
      },
      "source": [
        "# Escreva aqui\n"
      ],
      "execution_count": 0,
      "outputs": []
    },
    {
      "cell_type": "markdown",
      "metadata": {
        "id": "IuDz38pQwhU6",
        "colab_type": "text"
      },
      "source": [
        "**Ex9.** Leia dois valores $ (x,y) $ que representam um ponto no plano cartesiano. Escreva um programa que determina em qual dos possíveis quatro quadrantes o ponto está:\n",
        "\n",
        "<p align=\"center\"> \n",
        "<img width=350px src=\"https://static.todamateria.com.br/upload/57/e3/57e327cf7950a-plano-cartesiano.jpg\">\n",
        "</p>\n",
        "\n",
        "Caso quaisquer dos pontos estejam sobre um dos eixos, o programa deve exibir \"Eixo x\" se o ponto $x=0$ e \"Eixo y\" se $y=0$. Se os pontos estiverem na origem, o programa deve exibir a mensagem \"Origem\". "
      ]
    },
    {
      "cell_type": "code",
      "metadata": {
        "id": "9icHqfSkx4iP",
        "colab_type": "code",
        "colab": {}
      },
      "source": [
        "# Escreva aqui\n"
      ],
      "execution_count": 0,
      "outputs": []
    },
    {
      "cell_type": "markdown",
      "metadata": {
        "id": "Lvp6hv772EHc",
        "colab_type": "text"
      },
      "source": [
        "**Ex10.** Escreva um programa que recebe três números $ a,b $ e $c$ e imprime os números em ordem. Por exemplo, se o programa receber $a=2$, $b=8$ e $c=1$, deve imprimir a \"Ordem é c < a < b\". **Dica:** O número de permutações de $n$ objetos distintos é $n!$."
      ]
    },
    {
      "cell_type": "code",
      "metadata": {
        "id": "7UnOq6QR5k9X",
        "colab_type": "code",
        "colab": {}
      },
      "source": [
        "# Escreva aqui\n"
      ],
      "execution_count": 0,
      "outputs": []
    }
  ]
}