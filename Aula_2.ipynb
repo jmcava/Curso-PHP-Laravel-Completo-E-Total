{
  "nbformat": 4,
  "nbformat_minor": 0,
  "metadata": {
    "colab": {
      "name": "Aula-2.ipynb",
      "provenance": [],
      "collapsed_sections": [],
      "include_colab_link": true
    },
    "kernelspec": {
      "name": "python3",
      "display_name": "Python 3"
    }
  },
  "cells": [
    {
      "cell_type": "markdown",
      "metadata": {
        "id": "view-in-github",
        "colab_type": "text"
      },
      "source": [
        "<a href=\"https://colab.research.google.com/github/jmcava/Curso-PHP-Laravel-Completo-E-Total/blob/master/Aula_2.ipynb\" target=\"_parent\"><img src=\"https://colab.research.google.com/assets/colab-badge.svg\" alt=\"Open In Colab\"/></a>"
      ]
    },
    {
      "cell_type": "markdown",
      "metadata": {
        "id": "_q2z64bNkI5k",
        "colab_type": "text"
      },
      "source": [
        "<p align=\"center\"> \n",
        "<img src=\"https://datascience.study/wp-content/uploads/2019/01/python-logo.png\">\n",
        "</p>\n",
        "\n",
        "## Funções\n",
        "\n",
        "Funções são essenciais na vida de um programador. Uma *função* é uma sequência de instruções que executa alguma computação, que ao serem \"chamadas\" podem \"retornar\" valores ou não (nesse segundo caso, também chamadas de procedimentos).\n"
      ]
    },
    {
      "cell_type": "markdown",
      "metadata": {
        "id": "m4c3-1BJv5ew",
        "colab_type": "text"
      },
      "source": [
        "### Chamada de funções\n",
        "\n",
        "Anteriormente já tivemos contato com funções, o **print** e o **type** são funções Python.\n"
      ]
    },
    {
      "cell_type": "code",
      "metadata": {
        "id": "sIc3sWkOkHh3",
        "colab_type": "code",
        "outputId": "fb471675-2cbf-403b-dd9e-0207c73b961b",
        "colab": {
          "base_uri": "https://localhost:8080/",
          "height": 74
        }
      },
      "source": [
        "# Relembrando...\n",
        "print(type(42))"
      ],
      "execution_count": 0,
      "outputs": [
        {
          "output_type": "stream",
          "text": [
            "<class 'int'>\n"
          ],
          "name": "stdout"
        }
      ]
    },
    {
      "cell_type": "markdown",
      "metadata": {
        "id": "5tYgYp4Vmy1K",
        "colab_type": "text"
      },
      "source": [
        "O nome de uma **função** é o identificador que usamos para chamá-la, por exemplo **print** e **type** são nomes de funções. O que passamos dentro dos parênteses de uma função é chamado de **argumento da função**. O resultado da função **type** é o tipo do **argumento** passado.\n",
        "\n",
        "É comum dizer que uma **função** recebe um **argumento** (pode receber mais de um) e retorna um resultado. O resultado é também chamado de **retun value**.\n",
        "\n",
        "O Python fornece por exemplo, funções para converter valores de um tipo para outro."
      ]
    },
    {
      "cell_type": "code",
      "metadata": {
        "id": "RsnsakDcm3G_",
        "colab_type": "code",
        "outputId": "14c8ab36-b022-4d61-d0f3-76b438a2b08f",
        "colab": {
          "base_uri": "https://localhost:8080/",
          "height": 74
        }
      },
      "source": [
        "# A função int recebe um argumento e tenta converte-lo para inteiro\n",
        "print(int('32'))"
      ],
      "execution_count": 0,
      "outputs": [
        {
          "output_type": "stream",
          "text": [
            "32\n"
          ],
          "name": "stdout"
        }
      ]
    },
    {
      "cell_type": "code",
      "metadata": {
        "id": "JW5pG5uInGTl",
        "colab_type": "code",
        "outputId": "cda34447-35e1-41aa-c7f6-25782c2401d5",
        "colab": {
          "base_uri": "https://localhost:8080/",
          "height": 74
        }
      },
      "source": [
        "# Podemos converter números reais também (nesse caso o int realiza uma operação matemática chamada piso)\n",
        "print(int(3.94))"
      ],
      "execution_count": 0,
      "outputs": [
        {
          "output_type": "stream",
          "text": [
            "3\n"
          ],
          "name": "stdout"
        }
      ]
    },
    {
      "cell_type": "code",
      "metadata": {
        "id": "pewlOO9YnGle",
        "colab_type": "code",
        "outputId": "4162f420-1b82-413d-a4e7-09f3c4fd08a5",
        "colab": {
          "base_uri": "https://localhost:8080/",
          "height": 74
        }
      },
      "source": [
        "# Existe a função float que converte o argumento recebido para um float\n",
        "print(float('32.5687'))"
      ],
      "execution_count": 0,
      "outputs": [
        {
          "output_type": "stream",
          "text": [
            "32.5687\n"
          ],
          "name": "stdout"
        }
      ]
    },
    {
      "cell_type": "code",
      "metadata": {
        "id": "-40MFPYNnIvD",
        "colab_type": "code",
        "outputId": "d3b8489a-d1dc-4c0e-ab32-629bd865d5a6",
        "colab": {
          "base_uri": "https://localhost:8080/",
          "height": 74
        }
      },
      "source": [
        "# Também podemos converter inteiros para reais\n",
        "print(float(35))"
      ],
      "execution_count": 0,
      "outputs": [
        {
          "output_type": "stream",
          "text": [
            "35.0\n"
          ],
          "name": "stdout"
        }
      ]
    },
    {
      "cell_type": "code",
      "metadata": {
        "id": "3TsJASlpnKDq",
        "colab_type": "code",
        "outputId": "8b063f49-d824-4091-fd5a-6673e5a13c43",
        "colab": {
          "base_uri": "https://localhost:8080/",
          "height": 74
        }
      },
      "source": [
        "# Podemos converter valores em Strings também\n",
        "print(str(32.56789))"
      ],
      "execution_count": 0,
      "outputs": [
        {
          "output_type": "stream",
          "text": [
            "32.56789\n"
          ],
          "name": "stdout"
        }
      ]
    },
    {
      "cell_type": "code",
      "metadata": {
        "id": "hDSyhcOZnMN9",
        "colab_type": "code",
        "outputId": "0639966f-8a1b-4ff7-b95c-97a8e0ea399f",
        "colab": {
          "base_uri": "https://localhost:8080/",
          "height": 74
        }
      },
      "source": [
        "# Também funciona com inteiros\n",
        "print(str(34))"
      ],
      "execution_count": 0,
      "outputs": [
        {
          "output_type": "stream",
          "text": [
            "34\n"
          ],
          "name": "stdout"
        }
      ]
    },
    {
      "cell_type": "markdown",
      "metadata": {
        "id": "Ml8KUC8PnMls",
        "colab_type": "text"
      },
      "source": [
        "Strings são recursos muito utilizados em linguagem de programação, elas possuem um capítulo dedicado apenas para elas, que vamos ver mais a frente.\n",
        "\n",
        "### Funções Matemáticas\n",
        "\n",
        "O Python fornece um ótimo modulo para funções matemáticas. Um **modulo** Python é um arquivo que contém uma coleção de funções relacionadas. \n",
        "\n",
        "Antes de usar as funções fornecidas nos modulos, é necessário carregar o modulo. Importamos um pacote em Python a partir de uma chamada **import**."
      ]
    },
    {
      "cell_type": "code",
      "metadata": {
        "id": "bam8Xo7PnWBE",
        "colab_type": "code",
        "colab": {}
      },
      "source": [
        "import math"
      ],
      "execution_count": 0,
      "outputs": []
    },
    {
      "cell_type": "markdown",
      "metadata": {
        "id": "Tn7UL8XtnZWA",
        "colab_type": "text"
      },
      "source": [
        "Essa chamada cria um **objeto** para o **módulo** com o nome math. Você pode obter informações do **módulo** passando ele para a função **print**:"
      ]
    },
    {
      "cell_type": "code",
      "metadata": {
        "id": "TlaFA5ssngqJ",
        "colab_type": "code",
        "outputId": "40cd5efc-031c-4faf-e48f-1bd5f033cb0a",
        "colab": {
          "base_uri": "https://localhost:8080/",
          "height": 74
        }
      },
      "source": [
        "# Imprimindo informações sobre o modulo math\n",
        "print(math)"
      ],
      "execution_count": 0,
      "outputs": [
        {
          "output_type": "stream",
          "text": [
            "<module 'math' (built-in)>\n"
          ],
          "name": "stdout"
        }
      ]
    },
    {
      "cell_type": "markdown",
      "metadata": {
        "id": "K1BclkoZnjl2",
        "colab_type": "text"
      },
      "source": [
        "O **objeto** do **módulo** contém variáveis e funções definidas no módulo. Para acessar alguma dessas funções, você precisa especificar o nome do módulo e da função, separados por um ponto."
      ]
    },
    {
      "cell_type": "code",
      "metadata": {
        "id": "o2SfJIDInoI0",
        "colab_type": "code",
        "outputId": "1ae6056e-2824-4f55-9fba-963e394b89a9",
        "colab": {
          "base_uri": "https://localhost:8080/",
          "height": 74
        }
      },
      "source": [
        "# Valor em radianos para calcular o seno\n",
        "radianos = 0.7\n",
        "\n",
        "# Chamada da função sin passando radianos como argumento\n",
        "seno = math.sin(radianos)\n",
        "print(seno)"
      ],
      "execution_count": 0,
      "outputs": [
        {
          "output_type": "stream",
          "text": [
            "0.644217687237691\n"
          ],
          "name": "stdout"
        }
      ]
    },
    {
      "cell_type": "markdown",
      "metadata": {
        "id": "siK3OFwJnso0",
        "colab_type": "text"
      },
      "source": [
        "As funções trigonométricas do modulo math só funcionam com valores em radianos. Para usarmos valores em graus, é necessário convertê-los para radianos, o que é bem fácil (já vimos uma forma aproximada em exercícios anteriores):"
      ]
    },
    {
      "cell_type": "code",
      "metadata": {
        "id": "80tGLvtBn0Dm",
        "colab_type": "code",
        "outputId": "ef8c4ff1-e657-4204-fb8f-c02f0da994ae",
        "colab": {
          "base_uri": "https://localhost:8080/",
          "height": 74
        }
      },
      "source": [
        "# Valor em grau\n",
        "grau = 45\n",
        "\n",
        "# Convertendo (repare na chamada de pi, ele é uma variável do modulo math, acessamos através do .)\n",
        "grau_em_radianos = grau / 180 * math.pi\n",
        "\n",
        "# Apresentando o seno\n",
        "print(math.sin(grau_em_radianos))"
      ],
      "execution_count": 0,
      "outputs": [
        {
          "output_type": "stream",
          "text": [
            "0.7071067811865475\n"
          ],
          "name": "stdout"
        }
      ]
    },
    {
      "cell_type": "markdown",
      "metadata": {
        "id": "1yWS306Un1Wr",
        "colab_type": "text"
      },
      "source": [
        "### Composição\n",
        "\n",
        "Até o momento estudamos alguns elementos de programação em separado, porém, um programa provavelmente vai ter uma combinação deles.\n",
        "\n",
        "Uma grande habilidade de linguagens de programação é poder combinar pequenas porções de código para produzir resultados. Por exemplo, o argumento de uma função pode ser qualquer tipo de expressão, incluindo operadores aritméticos:"
      ]
    },
    {
      "cell_type": "code",
      "metadata": {
        "id": "Sle5ORG2n6Tz",
        "colab_type": "code",
        "outputId": "7182d096-9001-4f05-da7b-03589cc2e2ce",
        "colab": {
          "base_uri": "https://localhost:8080/",
          "height": 74
        }
      },
      "source": [
        "# Valor em grau\n",
        "grau = 45\n",
        "x = math.sin(grau / 360.0 * 2 * math.pi)\n",
        "print(x)"
      ],
      "execution_count": 0,
      "outputs": [
        {
          "output_type": "stream",
          "text": [
            "0.7071067811865475\n"
          ],
          "name": "stdout"
        }
      ]
    },
    {
      "cell_type": "markdown",
      "metadata": {
        "id": "VSwxnXhwn8qk",
        "colab_type": "text"
      },
      "source": [
        "Podemos também chamar funções e passar o resultado como argumento para outras funções:"
      ]
    },
    {
      "cell_type": "code",
      "metadata": {
        "id": "_dFWzuUgoF6v",
        "colab_type": "code",
        "outputId": "97d01315-b0df-40d2-fcea-ced5911a8d62",
        "colab": {
          "base_uri": "https://localhost:8080/",
          "height": 74
        }
      },
      "source": [
        "# Valor em grau\n",
        "grau = 45\n",
        "x = math.sin(grau / 360.0 * 2 * math.pi)\n",
        "x = math.exp(math.log(x+1))\n",
        "print(x)"
      ],
      "execution_count": 0,
      "outputs": [
        {
          "output_type": "stream",
          "text": [
            "1.7071067811865475\n"
          ],
          "name": "stdout"
        }
      ]
    },
    {
      "cell_type": "markdown",
      "metadata": {
        "id": "MXJc31ldqyt5",
        "colab_type": "text"
      },
      "source": [
        "### Criando funções\n",
        "\n",
        "Como estamos utilizando notebooks do jupyter, podemos definir funções em uma célula e reutilizar em outras (isso vale para variáveis, imports e classes). Dessa forma, o conteúdo da célula fica disponivel durante a utilização do notebook, porém, o conteúdo precisa ser carregado toda vez que utilizamos o notebook novamente. Para evitar a repetição excessiva de código, vamos definir o conteúdo das células e reutilizar durante as aulas.\n",
        "\n",
        "Até o momento utilizamos funções que já vem implementadas no Python. Que tal criarmos as nossas? A **definição de uma função** especifica o nome da função e a sequência de operações que são realizadas ao serem chamadas."
      ]
    },
    {
      "cell_type": "code",
      "metadata": {
        "id": "3lYUlQu2q9wq",
        "colab_type": "code",
        "colab": {}
      },
      "source": [
        "# Definindo uma nova função em Python\n",
        "def print_myfun():\n",
        "    print('Estou aprendendo Python')\n",
        "    print('E estou achando demais!')"
      ],
      "execution_count": 0,
      "outputs": []
    },
    {
      "cell_type": "markdown",
      "metadata": {
        "id": "zOrBgKDirENi",
        "colab_type": "text"
      },
      "source": [
        "A palavra **def** é uma intrução Python utilizada para declarar uma nova função. O nome da função do nosso exemplo é **print_myfun**. As regras para nomear funções são as mesmas de variáveis. Os parênteses vazios indicam que nossa função não recebe argumentos. Declarar funções em python é muito simples:\n",
        "\n",
        "```python\n",
        "# o que vem após o def é chamado de header\n",
        "def nome_da_função(arg1, agr2, ..., argn):\n",
        "    # no body escrevemos o conteúdo da função\n",
        "    body\n",
        "```\n",
        "\n",
        "A primeira linha da função é chamada de **header** e pode ou não conter argumentos, tais como **arg1, agr2, ..., argn**  e o conteúdo da função é chamado de **body**. O **header** sempre termina com dois pontos, o **body** é <u>obrigatoriamente indentado</u> (caso contrário, você terá resultados indesejados ou mesmo erros). Por convenção a indentação no Python é sempre de **4 espaços**.\n",
        "\n",
        "Finalmente nós fazemos a chamada da função, que é idêntica as funções que vinhamos trabalhando."
      ]
    },
    {
      "cell_type": "code",
      "metadata": {
        "id": "luHQb1m5rPiz",
        "colab_type": "code",
        "outputId": "21c12172-ed6c-43b9-f758-623af902c31b",
        "colab": {
          "base_uri": "https://localhost:8080/",
          "height": 113
        }
      },
      "source": [
        "# Chamando nossa primeira função!!\n",
        "print_myfun()"
      ],
      "execution_count": 0,
      "outputs": [
        {
          "output_type": "stream",
          "text": [
            "Estou aprendendo Python\n",
            "E estou achando demais!\n"
          ],
          "name": "stdout"
        }
      ]
    },
    {
      "cell_type": "markdown",
      "metadata": {
        "id": "kfxYtcXRrSt6",
        "colab_type": "text"
      },
      "source": [
        "Uma vez que uma função tenha sido definida, podemos chama-la dentro de outras funções. Por exemplo, vamos criar uma função que chama **print_myfun** duas vezes:"
      ]
    },
    {
      "cell_type": "code",
      "metadata": {
        "id": "xn9vtOWKrVTJ",
        "colab_type": "code",
        "colab": {}
      },
      "source": [
        "# Função que chama print_myfun duas vezes\n",
        "def print_myfun_twice():\n",
        "    print_myfun()\n",
        "    print_myfun()"
      ],
      "execution_count": 0,
      "outputs": []
    },
    {
      "cell_type": "markdown",
      "metadata": {
        "id": "CcRUBU-qrX0-",
        "colab_type": "text"
      },
      "source": [
        "E chamamos **print_myfun_twice**:"
      ]
    },
    {
      "cell_type": "code",
      "metadata": {
        "id": "qe6Lral2rZyI",
        "colab_type": "code",
        "outputId": "c2687bf4-cf56-4c30-cafc-1a4fef84c545",
        "colab": {
          "base_uri": "https://localhost:8080/",
          "height": 146
        }
      },
      "source": [
        "# Chamando nossa função que repete duas vezes print_myfun!!\n",
        "print_myfun_twice()"
      ],
      "execution_count": 0,
      "outputs": [
        {
          "output_type": "stream",
          "text": [
            "Estou aprendendo Python\n",
            "E estou achando demais!\n",
            "Estou aprendendo Python\n",
            "E estou achando demais!\n"
          ],
          "name": "stdout"
        }
      ]
    },
    {
      "cell_type": "markdown",
      "metadata": {
        "id": "jFCd3Q3Vrbud",
        "colab_type": "text"
      },
      "source": [
        "Note que não é possível chamar uma função antes de defini-la, portanto, em Python funções precisam ser definidas **sempre** antes de serem chamadas.\n",
        "\n",
        "### Parâmetros e argumentos\n",
        "\n",
        "Algumas funções que vimos anteriormente precisam receber o que chamamos de **argumentos**. Por exemplo, ao chamar **math.sin** informamos como argumento um número. Algumas funções recebem mais de um **argumento**: a função **math.fun** recebe dois (base e expoente).\n",
        "\n",
        "Dentro da função os **argumentos** são atribuidos para variáveis chamadas **parâmetros**. Por exemplo, podemos definir uma função que imprime um parâmetro duas vezes:"
      ]
    },
    {
      "cell_type": "code",
      "metadata": {
        "id": "UskoMQGxsMmR",
        "colab_type": "code",
        "colab": {}
      },
      "source": [
        "def print_twice(valor):\n",
        "    print(valor)\n",
        "    print(valor)"
      ],
      "execution_count": 0,
      "outputs": []
    },
    {
      "cell_type": "markdown",
      "metadata": {
        "id": "6VR8A3xpsRfX",
        "colab_type": "text"
      },
      "source": [
        "A função **print_twice** recebe um argumento e atribui ele a variável de nome **valor**. Quando a **print_twice** é chamada ela imprime o argumento passado duas vezes. Note que o argumento passado pode ser qualquer valor."
      ]
    },
    {
      "cell_type": "code",
      "metadata": {
        "id": "zMHLPYMlsV4_",
        "colab_type": "code",
        "outputId": "ece77798-a9ed-4f7c-90d5-14caf29b9728",
        "colab": {
          "base_uri": "https://localhost:8080/",
          "height": 92
        }
      },
      "source": [
        "# Imprimindo duas vezes um nome\n",
        "print_twice('Python')"
      ],
      "execution_count": 0,
      "outputs": [
        {
          "output_type": "stream",
          "text": [
            "Python\n",
            "Python\n"
          ],
          "name": "stdout"
        }
      ]
    },
    {
      "cell_type": "code",
      "metadata": {
        "id": "zl83ihSEsXek",
        "colab_type": "code",
        "outputId": "3d83bb4a-fd6a-4e64-a877-1e8cb5090ee6",
        "colab": {
          "base_uri": "https://localhost:8080/",
          "height": 92
        }
      },
      "source": [
        "# Imprimindo duas vezes um inteiro\n",
        "print_twice(100)"
      ],
      "execution_count": 0,
      "outputs": [
        {
          "output_type": "stream",
          "text": [
            "100\n",
            "100\n"
          ],
          "name": "stdout"
        }
      ]
    },
    {
      "cell_type": "code",
      "metadata": {
        "id": "pEMPXbMnsZQ3",
        "colab_type": "code",
        "outputId": "d8e74dc0-1efa-4152-9da8-32a7e8463bea",
        "colab": {
          "base_uri": "https://localhost:8080/",
          "height": 92
        }
      },
      "source": [
        "# Imprimindo duas vezes um float\n",
        "print_twice(4.56789)"
      ],
      "execution_count": 0,
      "outputs": [
        {
          "output_type": "stream",
          "text": [
            "4.56789\n",
            "4.56789\n"
          ],
          "name": "stdout"
        }
      ]
    },
    {
      "cell_type": "markdown",
      "metadata": {
        "id": "iJVQhnxGsljl",
        "colab_type": "text"
      },
      "source": [
        "As regras de composição vistas anteriormente podem ser aplicadas em nossas funções também:"
      ]
    },
    {
      "cell_type": "code",
      "metadata": {
        "id": "SBfMRqwEsolw",
        "colab_type": "code",
        "outputId": "ba163118-7c96-42d3-a488-3a63fb374387",
        "colab": {
          "base_uri": "https://localhost:8080/",
          "height": 92
        }
      },
      "source": [
        "# Imprimindo duas vezes uma mensagem repetida\n",
        "print_twice('Oi eu sou a Dory e sofro de perda de memória recente. '*3)"
      ],
      "execution_count": 0,
      "outputs": [
        {
          "output_type": "stream",
          "text": [
            "Oi eu sou a Dory e sofro de perda de memória recente. Oi eu sou a Dory e sofro de perda de memória recente. Oi eu sou a Dory e sofro de perda de memória recente. \n",
            "Oi eu sou a Dory e sofro de perda de memória recente. Oi eu sou a Dory e sofro de perda de memória recente. Oi eu sou a Dory e sofro de perda de memória recente. \n"
          ],
          "name": "stdout"
        }
      ]
    },
    {
      "cell_type": "code",
      "metadata": {
        "id": "nuueoDl7sqKN",
        "colab_type": "code",
        "outputId": "c4ee7883-a2f8-4983-e67e-ab8f2087fcb4",
        "colab": {
          "base_uri": "https://localhost:8080/",
          "height": 92
        }
      },
      "source": [
        "# Passando o resultado de uma função\n",
        "print_twice(math.cos(math.pi))"
      ],
      "execution_count": 0,
      "outputs": [
        {
          "output_type": "stream",
          "text": [
            "-1.0\n",
            "-1.0\n"
          ],
          "name": "stdout"
        }
      ]
    },
    {
      "cell_type": "code",
      "metadata": {
        "id": "RbfeuBHTsrcJ",
        "colab_type": "code",
        "outputId": "18f4b20a-7760-4d30-e523-f3a35dffaf14",
        "colab": {
          "base_uri": "https://localhost:8080/",
          "height": 92
        }
      },
      "source": [
        "# Uma variável também pode ser um parâmetro\n",
        "mensagem = 'Oi eu sou a Dory e sofro de perda de memória recente.'\n",
        "print_twice(mensagem)"
      ],
      "execution_count": 0,
      "outputs": [
        {
          "output_type": "stream",
          "text": [
            "Oi eu sou a Dory e sofro de perda de memória recente.\n",
            "Oi eu sou a Dory e sofro de perda de memória recente.\n"
          ],
          "name": "stdout"
        }
      ]
    },
    {
      "cell_type": "markdown",
      "metadata": {
        "id": "0ymRRMMGsup0",
        "colab_type": "text"
      },
      "source": [
        "Note que a variável **mensagem** é passada como argumento para a função **print_twice**, porém, dentro de **print_twice** o conteúdo da variável **mensagem** está atribuido a variável **valor**. Dizemos que valor está **restrito** ao escopo da função.\n",
        "\n",
        "### Escopo de função\n",
        "\n",
        "Por padrão o escopo das funções em Python é local. Isso significa que as variáveis e parâmetros que estáo dentro da função só existem dentro dela e **não** podem ser acessados fora da função. Por exemplo, considere a função abaixo **cat_twice**."
      ]
    },
    {
      "cell_type": "code",
      "metadata": {
        "id": "k75MP6FFs5cA",
        "colab_type": "code",
        "colab": {}
      },
      "source": [
        "def cat_twice(value1, value2):\n",
        "    cat = value1 + value2\n",
        "    print_twice(cat)"
      ],
      "execution_count": 0,
      "outputs": []
    },
    {
      "cell_type": "markdown",
      "metadata": {
        "id": "NnkVl1OTs9H4",
        "colab_type": "text"
      },
      "source": [
        "Agora chamamos **cat_twice**:"
      ]
    },
    {
      "cell_type": "code",
      "metadata": {
        "id": "7_LdhlthtCTx",
        "colab_type": "code",
        "outputId": "70ac606f-2869-41c9-9bcb-a978afec916f",
        "colab": {
          "base_uri": "https://localhost:8080/",
          "height": 113
        }
      },
      "source": [
        "# Vamos concatenar line1 e line2 e depois imprimir duas vezes através de print_twice\n",
        "line1 = 'Hey oh! '\n",
        "line2 = 'Lets go!'\n",
        "cat_twice(line1, line2)"
      ],
      "execution_count": 0,
      "outputs": [
        {
          "output_type": "stream",
          "text": [
            "Hey oh! Lets go!\n",
            "Hey oh! Lets go!\n"
          ],
          "name": "stdout"
        }
      ]
    },
    {
      "cell_type": "markdown",
      "metadata": {
        "id": "E8zVJRPDtKBl",
        "colab_type": "text"
      },
      "source": [
        "Após **cat_twice** terminar a chamada, os argumentos **value1**, **value2** e a variável **cat** são destruídos."
      ]
    },
    {
      "cell_type": "code",
      "metadata": {
        "id": "K2PX1ROGtMta",
        "colab_type": "code",
        "colab": {}
      },
      "source": [
        "# Tente imprimir value1, value2 ou cat e vejam que eles não existem fora do escopo de cat_twice\n",
        "print(value1)\n",
        "print(value2)\n",
        "print(cat)"
      ],
      "execution_count": 0,
      "outputs": []
    },
    {
      "cell_type": "markdown",
      "metadata": {
        "id": "49CCAxYltfmh",
        "colab_type": "text"
      },
      "source": [
        "### Tipos de funções\n",
        "\n",
        "Basicamente podemos agrupar as funções em dois tipos: **funções úteis** e **funções voids**. As **funções úteis** são aquelas que retornam algum resultado. Enquanto as voids são aquelas que não retornam resultados (também chamadas de procedimentos). Um exemplo de função void é a **cat_twice**, ela é executada, mas não retorna nada.\n",
        "\n",
        "As funções do módulo math são na sua maioria funções úteis, até mesmo porque esperamos utilizar o retorno de alguma forma:"
      ]
    },
    {
      "cell_type": "code",
      "metadata": {
        "id": "8IqXD29rtpWR",
        "colab_type": "code",
        "colab": {}
      },
      "source": [
        "# Calculando a tangente de um ângulo agudo\n",
        "angulo = 0.7\n",
        "seno = math.sin(angulo)\n",
        "cosseno = math.cos(angulo)\n",
        "tangente = seno/cosseno\n",
        "\n",
        "# Imprimindo a tangente\n",
        "print(tangente)"
      ],
      "execution_count": 0,
      "outputs": []
    },
    {
      "cell_type": "markdown",
      "metadata": {
        "id": "_MV3sA2xa-pj",
        "colab_type": "text"
      },
      "source": [
        "Uma função retorna valores com uso da palavra reservada **return**  do python. Por exemplo, uma função que calcula a área do círculo $a=\\pi r^2 $ dado o seu raio $r$:"
      ]
    },
    {
      "cell_type": "code",
      "metadata": {
        "id": "1Dvozb_qbNfl",
        "colab_type": "code",
        "colab": {}
      },
      "source": [
        "def area_circulo(r):\n",
        "    return math.pi * r**2\n",
        "\n",
        "# Um raio qualquer\n",
        "r = 10\n",
        "print('A área do círculo é', area_circulo(r))"
      ],
      "execution_count": 0,
      "outputs": []
    },
    {
      "cell_type": "markdown",
      "metadata": {
        "id": "pit2QP1OtsDH",
        "colab_type": "text"
      },
      "source": [
        "Apesar de funções voids não retornarem valor, nós podemos atribuir sua chamada em uma varíavel e veremos que ela vai retornar um tipo especial do Python, o **None** (o **None** pode ser visto como o null do Python):"
      ]
    },
    {
      "cell_type": "code",
      "metadata": {
        "id": "zCgCUVU3tvr9",
        "colab_type": "code",
        "outputId": "befda812-7bc0-4166-cef8-215b5c244d4b",
        "colab": {
          "base_uri": "https://localhost:8080/",
          "height": 107
        }
      },
      "source": [
        "# Armazenando a chamada de print_twice\n",
        "result = print_twice('Vou retornar vazio')\n",
        "\n",
        "# Imprimindo o resultado da chamada\n",
        "print(result)"
      ],
      "execution_count": 0,
      "outputs": [
        {
          "output_type": "stream",
          "text": [
            "Vou retornar vazio\n",
            "Vou retornar vazio\n",
            "None\n"
          ],
          "name": "stdout"
        }
      ]
    },
    {
      "cell_type": "markdown",
      "metadata": {
        "id": "HzhPcgSdLJr1",
        "colab_type": "text"
      },
      "source": [
        "### Parâmetros opcionais\n",
        "\n",
        "Quando declaramos funções em Python podemos trabalhar com o que chamamos de **parâmetros opcionais**, ou **parâmetros default**. Dizemos opcionais, pois, escolhemos algum valor padrão e o usuário se desejar modifica esse valor durante a chamada. Por exemplo, considere uma função que cria uma conta de usuário sem obrigar o usuário a informar uma senha:"
      ]
    },
    {
      "cell_type": "code",
      "metadata": {
        "id": "xNMTSFAzM1oc",
        "colab_type": "code",
        "outputId": "a6e1bb86-0057-467c-da81-167c6cd9be76",
        "colab": {
          "base_uri": "https://localhost:8080/",
          "height": 191
        }
      },
      "source": [
        "def cria_usuario(usuario, senha='1234'):\n",
        "    \n",
        "    # Informa o nome e a senha do usuário para confirmar\n",
        "    print('Usuário: ',usuario)\n",
        "    print('Senha: '  ,senha)\n",
        "    print('Criando usuário...\\n')    \n",
        "    \n",
        "    # Seta alguma flag indicando que o usuário está usando a senha padrão (ou não)\n",
        "    \n",
        "    # Roda rotinas de criar usuário   \n",
        "    \n",
        "# Podemos chamar cria usuário sem passar nenhuma senha\n",
        "usuario = 'Darth Vader'\n",
        "cria_usuario(usuario)\n",
        "\n",
        "# Podemos chamar cria usuário passando uma senha\n",
        "cria_usuario(usuario, '@123h1b2ygdasdjabsdh')"
      ],
      "execution_count": 0,
      "outputs": [
        {
          "output_type": "stream",
          "text": [
            "Usuário:  Darth Vader\n",
            "Senha:  1234\n",
            "Criando usuário...\n",
            "\n",
            "Usuário:  Darth Vader\n",
            "Senha:  @123h1b2ygdasdjabsdh\n",
            "Criando usuário...\n",
            "\n"
          ],
          "name": "stdout"
        }
      ]
    },
    {
      "cell_type": "markdown",
      "metadata": {
        "id": "EMcWMbTwOES0",
        "colab_type": "text"
      },
      "source": [
        "Podemos ter quantos parâmetros opcionais desejarmos, porém, os parâmetros opcionais sempre são declarados no header da função **depois** dos parâmetros obrigatórios. Por exemplo, na função **cria_usuario** o argumento usuario deve vir antes de senha, pois, usuario não é um parâmetro opcional."
      ]
    },
    {
      "cell_type": "markdown",
      "metadata": {
        "id": "SO3TAojlR3xK",
        "colab_type": "text"
      },
      "source": [
        "### Funções Anônimas (Lambda)\n",
        "\n",
        "Em Python existe um tipo de função chamada de **função anônima** muitas vezes referida como **funções lambda**. Esse tipo de função não exige uma declaração inicial e não necessita de um nome, sendo utilizada como uma opção as funções declaradas com def. Por exemplo considere uma função que calcula o quadrado de um número:"
      ]
    },
    {
      "cell_type": "code",
      "metadata": {
        "id": "bPm42xdrVXFv",
        "colab_type": "code",
        "outputId": "1ebf4e70-c7d4-4833-c01a-6eee412327cd",
        "colab": {
          "base_uri": "https://localhost:8080/",
          "height": 74
        }
      },
      "source": [
        "def quadrado(x):\n",
        "    return x*x\n",
        "\n",
        "valor = 10\n",
        "print('O quadrado de',valor,'é',quadrado(valor))"
      ],
      "execution_count": 0,
      "outputs": [
        {
          "output_type": "stream",
          "text": [
            "O quadrado de 10 é 100\n"
          ],
          "name": "stdout"
        }
      ]
    },
    {
      "cell_type": "markdown",
      "metadata": {
        "id": "E4O9Acr9WGQz",
        "colab_type": "text"
      },
      "source": [
        "Podemos obter uma versão anônima dela usando o operador **lambda** do python:"
      ]
    },
    {
      "cell_type": "code",
      "metadata": {
        "id": "ZeRlp3xEWJLs",
        "colab_type": "code",
        "outputId": "f377ff21-0d94-4085-e609-13aa7eaf7f83",
        "colab": {
          "base_uri": "https://localhost:8080/",
          "height": 74
        }
      },
      "source": [
        "quadrado = lambda x: x*x\n",
        "\n",
        "# Um valor qualquer\n",
        "valor = 10\n",
        "print('O quadrado de',valor,'é',quadrado(valor))"
      ],
      "execution_count": 0,
      "outputs": [
        {
          "output_type": "stream",
          "text": [
            "O quadrado de 10 é 100\n"
          ],
          "name": "stdout"
        }
      ]
    },
    {
      "cell_type": "markdown",
      "metadata": {
        "id": "0GI0iqaVWpT6",
        "colab_type": "text"
      },
      "source": [
        "O formato do lambda no python é bem simples: \n",
        "\n",
        "```python\n",
        "lambda arg1, arg2, ..., argn: body\n",
        "```\n",
        "\n",
        "onde **arg1, arg2, ..., agrn** são argumentos da função e **body** é o código executado ao chamar a função. Faça uma função lambda que imprime o cubo de um valor recebido por parâmetro."
      ]
    },
    {
      "cell_type": "code",
      "metadata": {
        "id": "O31G5zkIYymC",
        "colab_type": "code",
        "outputId": "6c401a08-cd18-4139-f7db-96600844a9d9",
        "colab": {
          "base_uri": "https://localhost:8080/",
          "height": 94
        }
      },
      "source": [
        "# Escreva aqui\n",
        "cubo = lambda x: x**3\n",
        "\n",
        "# Um valor qualquer\n",
        "valor = 10\n",
        "print('O cubo de',valor,'é',cubo(valor))"
      ],
      "execution_count": 0,
      "outputs": [
        {
          "output_type": "stream",
          "text": [
            "O cubo de 10 é 1000\n"
          ],
          "name": "stdout"
        }
      ]
    },
    {
      "cell_type": "markdown",
      "metadata": {
        "id": "xMJmj0ictyEN",
        "colab_type": "text"
      },
      "source": [
        "### Por que utilizar funções?\n",
        "\n",
        "Se você não está convencido que funções são um recurso necessário na vida do desenvolvedor, aí vão alguns motivos:\n",
        "\n",
        "* Funções tornam seu código mais legível e quebram a complexidade de um programa em partes menores, além de evitar a repetição.\n",
        "\n",
        "* Eliminar a repetição ajuda na manutenção do seu código, imagina mudar um trecho de código e ter que fazer isso no seu código todo!!\n",
        "\n",
        "* Dividir os problemas em funções auxilia a eliminar bugs e fazer testes isolados.\n",
        "\n",
        "* Funções bem escritas podem ser reutilizadas quantas vezes quisermos, o modulo math é um exemplo disso."
      ]
    },
    {
      "cell_type": "markdown",
      "metadata": {
        "id": "zrEI59sfOm3S",
        "colab_type": "text"
      },
      "source": [
        "### Exercícios\n",
        "\n",
        "**Ex1.** Escreva uma função chamada **right_align** que recebe como parâmetro uma String chamada **msg** e imprime a String com um número necessário de espaços em branco, para o último caractere de **msg** aparecer na coluna 70 do display.\n",
        "\n",
        "Use a função para repetir strings do python (operador $*$ seguido do número de repetições). Para imprimir o conteúdo com o último caractere na posição 70 você vai precisar saber quantas letras existem em **msg**, você pode fazer isso através da função **len** do python, por exemplo **len('abc')** vai retornar $3$. Depois basta concatenar a repetição com **msg** e imprimir no display. Se chamarmos **right_align('Funções')**, deve aparecer algo como a seguir:\n",
        "\n",
        "                                                                           Funções"
      ]
    },
    {
      "cell_type": "code",
      "metadata": {
        "id": "6DD2aRgvPDbp",
        "colab_type": "code",
        "outputId": "5805add8-db08-4fbc-dfd3-3a7e12884c0a",
        "colab": {
          "base_uri": "https://localhost:8080/",
          "height": 54
        }
      },
      "source": [
        "# Escreva aqui\n",
        "def right_align(msg):\n",
        "    print(' '*(70-len(msg))+msg)\n",
        "    \n",
        "right_align('Funções')"
      ],
      "execution_count": 0,
      "outputs": [
        {
          "output_type": "stream",
          "text": [
            "                                                               Funções\n"
          ],
          "name": "stdout"
        }
      ]
    },
    {
      "cell_type": "markdown",
      "metadata": {
        "id": "fukDQfSCPKiV",
        "colab_type": "text"
      },
      "source": [
        "**Ex2.** Em Python, uma função pode ser argumento de outra função. Por exemplo, considere **do_twice** como uma função que recebe como argumento uma função e executa ela duas vezes:"
      ]
    },
    {
      "cell_type": "code",
      "metadata": {
        "id": "gF9VHvgtPNBc",
        "colab_type": "code",
        "colab": {}
      },
      "source": [
        "def do_twice(func):\n",
        "    func()\n",
        "    func()"
      ],
      "execution_count": 0,
      "outputs": []
    },
    {
      "cell_type": "markdown",
      "metadata": {
        "id": "zXiLrSIsPN1P",
        "colab_type": "text"
      },
      "source": [
        "Esse é um exemplo de chamada de **do_twice**:"
      ]
    },
    {
      "cell_type": "code",
      "metadata": {
        "id": "kjqC94kXPSGX",
        "colab_type": "code",
        "outputId": "2fa236e2-15cb-4f67-e288-62581df4920c",
        "colab": {
          "base_uri": "https://localhost:8080/",
          "height": 71
        }
      },
      "source": [
        "def print_spam():\n",
        "    print('Spam')\n",
        "    \n",
        "do_twice(print_spam)"
      ],
      "execution_count": 0,
      "outputs": [
        {
          "output_type": "stream",
          "text": [
            "Spam\n",
            "Spam\n"
          ],
          "name": "stdout"
        }
      ]
    },
    {
      "cell_type": "markdown",
      "metadata": {
        "id": "pbcqPMLtPV0w",
        "colab_type": "text"
      },
      "source": [
        "1- Modifique **do_twice** para receber dois argumentos: uma função e um valor, e chame a função passada por argumento com o valor duas vezes."
      ]
    },
    {
      "cell_type": "code",
      "metadata": {
        "id": "yR9SXJKvPYXE",
        "colab_type": "code",
        "colab": {}
      },
      "source": [
        "# Escreva aqui\n",
        "def do_twice(func, valor):\n",
        "    func(valor)\n",
        "    func(valor)"
      ],
      "execution_count": 0,
      "outputs": []
    },
    {
      "cell_type": "markdown",
      "metadata": {
        "id": "wWp-O11mPcQb",
        "colab_type": "text"
      },
      "source": [
        "2- Use a versão de **do_twice** do exercício anterior para receber a função **print_twice** e o valor 'Spam'."
      ]
    },
    {
      "cell_type": "code",
      "metadata": {
        "id": "QMesMzhtPgHL",
        "colab_type": "code",
        "outputId": "0aba53b6-398b-4b00-e700-a3da23093c3f",
        "colab": {
          "base_uri": "https://localhost:8080/",
          "height": 125
        }
      },
      "source": [
        "# Escreva aqui\n",
        "def print_twice(valor):\n",
        "    print(valor)\n",
        "    print(valor)\n",
        "    \n",
        "valor_to_print = 'Spam'\n",
        "\n",
        "# Faça a chamada de do_twice aqui\n",
        "do_twice(print_twice, valor_to_print)"
      ],
      "execution_count": 0,
      "outputs": [
        {
          "output_type": "stream",
          "text": [
            "Spam\n",
            "Spam\n",
            "Spam\n",
            "Spam\n"
          ],
          "name": "stdout"
        }
      ]
    },
    {
      "cell_type": "markdown",
      "metadata": {
        "id": "3VrMGfh_PiTS",
        "colab_type": "text"
      },
      "source": [
        "3- Defina uma nova função chamada **do_four** que recebe como argumento uma função e um valor e faz a chamada dessa função 4 vezes utilizando o valor. A função **do_four** deve ter apenas duas linhas."
      ]
    },
    {
      "cell_type": "code",
      "metadata": {
        "id": "n7y0C_h6P1eB",
        "colab_type": "code",
        "outputId": "0f840324-63f4-4a11-af59-4546f81477e5",
        "colab": {
          "base_uri": "https://localhost:8080/",
          "height": 166
        }
      },
      "source": [
        "# Escreva aqui\n",
        "def do_four(func, valor):\n",
        "    do_twice(func, valor)\n",
        "    do_twice(func, valor)\n",
        "    \n",
        "do_four(print, 'Mensagem')"
      ],
      "execution_count": 0,
      "outputs": [
        {
          "output_type": "stream",
          "text": [
            "Mensagem\n",
            "Mensagem\n",
            "Mensagem\n",
            "Mensagem\n"
          ],
          "name": "stdout"
        }
      ]
    },
    {
      "cell_type": "markdown",
      "metadata": {
        "id": "hol33ZrvQKZJ",
        "colab_type": "text"
      },
      "source": [
        "**Ex3.** Escreva uma função que desenhe o seguinte grid de 2 linhas e 2 colunas (podem ser utilizadas outras funções auxiliares):\n",
        "\n",
        "&nbsp;+----+----+<br>\n",
        "|&nbsp;&nbsp;&nbsp;&nbsp;&nbsp;&nbsp;&nbsp;&nbsp;|&nbsp;&nbsp;&nbsp;&nbsp;&nbsp;&nbsp;&nbsp;|<br>\n",
        "|&nbsp;&nbsp;&nbsp;&nbsp;&nbsp;&nbsp;&nbsp;&nbsp;|&nbsp;&nbsp;&nbsp;&nbsp;&nbsp;&nbsp;&nbsp;|<br>\n",
        "|&nbsp;&nbsp;&nbsp;&nbsp;&nbsp;&nbsp;&nbsp;&nbsp;|&nbsp;&nbsp;&nbsp;&nbsp;&nbsp;&nbsp;&nbsp;|<br>\n",
        "|&nbsp;&nbsp;&nbsp;&nbsp;&nbsp;&nbsp;&nbsp;&nbsp;|&nbsp;&nbsp;&nbsp;&nbsp;&nbsp;&nbsp;&nbsp;|<br>\n",
        "&nbsp;+----+----+<br>\n",
        "|&nbsp;&nbsp;&nbsp;&nbsp;&nbsp;&nbsp;&nbsp;&nbsp;|&nbsp;&nbsp;&nbsp;&nbsp;&nbsp;&nbsp;&nbsp;|<br>\n",
        "|&nbsp;&nbsp;&nbsp;&nbsp;&nbsp;&nbsp;&nbsp;&nbsp;|&nbsp;&nbsp;&nbsp;&nbsp;&nbsp;&nbsp;&nbsp;|<br>\n",
        "|&nbsp;&nbsp;&nbsp;&nbsp;&nbsp;&nbsp;&nbsp;&nbsp;|&nbsp;&nbsp;&nbsp;&nbsp;&nbsp;&nbsp;&nbsp;|<br>\n",
        "|&nbsp;&nbsp;&nbsp;&nbsp;&nbsp;&nbsp;&nbsp;&nbsp;|&nbsp;&nbsp;&nbsp;&nbsp;&nbsp;&nbsp;&nbsp;|<br>\n",
        "&nbsp;+----+----+\n",
        "\n",
        "Para imprimir mais de um valor por linha, basta chamar o <b>print</b> com mais de um parâmetro, ex: <b>print('+', '-')</b>. Por default o <b>print</b> sempre pula para a próxima linha, podemos alterar esse comportamento passando a opção <b>end</b> como um espaço vazio, ex: <b> print('+', '-', end=' '). </b>"
      ]
    },
    {
      "cell_type": "code",
      "metadata": {
        "id": "nSdd9L5EQbn9",
        "colab_type": "code",
        "outputId": "f9aad14a-ff5b-4e8c-9637-e61b884e2130",
        "colab": {
          "base_uri": "https://localhost:8080/",
          "height": 240
        }
      },
      "source": [
        "# Escreva aqui\n",
        "print('+' + '-'*5 + '+' + '-'*5 + '+')\n",
        "do_four(print, '|'+' '*5 + '|' + ' '*5 + '|')\n",
        "print('+' + '-'*5 + '+' + '-'*5 + '+')\n",
        "do_four(print, '|'+' '*5 + '|' + ' '*5 + '|')\n",
        "print('+' + '-'*5 + '+' + '-'*5 + '+')"
      ],
      "execution_count": 0,
      "outputs": [
        {
          "output_type": "stream",
          "text": [
            "+-----+-----+\n",
            "|     |     |\n",
            "|     |     |\n",
            "|     |     |\n",
            "|     |     |\n",
            "+-----+-----+\n",
            "|     |     |\n",
            "|     |     |\n",
            "|     |     |\n",
            "|     |     |\n",
            "+-----+-----+\n"
          ],
          "name": "stdout"
        }
      ]
    },
    {
      "cell_type": "markdown",
      "metadata": {
        "id": "4_DfFuQWQdDm",
        "colab_type": "text"
      },
      "source": [
        "**Ex4.** Escreva uma função que imprima um grid similar ao anterior com 4 linhas e 4 colunas (podem ser utilizadas outras funções auxiliares)."
      ]
    },
    {
      "cell_type": "code",
      "metadata": {
        "id": "BB5hv94XQjYG",
        "colab_type": "code",
        "outputId": "f064b16a-e648-4a93-c4ce-e65382cd11ab",
        "colab": {
          "base_uri": "https://localhost:8080/",
          "height": 406
        }
      },
      "source": [
        "# Escreva aqui\n",
        "print('+' + '-'*5 + '+' + '-'*5 + '+' + '-'*5 + '+' + '-'*5 + '+')\n",
        "do_four(print, '|'+' '*5 + '|' + ' '*5 + '|' +' '*5 + '|' + ' '*5 + '|')\n",
        "print('+' + '-'*5 + '+' + '-'*5 + '+' + '-'*5 + '+' + '-'*5 + '+')\n",
        "do_four(print, '|'+' '*5 + '|' + ' '*5 + '|'+' '*5 + '|' + ' '*5 + '|')\n",
        "print('+' + '-'*5 + '+' + '-'*5 + '+' + '-'*5 + '+' + '-'*5 + '+')\n",
        "do_four(print, '|'+' '*5 + '|' + ' '*5 + '|'+' '*5 + '|' + ' '*5 + '|')\n",
        "print('+' + '-'*5 + '+' + '-'*5 + '+' + '-'*5 + '+' + '-'*5 + '+')\n",
        "do_four(print, '|'+' '*5 + '|' + ' '*5 + '|'+' '*5 + '|' + ' '*5 + '|')\n",
        "print('+' + '-'*5 + '+' + '-'*5 + '+' + '-'*5 + '+' + '-'*5 + '+')"
      ],
      "execution_count": 0,
      "outputs": [
        {
          "output_type": "stream",
          "text": [
            "+-----+-----+-----+-----+\n",
            "|     |     |     |     |\n",
            "|     |     |     |     |\n",
            "|     |     |     |     |\n",
            "|     |     |     |     |\n",
            "+-----+-----+-----+-----+\n",
            "|     |     |     |     |\n",
            "|     |     |     |     |\n",
            "|     |     |     |     |\n",
            "|     |     |     |     |\n",
            "+-----+-----+-----+-----+\n",
            "|     |     |     |     |\n",
            "|     |     |     |     |\n",
            "|     |     |     |     |\n",
            "|     |     |     |     |\n",
            "+-----+-----+-----+-----+\n",
            "|     |     |     |     |\n",
            "|     |     |     |     |\n",
            "|     |     |     |     |\n",
            "|     |     |     |     |\n",
            "+-----+-----+-----+-----+\n"
          ],
          "name": "stdout"
        }
      ]
    },
    {
      "cell_type": "markdown",
      "metadata": {
        "id": "WLiWULA1Ql3n",
        "colab_type": "text"
      },
      "source": [
        "**Ex5.** Escreva uma função que imprime um triângulo de 5 linhas usando o caracter +:<br>\n",
        "\n",
        "&nbsp;&nbsp;&nbsp;&nbsp;&nbsp;&nbsp;&nbsp;&nbsp;+<br>\n",
        "&nbsp;&nbsp;&nbsp;&nbsp;&nbsp;&nbsp;+++<br>\n",
        "&nbsp;&nbsp;&nbsp;&nbsp;+++++<br>\n",
        "&nbsp;&nbsp;+++++++<br>\n",
        "+++++++++"
      ]
    },
    {
      "cell_type": "code",
      "metadata": {
        "id": "Mq43xuZaQo7v",
        "colab_type": "code",
        "outputId": "1661acd4-7ce7-4ece-d08f-1f93697cf475",
        "colab": {
          "base_uri": "https://localhost:8080/",
          "height": 140
        }
      },
      "source": [
        "# Escreva aqui\n",
        "print(' '*4 + '+' + ' '*4)\n",
        "print(' '*3 + '+++' + ' '*3)\n",
        "print(' '*2 + '+++++' + ' '*2)\n",
        "print(' '*1 + '+++++++' + ' '*1)\n",
        "print('+++++++++')"
      ],
      "execution_count": 0,
      "outputs": [
        {
          "output_type": "stream",
          "text": [
            "    +    \n",
            "   +++   \n",
            "  +++++  \n",
            " +++++++ \n",
            "+++++++++\n"
          ],
          "name": "stdout"
        }
      ]
    },
    {
      "cell_type": "markdown",
      "metadata": {
        "id": "I-7mlG8LQr2F",
        "colab_type": "text"
      },
      "source": [
        "**Ex6.** Escreva uma função lambda que desenha um retângulo com $n$ colunas e 5 linhas usando o caracter +:<br>\n",
        "\n",
        "++++++++++++++<br>\n",
        "++++++++++++++<br>\n",
        "++++++++++++++<br>\n",
        "++++++++++++++<br>\n",
        "++++++++++++++"
      ]
    },
    {
      "cell_type": "code",
      "metadata": {
        "id": "M2MrvWphQwNn",
        "colab_type": "code",
        "outputId": "d55835bc-6a9b-41a8-9302-d228d4037da1",
        "colab": {
          "base_uri": "https://localhost:8080/",
          "height": 180
        }
      },
      "source": [
        "n = 10 #@param {type:\"integer\"}\n",
        "\n",
        "# Escreva aqui\n",
        "linha = lambda n: print('+'*n)\n",
        "do_four(linha, n)\n",
        "linha(n)"
      ],
      "execution_count": 0,
      "outputs": [
        {
          "output_type": "stream",
          "text": [
            "++++++++++\n",
            "++++++++++\n",
            "++++++++++\n",
            "++++++++++\n",
            "++++++++++\n"
          ],
          "name": "stdout"
        }
      ]
    },
    {
      "cell_type": "markdown",
      "metadata": {
        "id": "UD2aemdBKmB4",
        "colab_type": "text"
      },
      "source": [
        "**Ex7.** Escreva uma função que recebe dois números, digamos $a$ e $b$ e retorna a soma $c=a+b$. A função deve imprimir o valor de $c$."
      ]
    },
    {
      "cell_type": "code",
      "metadata": {
        "id": "bddZq9SMKlVS",
        "colab_type": "code",
        "outputId": "7bb8a945-da19-417a-9b7d-fc8450c66508",
        "colab": {
          "base_uri": "https://localhost:8080/",
          "height": 114
        }
      },
      "source": [
        "a = 10 #@param {type:\"number\"}\n",
        "b = 10 #@param {type:\"integer\"}\n",
        "\n",
        "# Escreva aqui\n",
        "def soma(a, b):\n",
        "    c = a + b\n",
        "    print(c)\n",
        "    \n",
        "soma(a, b)"
      ],
      "execution_count": 0,
      "outputs": [
        {
          "output_type": "stream",
          "text": [
            "20\n"
          ],
          "name": "stdout"
        }
      ]
    }
  ]
}