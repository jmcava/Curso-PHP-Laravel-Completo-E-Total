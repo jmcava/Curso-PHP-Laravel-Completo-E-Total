{
  "nbformat": 4,
  "nbformat_minor": 0,
  "metadata": {
    "colab": {
      "name": "Aula-4.ipynb",
      "provenance": [],
      "collapsed_sections": [],
      "include_colab_link": true
    },
    "kernelspec": {
      "name": "python3",
      "display_name": "Python 3"
    }
  },
  "cells": [
    {
      "cell_type": "markdown",
      "metadata": {
        "id": "view-in-github",
        "colab_type": "text"
      },
      "source": [
        "<a href=\"https://colab.research.google.com/github/jmcava/Curso-PHP-Laravel-Completo-E-Total/blob/master/Aula_4.ipynb\" target=\"_parent\"><img src=\"https://colab.research.google.com/assets/colab-badge.svg\" alt=\"Open In Colab\"/></a>"
      ]
    },
    {
      "cell_type": "markdown",
      "metadata": {
        "id": "1hS-4MfuxUI-",
        "colab_type": "text"
      },
      "source": [
        "<p align=\"center\"> \n",
        "<img src=\"https://datascience.study/wp-content/uploads/2019/01/python-logo.png\">\n",
        "</p>\n",
        "\n",
        "## Iterações e recursão\n",
        "\n",
        "**Iterações** são recursos de programação aplicados em problemas que envolvem a repetição de trechos de código. **Recursão** é a habilidade de uma função poder chamar a si mesma. Existe uma relação forte entre esses dois conceitos e por isso normalmente eles são estudados em conjunto. Alguns algoritmos são resolvidos de forma mais simples usando recursão e outros usando iteração. Vale ressaltar que, recursão é muito aplicada em algoritmos de **inteligência artificial**."
      ]
    },
    {
      "cell_type": "markdown",
      "metadata": {
        "id": "81AF4eQm2yw_",
        "colab_type": "text"
      },
      "source": [
        "### Reatribuição\n",
        "\n",
        "Antes de estudarmos iterações vamos entender um conceito chamado reatribuição. Você já deve ter percebido que é possível fazer novas atribuições a uma variável já existente:"
      ]
    },
    {
      "cell_type": "code",
      "metadata": {
        "id": "QmlnBfV4xRwa",
        "colab_type": "code",
        "outputId": "f0a5cdaf-64f0-425e-ba7e-2a16ecbb3368",
        "colab": {
          "base_uri": "https://localhost:8080/",
          "height": 51
        }
      },
      "source": [
        "# Uma variável qualquer\n",
        "a = 10\n",
        "\n",
        "# Aqui a vale 10\n",
        "print(a)\n",
        "\n",
        "# Agora vou alterar seu valor\n",
        "a = 30\n",
        "\n",
        "# Aqui a passa a valer 30\n",
        "print(a)"
      ],
      "execution_count": 0,
      "outputs": [
        {
          "output_type": "stream",
          "text": [
            "10\n",
            "30\n"
          ],
          "name": "stdout"
        }
      ]
    },
    {
      "cell_type": "markdown",
      "metadata": {
        "id": "tuCInJIs0I69",
        "colab_type": "text"
      },
      "source": [
        "Essa operação é chamada de **reatribuição**. É importante notar que, cada variável só mantém um estado na memória por vez, ou seja, se você trocar o valor dela o anterior se perde.\n",
        "\n",
        "Muitas vezes é útil utilizarmos uma variável para contar um certo número de ações. Chamamos esse tipo de variável de **contador**. Essa operação é um tipo de reatribuição. "
      ]
    },
    {
      "cell_type": "code",
      "metadata": {
        "id": "QHD64Tki0IKx",
        "colab_type": "code",
        "colab": {}
      },
      "source": [
        "# Inicializando um contador\n",
        "c = 0\n",
        "\n",
        "# Incrementando o contador com +1\n",
        "c = c + 1"
      ],
      "execution_count": 0,
      "outputs": []
    },
    {
      "cell_type": "markdown",
      "metadata": {
        "id": "5YJvG29u1urS",
        "colab_type": "text"
      },
      "source": [
        "Note que, o contador acima foi inicializado com 0, e ai vai uma dica importante: <u>jamais use um contador sem inicializá-lo</u>, pois, você pode obter resultados indesejáveis. Em Python ele vai gerar um erro, mas em outras linguagens é possível você criar um contador sem inicializá-lo e isso com quase toda a certeza vai gerar um bug difícil de detectar. Portanto, <u>sempre inicialize seus contadores</u>.\n",
        "\n",
        "### O Loop while\n",
        "\n",
        "Nós programadores frequentemente precisamos repetir alguma tarefa por um certo número de vezes. Esse processo de repetição é normalmente chamado de iteração. Um dos comandos de iteração fornecidos no Python é o **while**."
      ]
    },
    {
      "cell_type": "code",
      "metadata": {
        "id": "qIaKG7x93Zi8",
        "colab_type": "code",
        "outputId": "61632edb-82c8-49a5-a943-dd2f09367124",
        "colab": {
          "base_uri": "https://localhost:8080/",
          "height": 204
        }
      },
      "source": [
        "# Um exemplo de contador decrescente\n",
        "def countdown(n):\n",
        "    while n > 0:\n",
        "        print(n)\n",
        "        n = n - 1\n",
        "    print(\"Contagem finalizada!\")\n",
        "\n",
        "# Chamando o contador para n\n",
        "n = 10 #@param {type:\"integer\"}\n",
        "countdown(n)"
      ],
      "execution_count": 0,
      "outputs": [
        {
          "output_type": "stream",
          "text": [
            "10\n",
            "9\n",
            "8\n",
            "7\n",
            "6\n",
            "5\n",
            "4\n",
            "3\n",
            "2\n",
            "1\n",
            "Contagem finalizada!\n"
          ],
          "name": "stdout"
        }
      ]
    },
    {
      "cell_type": "markdown",
      "metadata": {
        "id": "Owxi-R7E3p1v",
        "colab_type": "text"
      },
      "source": [
        "Podemos interpretar o código acima como: \"Enquanto n é maior que 0, imprima n e subtraia uma unidade de n\". Note que, no nosso exemplo que em vez de incrementar, nós decrementamos, ou seja, é possível fazer um contador em ordem descrecente mudando a condição **+1** para **-1**. O comando while no Python tem a seguinte sintaxe:\n",
        "\n",
        "```python\n",
        "while condição:\n",
        "    # Enquanto condição for verdadeira executa os comandos\n",
        "    comando 1\n",
        "    comando 2\n",
        "    ...\n",
        "    comando n\n",
        "```\n",
        "\n",
        "Uma coisa a respeito do while, é que se nós não tomarmos cuidado podemos gerar um loop infinito, isto é, um loop que nunca termina. No exemplo acima é facíl visualizar que o loop vai terminar. Contudo, algumas vezes não é facíl ver que isso é verdade. Um bom exemplo é a Conjectura de Collatz. Seja $ x \\in \\mathbb{N} $ um número qualquer. Considere a seguinte recorrência sobre $ x$:\n",
        "\n",
        "$$ C(x) = \\begin{cases}\n",
        "\\dfrac{x}{2}, &\\text{se } x\\bmod2=0\\\\\n",
        "3x + 1, &\\text{se } x\\bmod2=1\n",
        "\\end{cases} $$\n",
        "\n",
        "A conjectura de Collatz afirma que a recorrência acima termina para todo $x$ positivo. Contudo, ninguem conseguiu ainda provar ou disprovar essa afirmação. Usando um comando while implementamos a conjectura da seguinte forma:"
      ]
    },
    {
      "cell_type": "code",
      "metadata": {
        "id": "CdlTJe5cDsHG",
        "colab_type": "code",
        "outputId": "ed7f7feb-1b38-4285-a172-216d9bdd4050",
        "colab": {
          "base_uri": "https://localhost:8080/",
          "height": 289
        }
      },
      "source": [
        "# Testando a conjectura de Collatz\n",
        "def collatz(x):\n",
        "    while x != 1:\n",
        "        print(x)\n",
        "        if x % 2 == 0:\n",
        "            x = x /2\n",
        "        else:\n",
        "            x = x*3 + 1 \n",
        "    print(x)\n",
        "# Testando para um x pequeno\n",
        "x = 22 #@param {type:\"integer\"}\n",
        "collatz(x)"
      ],
      "execution_count": 0,
      "outputs": [
        {
          "output_type": "stream",
          "text": [
            "22\n",
            "11.0\n",
            "34.0\n",
            "17.0\n",
            "52.0\n",
            "26.0\n",
            "13.0\n",
            "40.0\n",
            "20.0\n",
            "10.0\n",
            "5.0\n",
            "16.0\n",
            "8.0\n",
            "4.0\n",
            "2.0\n",
            "1.0\n"
          ],
          "name": "stdout"
        }
      ]
    },
    {
      "cell_type": "markdown",
      "metadata": {
        "id": "3eCK0E0iHbiL",
        "colab_type": "text"
      },
      "source": [
        "O nosso exemplo serve para ilustrar o que devemos evitar na programação, que são esses loops onde é difícil determinar se ele termina ou não. Perceba também que combinamos o while com estruturas de decisão! Nesse caso, um **if-else**. \n",
        "\n",
        "Muitas vezes, nós queremos parar um loop dada uma condição satisfeita por uma estrutura de decisão, isto é, sair do loop sem ele ter terminado. Em python existe um comando chamado **break** que executa essa tarefa:"
      ]
    },
    {
      "cell_type": "code",
      "metadata": {
        "id": "aMzBV25XIUIu",
        "colab_type": "code",
        "outputId": "97608a5f-993e-4e20-9ba8-892d8660ce12",
        "colab": {
          "base_uri": "https://localhost:8080/",
          "height": 136
        }
      },
      "source": [
        "# Vamos criar duas variáveis x1 e x2 = x1/2\n",
        "x1 = 10 #@param {type:\"integer\"}\n",
        "x2 = int(x1/2)\n",
        "cont = x1\n",
        "\n",
        "# Os testes para chamar o while são sempre condicionais, portanto é\n",
        "# perfeitamente válido forçar a entrada do loop com o valor True\n",
        "while True:\n",
        "    print(cont)\n",
        "    if cont == x2:\n",
        "        break\n",
        "    cont = cont - 1\n",
        "print(\"cont = %d agora vale metade de x1 = %d\" % (cont, x1))"
      ],
      "execution_count": 0,
      "outputs": [
        {
          "output_type": "stream",
          "text": [
            "10\n",
            "9\n",
            "8\n",
            "7\n",
            "6\n",
            "5\n",
            "cont = 5 agora vale metade de x1 = 10\n"
          ],
          "name": "stdout"
        }
      ]
    },
    {
      "cell_type": "markdown",
      "metadata": {
        "id": "9_VCv3-tJoto",
        "colab_type": "text"
      },
      "source": [
        "O programa acima decrementa $cont$ até que ele seja a metade de $x_1$, isto é , $cont=x_2$. Nesse caso, escolhemos forçar o while com a condição True. Esse recurso é útil quando não sabemos ao certo a condição que o while deve terminar."
      ]
    },
    {
      "cell_type": "markdown",
      "metadata": {
        "id": "983w44jjL_AC",
        "colab_type": "text"
      },
      "source": [
        "**Ex1.** Escreva uma função **calcula_fatorial** que recebe um número natural $ n \\in \\mathbb{N} $ e calcula o seu fatorial $ n! $. Por exemplo o fatorial de $6$ é $6\\times 5 \\times 4\\times 3 \\times2 \\times 1 = 720$. Resolva o problema utilizando o loop while."
      ]
    },
    {
      "cell_type": "code",
      "metadata": {
        "id": "q2FJApiDL-oL",
        "colab_type": "code",
        "colab": {}
      },
      "source": [
        "# Escreva aqui\n"
      ],
      "execution_count": 0,
      "outputs": []
    },
    {
      "cell_type": "markdown",
      "metadata": {
        "id": "uFaC6VQ5O8HL",
        "colab_type": "text"
      },
      "source": [
        "### O Loop for\n",
        "\n",
        "Diferente do loop while o loop **for** obriga o programador a declarar as condições do loop na chamada do comando. O loop for do python funciona de forma muito semelhante ao **foreach** de outras linguagens de programação. O for do python funciona sobre o que chamamos de **iteradores**. Um iterador é um objeto python que contém um número de valores mensuráveis. "
      ]
    },
    {
      "cell_type": "code",
      "metadata": {
        "id": "rvdwo7pDY1f7",
        "colab_type": "code",
        "outputId": "a1b6249b-4c19-423a-b847-5ada6230d9a8",
        "colab": {
          "base_uri": "https://localhost:8080/",
          "height": 187
        }
      },
      "source": [
        "# Variável que contém o limite do loop\n",
        "# ou seja até quanto o loop vai executar\n",
        "n = 10 #@param {type:\"integer\"}\n",
        "\n",
        "# Iterando i em [0,1,2,...,n-1]\n",
        "for i in range(n):\n",
        "    print(i)"
      ],
      "execution_count": 0,
      "outputs": [
        {
          "output_type": "stream",
          "text": [
            "0\n",
            "1\n",
            "2\n",
            "3\n",
            "4\n",
            "5\n",
            "6\n",
            "7\n",
            "8\n",
            "9\n"
          ],
          "name": "stdout"
        }
      ]
    },
    {
      "cell_type": "markdown",
      "metadata": {
        "id": "4S8_bu_DZUdS",
        "colab_type": "text"
      },
      "source": [
        "É muito comum usar o for em conjunto com a função **range** que retorna um iterador que é acessado pelo comando **in** que sempre está na chamada do for. No exemplo acima o comando for está dizendo \"Para i = 0 até n-1 execute o bloco abaixo\". O comando for no Python tem a seguinte sintaxe:\n",
        "```python\n",
        "for contador in iterador:\n",
        "    # Executa os comandos abaixo\n",
        "    comando 1\n",
        "    comando 2\n",
        "    ...\n",
        "    comando n\n",
        "```\n",
        "A função **range** pode ser chamada com outros argumentos, podemos passar apenas o valor máximo do contador (como fizemos acima) e outros dois parâmetros que são **opcionais**. A sintaxe do **range** é a seguinte:\n",
        "```python\n",
        "range(inicio, fim, passo)\n",
        "```\n",
        "O parâmetro **inicio** é o primeiro valor que ele deve considerar na iteração, no caso ele sempre começa do 0 se não informado; o parâmetro **fim** que é o limite da contagem (sempre deve ser informado) e o parâmetro **passo** que informa quantos incrementos ele deve dar cada vez que executa o loop, que por padrão vale 1. "
      ]
    },
    {
      "cell_type": "code",
      "metadata": {
        "id": "w2gI3O6lb9yG",
        "colab_type": "code",
        "outputId": "83f387e2-a07b-479d-c13a-533c2c99020d",
        "colab": {
          "base_uri": "https://localhost:8080/",
          "height": 170
        }
      },
      "source": [
        "# Exemplo, vamos fazer um contador que vai de 1 até n\n",
        "n = 10 #@param {type:\"integer\"}\n",
        "\n",
        "# Iterando i em [0,1,2,...,n-1]\n",
        "for i in range(1, n):\n",
        "    print(i)"
      ],
      "execution_count": 0,
      "outputs": [
        {
          "output_type": "stream",
          "text": [
            "1\n",
            "2\n",
            "3\n",
            "4\n",
            "5\n",
            "6\n",
            "7\n",
            "8\n",
            "9\n"
          ],
          "name": "stdout"
        }
      ]
    },
    {
      "cell_type": "code",
      "metadata": {
        "id": "Xe9scsZqcLd0",
        "colab_type": "code",
        "outputId": "c73ab3dd-83b9-4434-aefd-477ee36109cb",
        "colab": {
          "base_uri": "https://localhost:8080/",
          "height": 102
        }
      },
      "source": [
        "# Exemplo, vamos fazer um contador que vai de 1 até n \n",
        "# mas incrementando de 2 em 2\n",
        "n = 10 #@param {type:\"integer\"}\n",
        "inc = 2 #@param {type:\"integer\"}\n",
        "\n",
        "# Iterando i em [1,3,...,n-1]\n",
        "for i in range(1, n, inc):\n",
        "    print(i)"
      ],
      "execution_count": 0,
      "outputs": [
        {
          "output_type": "stream",
          "text": [
            "1\n",
            "3\n",
            "5\n",
            "7\n",
            "9\n"
          ],
          "name": "stdout"
        }
      ]
    },
    {
      "cell_type": "markdown",
      "metadata": {
        "id": "YwOLZgXJcpiS",
        "colab_type": "text"
      },
      "source": [
        "**Ex2.** Faça um programa com loop for, que recebe um número $n$ e imprime todos os pares de 0 até $n$."
      ]
    },
    {
      "cell_type": "code",
      "metadata": {
        "id": "WjJUE5UHc2vs",
        "colab_type": "code",
        "colab": {}
      },
      "source": [
        "# Escreva aqui\n"
      ],
      "execution_count": 0,
      "outputs": []
    },
    {
      "cell_type": "markdown",
      "metadata": {
        "id": "b5dXRh5aeWs4",
        "colab_type": "text"
      },
      "source": [
        "O for do python é muito versátil e completo, ele é muito utilizado para iterar **estruturas de dados** e por isso tem esse formato diferente se comparado a outras linguagens de programação. Estruturas de dados é um assunto que vamos estudar mais a frente.\n",
        "\n",
        "### Recursão\n",
        "\n",
        "Um poderoso recurso de computação é a **recursão**. Recursão é a habilidade de uma função chamar a si própria. Muitos algoritmos de computação ficam mais simples quando utilizamos recursão. Geralmente programas recursivos podem ser implementados de forma iterativa (usando while ou for)."
      ]
    },
    {
      "cell_type": "code",
      "metadata": {
        "id": "gUO45kxphZy8",
        "colab_type": "code",
        "outputId": "bb8a723d-1985-476a-ff60-a2e96f865856",
        "colab": {
          "base_uri": "https://localhost:8080/",
          "height": 85
        }
      },
      "source": [
        "def countdown(n):\n",
        "    # Caso base da recursão\n",
        "    if n == 0:\n",
        "        print(\"Contagem finalizada!\")\n",
        "        return\n",
        "    print(n)\n",
        "    # Chamada recursiva\n",
        "    countdown(n - 1)\n",
        "\n",
        "# Chamando o contador recursivo para n = 3\n",
        "n = 3 #@param {type:\"integer\"}\n",
        "countdown(n)"
      ],
      "execution_count": 0,
      "outputs": [
        {
          "output_type": "stream",
          "text": [
            "3\n",
            "2\n",
            "1\n",
            "Contagem finalizada!\n"
          ],
          "name": "stdout"
        }
      ]
    },
    {
      "cell_type": "markdown",
      "metadata": {
        "id": "qIV8o89ViGzF",
        "colab_type": "text"
      },
      "source": [
        "O que acontece se invertermos a ordem do **print(n)** na linha 6 e da chamada recursiva **countdown(n - 1)** da linha 8?"
      ]
    },
    {
      "cell_type": "code",
      "metadata": {
        "id": "4l9nwd5XiYwc",
        "colab_type": "code",
        "colab": {}
      },
      "source": [
        "# Escreva aqui\n"
      ],
      "execution_count": 0,
      "outputs": []
    },
    {
      "cell_type": "markdown",
      "metadata": {
        "id": "7U0dNEXKiaO0",
        "colab_type": "text"
      },
      "source": [
        "E se removermos o **return** da linha 5?"
      ]
    },
    {
      "cell_type": "code",
      "metadata": {
        "id": "yJYB2V09iesT",
        "colab_type": "code",
        "colab": {}
      },
      "source": [
        "# Escreva aqui\n"
      ],
      "execution_count": 0,
      "outputs": []
    },
    {
      "cell_type": "markdown",
      "metadata": {
        "id": "M6trmdVIipu5",
        "colab_type": "text"
      },
      "source": [
        "Recursão é um método poderoso que deve ser usado com cautela, é muito comum os programas darem erro por excesso de memória, mas por que isso acontece? Porque as chamadas recursivas são armazenadas temporariamente em uma **pilha** de memória e como não temos memória infinita, se a recursão não tem um fim, uma hora ela esgota a memória da máquina. \n",
        "\n",
        "Essa pilha da recursão pode ser expressa por meio de um desenho chamado de **diagrama de estados da pilha** que muitas vezes auxilia o entendimento do exercício. Para a nossa função countdown teriamos um diagrama como o abaixo:\n",
        "\n",
        "<p align=\"center\"> \n",
        "<img width=280px src=\"https://i.imgur.com/ZUbKdGA.png\">\n",
        "</p>\n",
        "<center><b>Fig-1. </b> Exemplo de diagrama de estados da pilha de chamadas recursivas da função countdown para $n=3$.</center>\n",
        "\n",
        " Quando mudamos a ordem do **print** e da chamada recursiva do **countdown** obtivemos um resultado bem diferente, pois, a pilha de recursão mudou. Vejamos a pilha de recursão para entender o que aconteceu:\n",
        "\n",
        "<p align=\"center\"> \n",
        "<img width=280px src=\"https://i.imgur.com/u9RF2r7.png\">\n",
        "</p>\n",
        "<center><b>Fig-2. </b> Exemplo de diagrama de estados da pilha de chamadas recursivas da função countdown invertida para $n=3$.</center>\n",
        "\n",
        "A maioria dos algoritmos recursivos obedecem a três propriedades: (1) caso base, isto é, o caso em que o algoritmo termina; (2) um algoritmo recursivo sempre se aproxima do caso base e (3) um algoritmo recursivo chama a si mesmo recursivamente. Traduzindo para o Python podemos formalizar algo como:\n",
        "\n",
        "```python\n",
        "def nome_da_função(arg1, arg2, ..., argn):\n",
        "    # Caiu no caso base da recursão\n",
        "    if caso base:\n",
        "        pare a recursão\n",
        "    else:\n",
        "        # Executa algo antes da chamada\n",
        "        nome_da_função(newarg1, newarg2, ..., newargn)\n",
        "        # Executa algo após a chamada\n",
        "```\n",
        "Se é possível escrever uma função matemática em forma recursiva, isto é, a partir de recorrência, então podemos escrever um algoritmo para ela. Vejamos um exemplo simples. Uma função recursiva que soma os $ n\\in \\mathbb{N}$ primeiros números naturais:\n",
        "\n",
        "$$ s(n)=\\begin{cases}\n",
        "    0,& \\text{se } n = 0\\\\\n",
        "    n + s(n-1),& \\text{se } n > 0\n",
        "\\end{cases} $$\n",
        "\n",
        "Ela é facilmente implementada em Python indentificando seu caso base, ou seja, quando $n=0$:"
      ]
    },
    {
      "cell_type": "code",
      "metadata": {
        "id": "Yv4aQOEo5tGJ",
        "colab_type": "code",
        "outputId": "37a92455-b1a4-4ee0-e701-f7f2cf764185",
        "colab": {
          "base_uri": "https://localhost:8080/",
          "height": 34
        }
      },
      "source": [
        "# Função recursiva para somar os n \n",
        "# primeiros números naturais\n",
        "def s(n):\n",
        "    # Caso base\n",
        "    if n == 0:\n",
        "      return 0\n",
        "    # Chamada recursiva\n",
        "    return n + s(n-1)\n",
        "\n",
        "# Primeira chamada\n",
        "n = 3 #@param {type:\"integer\"}\n",
        "print(s(n))"
      ],
      "execution_count": 0,
      "outputs": [
        {
          "output_type": "stream",
          "text": [
            "6\n"
          ],
          "name": "stdout"
        }
      ]
    },
    {
      "cell_type": "markdown",
      "metadata": {
        "id": "wnqsaEYSGpyc",
        "colab_type": "text"
      },
      "source": [
        "O código acima é um problema relativamente simples, que pode ser resolvido de forma iterativa muito facilmente, mas ele é um bom exemplo de ilustração do funcionamento de uma função recursiva. Para entender melhor o que ocorreu, podemos criar um diagrama da pilha de recursão que nesse caso é bem simples:\n",
        "\n",
        "<p align=\"center\"> \n",
        "<img width=280px src=\"https://i.imgur.com/HDxCAdW.png\">\n",
        "</p>\n",
        "<center><b>Fig-2. </b> Diagrama de recursão para a recorrência $s(n)$ para $n=3$.</center>\n",
        "\n",
        "**Ex.3** Um algoritmo muito famoso que pode ser implementado de forma recursiva é o algoritmo fatorial. Formalmente, para um dado número natural $ n \\in \\mathbb{N} $ define-se a seguinte recorrência:\n",
        "\n",
        "$$ f(n)=\\begin{cases}\n",
        "    1, & \\text{se } n = 0\\\\\n",
        "    n \\times f(n-1), & \\text{se } n > 0\n",
        "\\end{cases} $$\n",
        "\n",
        "onde $ f(n) = n! $. Escreva um programa recursivo que calcula o fatorial de qualquer número natural $ n \\in \\mathbb{N} $."
      ]
    },
    {
      "cell_type": "code",
      "metadata": {
        "id": "r7-gcvLuJj3r",
        "colab_type": "code",
        "colab": {}
      },
      "source": [
        "n = 3 #@param {type:\"integer\"}\n",
        "\n",
        "# Escreva aqui\n"
      ],
      "execution_count": 0,
      "outputs": []
    },
    {
      "cell_type": "markdown",
      "metadata": {
        "id": "u6zqY708KW50",
        "colab_type": "text"
      },
      "source": [
        "### Exercícios\n",
        "\n",
        "**Ex1.**  Escreva um algoritmo com loop for que calcula o fatorial de um dado número natural $ n \\in \\mathbb{N} $."
      ]
    },
    {
      "cell_type": "code",
      "metadata": {
        "id": "CvhguGcmLjOA",
        "colab_type": "code",
        "colab": {}
      },
      "source": [
        "n = 0 #@param {type:\"integer\"}\n",
        "\n",
        "# Escreva aqui\n"
      ],
      "execution_count": 0,
      "outputs": []
    },
    {
      "cell_type": "markdown",
      "metadata": {
        "id": "axNxnDOZLvb0",
        "colab_type": "text"
      },
      "source": [
        "**Ex2.** Escreva um algoritmo iterativo que soma os $ n \\in \\mathbb{N}$ primeiros números naturais."
      ]
    },
    {
      "cell_type": "code",
      "metadata": {
        "id": "ebVA8YeFL5gK",
        "colab_type": "code",
        "colab": {}
      },
      "source": [
        "n = 0 #@param {type:\"integer\"}\n",
        "\n",
        "# Escreva aqui\n"
      ],
      "execution_count": 0,
      "outputs": []
    },
    {
      "cell_type": "markdown",
      "metadata": {
        "id": "bMJh5q4lSwzg",
        "colab_type": "text"
      },
      "source": [
        "**Ex3.** Escreva uma versão recursiva do algoritmo que vimos sobre a Conjectura de Collatz."
      ]
    },
    {
      "cell_type": "code",
      "metadata": {
        "id": "yxRPJ9aBS8kU",
        "colab_type": "code",
        "colab": {}
      },
      "source": [
        "x = 0 #@param {type:\"integer\"}\n",
        "\n",
        "# Escreva aqui\n"
      ],
      "execution_count": 0,
      "outputs": []
    },
    {
      "cell_type": "markdown",
      "metadata": {
        "id": "R7wMnm9vTxFd",
        "colab_type": "text"
      },
      "source": [
        "**Ex4.** Outro algoritmo muito famoso por ser escrito de forma recursiva é o algoritmo de Fibonacci. É um bom exemplo de um caso onde a recursão não é uma boa ideia, pois, a solução recursiva cresce exponencialmente. Seja $ n \\in \\mathbb{N} $ um número natural, então a recorrência que implementa o algoritmo de Fibonacci é a seguinte:\n",
        "\n",
        "$$ fib(n)=\\begin{cases}\n",
        "    0, & \\text{se } n = 0\\\\\n",
        "    1, & \\text{se } n = 1\\\\\n",
        "    fib(n-1) + fib(n-2), & \\text{se } n > 1\n",
        "\\end{cases} $$\n",
        "\n",
        "Escreva uma função recursiva que implementa o algoritmo de Fibonacci."
      ]
    },
    {
      "cell_type": "code",
      "metadata": {
        "id": "xO3CA9tVV3PJ",
        "colab_type": "code",
        "colab": {}
      },
      "source": [
        "n = 0 #@param {type:\"integer\"}\n",
        "\n",
        "# Escreva aqui\n"
      ],
      "execution_count": 0,
      "outputs": []
    },
    {
      "cell_type": "markdown",
      "metadata": {
        "id": "I-auMXl_Wbne",
        "colab_type": "text"
      },
      "source": [
        "**Ex5.** O famoso matemático indiano [Srinivasa Ramanujan ](https://pt.wikipedia.org/wiki/Srinivasa_Ramanujan) encontrou uma série infinita que pode ser utilizada para encontrar uma aproximação numérica de $ \\frac{1}{\\pi} $:\n",
        "\n",
        "$$ \\frac{1}{\\pi} = \\frac{2 \\sqrt{2}}{9801} \\sum_{k=0}^{\\infty} \\frac{(4k)! (1103+26390k)}{(k!)^4396^{4k}} $$\n",
        "\n",
        "Escreva uma função **estima_pi** que computa a equação acima e retorna uma estimativa para $ \\pi $. Você pode implementar o algoritmo por meio de um loop While deve iterar até que o $k$-ésimo termo (a divisão interna do somatório) seja menor que $1 e -15 $ (em Python isso equivale a $ 10^{-15} $). Compare o resultado com **math.pi**."
      ]
    },
    {
      "cell_type": "code",
      "metadata": {
        "id": "jPReU51lak_A",
        "colab_type": "code",
        "colab": {}
      },
      "source": [
        "import math\n",
        "\n",
        "# Escreva aqui"
      ],
      "execution_count": 0,
      "outputs": []
    },
    {
      "cell_type": "markdown",
      "metadata": {
        "id": "nwI83YcObNjw",
        "colab_type": "text"
      },
      "source": [
        "**Ex6.** Dados dois números naturais $ m,n \\in \\mathbb{N} $ a função de [Ackermann](http://en.wikipedia.org/wiki/Ackermann_function) é definida recursivamente da seguinte maneira:\n",
        "\n",
        "$$ A(m, n)=\\begin{cases}\n",
        "    n+1, & \\text{se } m = 0\\\\\n",
        "    A(m-1, 1), & \\text{se } m > 0 \\text{ e } n=0\\\\\n",
        "    A(m-1, A(m, n-1)), & \\text{se } m > 0 \\text{ e } n > 0\n",
        "\\end{cases} $$\n",
        "\n",
        "Escreva uma função recursiva que implementa o algoritmo de Ackermann.\n"
      ]
    },
    {
      "cell_type": "code",
      "metadata": {
        "id": "jML6JFoSgmec",
        "colab_type": "code",
        "colab": {}
      },
      "source": [
        "m = 0 #@param {type:\"integer\"}\n",
        "n = 0 #@param {type:\"integer\"}\n",
        "\n",
        "# Escreva aqui\n"
      ],
      "execution_count": 0,
      "outputs": []
    },
    {
      "cell_type": "markdown",
      "metadata": {
        "id": "FXKuED-ug75J",
        "colab_type": "text"
      },
      "source": [
        "**Ex7.** Escreva um programa que recebe um número inteiro $ n \\in \\mathbb{Z} $ e um número natural $ k \\in \\mathbb{N} $ e calcula $ n^k $."
      ]
    },
    {
      "cell_type": "code",
      "metadata": {
        "id": "Q7AN4zxUhel_",
        "colab_type": "code",
        "colab": {}
      },
      "source": [
        "n = 0 #@param {type:\"integer\"}\n",
        "k = 0 #@param {type:\"integer\"}\n",
        "\n",
        "# Escreva aqui\n"
      ],
      "execution_count": 0,
      "outputs": []
    },
    {
      "cell_type": "markdown",
      "metadata": {
        "id": "rcc1MtheiSR7",
        "colab_type": "text"
      },
      "source": [
        "**Ex8.** Muitos algoritmos de Aprendizagem de Máquina trabalham com o conceito de iteração. Isso significa que em vez de calcularmos um valor exato vamos aproximar a solução rodando o algoritmo um certo número de vezes ou até atingir uma condição de parada. Um algoritmo famoso que pode ser resolvido com boa aproximação de forma iterativa é o algoritmo de Raízes quadradas de Newton:\n",
        "\n",
        "$$ \\begin{align*}&x = \\text{valor inicial estimado}\\\\ &\\text{enquanto não convergir faça}~\\{\\\\\n",
        " &~~~~ y := \\frac{x+a/x}{2}     \\\\\n",
        " &~~~~ x := y \\\\\n",
        "& \\}\n",
        "\\end{align*}$$\n",
        "\n",
        "onde $a$ é o valor que queremos calcular a raiz quadrada e $:=$ indica que vamor atualizar a variável. Escreva uma função **raizq_newton** que recebe um valor $a$ e calcula sua raíz quadrada. Resolva utilizando um loop while. O loop deve parar quando $ abs(y-x) < 1e-10 $. Considere o valor inicial de $ x = a $. "
      ]
    },
    {
      "cell_type": "code",
      "metadata": {
        "id": "L4jqNBMQn16H",
        "colab_type": "code",
        "colab": {}
      },
      "source": [
        "a = 0 #@param {type:\"integer\"}\n",
        "\n",
        "# Escreva aqui\n"
      ],
      "execution_count": 0,
      "outputs": []
    },
    {
      "cell_type": "markdown",
      "metadata": {
        "id": "2H5cF5HRw3d9",
        "colab_type": "text"
      },
      "source": [
        "**Ex9.** Um número é triângular se pode ser representado na forma de um triângulo equilátero. A equação que calcula o valor do $n$-ésimo número triangular é dada por:\n",
        "\n",
        "$$ T_n = \\frac{n(n+1)}{2} $$\n",
        "\n",
        "Escreva um programa que recebe um número $ n $ e imprime os $ T_n $ primeiros números triangulares."
      ]
    },
    {
      "cell_type": "code",
      "metadata": {
        "id": "p1UZg2pLyvKD",
        "colab_type": "code",
        "colab": {}
      },
      "source": [
        "n = 0 #@param {type:\"integer\"}\n",
        "\n",
        "# Escreva aqui\n"
      ],
      "execution_count": 0,
      "outputs": []
    },
    {
      "cell_type": "markdown",
      "metadata": {
        "id": "g7urMRAUy-pn",
        "colab_type": "text"
      },
      "source": [
        "**Ex10.** Um número é dito primo se ele é divisível apenas por $1$ e por ele mesmo. O único par que é também primo é o número $2$. Até hoje um método que possa dizer em tempo constante se um número é primo ou não ainda é inexistente. Contudo, podemos escrever uma solução utilizando um loop. Escreva um programa que recebe um número natural $ n \\in \\mathbb{N} $ e imprima se $n$ é primo ou não."
      ]
    },
    {
      "cell_type": "code",
      "metadata": {
        "id": "uat06lTM3WBQ",
        "colab_type": "code",
        "colab": {}
      },
      "source": [
        "n = 0 #@param {type:\"integer\"}\n",
        "\n",
        "# Escreva aqui\n"
      ],
      "execution_count": 0,
      "outputs": []
    }
  ]
}