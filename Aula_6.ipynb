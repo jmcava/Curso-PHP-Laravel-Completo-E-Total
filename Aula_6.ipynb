{
  "nbformat": 4,
  "nbformat_minor": 0,
  "metadata": {
    "colab": {
      "name": "Aula-6.ipynb",
      "provenance": [],
      "collapsed_sections": [],
      "include_colab_link": true
    },
    "kernelspec": {
      "name": "python3",
      "display_name": "Python 3"
    }
  },
  "cells": [
    {
      "cell_type": "markdown",
      "metadata": {
        "id": "view-in-github",
        "colab_type": "text"
      },
      "source": [
        "<a href=\"https://colab.research.google.com/github/jmcava/Curso-PHP-Laravel-Completo-E-Total/blob/master/Aula_6.ipynb\" target=\"_parent\"><img src=\"https://colab.research.google.com/assets/colab-badge.svg\" alt=\"Open In Colab\"/></a>"
      ]
    },
    {
      "cell_type": "markdown",
      "metadata": {
        "id": "0u1tA6mo3v3I",
        "colab_type": "text"
      },
      "source": [
        "<p align=\"center\"> <img src=\"https://datascience.study/wp-content/uploads/2019/01/python-logo.png\"> </p>\n",
        "\n",
        "## Estruturas de dados\n",
        "\n",
        "Uma [estrutura de dados](https://pt.wikipedia.org/wiki/Estrutura_de_dados) (ED), em ciência da computação, é uma coleção tanto de valores (e seus relacionamentos) quanto de operações (sobre os valores e estruturas decorrentes). O estudo de boas estruturas de dados é o assunto central na computação.  Isso envolve, o estudo de **algoritmos** para a criação e manipulação dessas estruturas. Estruturas de dados estão aplicadas em **Inteligência Artificial** e **Machine Learning** de diversas formas. Em Python nós temos diversas estruturas implementadas por default. Nós vamos estudar dois tipos: **Listas**, e **Dicionários**. A partir dessas estruturas mais primitivas podemos implementar estruturas de dados comuns da computação, como: Filas, Pilhas, Heaps, Hashing, Grafos, Árvores e muitas outras."
      ]
    },
    {
      "cell_type": "markdown",
      "metadata": {
        "id": "IKPQXhB7MrLm",
        "colab_type": "text"
      },
      "source": [
        "### Listas\n",
        "\n",
        "Listas são um tipo de estrutura de dados genérica que podem ser utilizadas para implementar diversas outras estruturas (tais como: Pilha, Fila, Heaps e etc). Listas guardam valores e são indexadas por números inteiros:\n",
        "\n",
        "<p align=\"center\">\n",
        "    <img width=450px src=\"https://i.imgur.com/s6SZOi5.jpg\" />\n",
        "</p>\n",
        "<center><b>Fig-1.</b> Exemplo de uma lista de números.</center>\n",
        "\n",
        "Em Python uma lista é simplesmente uma **sequência** de valores. Para criar uma lista em Python basta passar uma sequência de quaisquer valores dentro de colchetes [ ]:"
      ]
    },
    {
      "cell_type": "code",
      "metadata": {
        "id": "DnxZugSaMoxh",
        "colab_type": "code",
        "outputId": "af688b7a-c5f2-47eb-d0c0-8091191bbac7",
        "colab": {
          "base_uri": "https://localhost:8080/",
          "height": 68
        }
      },
      "source": [
        "# Lista de inteiros\n",
        "lista1 = [0, 1, 2, 4]\n",
        "print('Lista de números inteiros:', lista1)\n",
        "\n",
        "# Lista de floats\n",
        "lista2 = [0.2, 0.3, 0.5]\n",
        "print('Lista de números floats:', lista2)\n",
        "\n",
        "# Lista de strings\n",
        "lista3 = [\"Marvel\", \"Hulk\", \"Capitão América\"]\n",
        "print('Lista de strings:', lista3)"
      ],
      "execution_count": 0,
      "outputs": [
        {
          "output_type": "stream",
          "text": [
            "Lista de números inteiros: [0, 1, 2, 4]\n",
            "Lista de números floats: [0.2, 0.3, 0.5]\n",
            "Lista de strings: ['Marvel', 'Hulk', 'Capitão América']\n"
          ],
          "name": "stdout"
        }
      ]
    },
    {
      "cell_type": "markdown",
      "metadata": {
        "id": "fJEq-PeTNrws",
        "colab_type": "text"
      },
      "source": [
        "Como Python trabalha com tipagem dinâmica, as listas podem ter valores de tipos misturados (embora seja menos comum) e até mesmo ser um lista de listas!"
      ]
    },
    {
      "cell_type": "code",
      "metadata": {
        "id": "M4JJMNE2Pyny",
        "colab_type": "code",
        "outputId": "3255a21e-fc97-4ba4-df00-67441ba22c0a",
        "colab": {
          "base_uri": "https://localhost:8080/",
          "height": 68
        }
      },
      "source": [
        "# Lista de valores misturados\n",
        "lista_de_misturados = [\"Homem Aranha\", 10, 40.5]\n",
        "print('Lista de misturados: ', lista_de_misturados)\n",
        "\n",
        "# Lista de listas!\n",
        "lista_de_listas = [[3, 4], [0, 1], [5, 6]]\n",
        "print('Lista de listas: ', lista_de_listas)\n",
        "\n",
        "# Lista de listas misturadas!\n",
        "lista_de_listas_misturados = [[\"Pantera Negra\"], [0, 1], [5.4, 6.6, 7.8]]\n",
        "print('Lista de lista de misturados: ', lista_de_listas_misturados)"
      ],
      "execution_count": 0,
      "outputs": [
        {
          "output_type": "stream",
          "text": [
            "Lista de misturados:  ['Homem Aranha', 10, 40.5]\n",
            "Lista de listas:  [[3, 4], [0, 1], [5, 6]]\n",
            "Lista de lista de misturados:  [['Pantera Negra'], [0, 1], [5.4, 6.6, 7.8]]\n"
          ],
          "name": "stdout"
        }
      ]
    },
    {
      "cell_type": "markdown",
      "metadata": {
        "id": "MIYY1QU0Q35G",
        "colab_type": "text"
      },
      "source": [
        "Uma lista que contém outra lista é chamada de **lista aninhada** uma lista sem elementos é chamada de **lista vazia** e é declarada passando os colchetes sem nenhum valor [ ]."
      ]
    },
    {
      "cell_type": "code",
      "metadata": {
        "id": "0NlQbLcQRWHV",
        "colab_type": "code",
        "outputId": "199072fd-2313-45b5-987d-a591633cca13",
        "colab": {
          "base_uri": "https://localhost:8080/",
          "height": 34
        }
      },
      "source": [
        "# Declarando uma lista vazia\n",
        "lista_vazia = []\n",
        "print(lista_vazia)"
      ],
      "execution_count": 0,
      "outputs": [
        {
          "output_type": "stream",
          "text": [
            "[]\n"
          ],
          "name": "stdout"
        }
      ]
    },
    {
      "cell_type": "markdown",
      "metadata": {
        "id": "F-6dc0V4bOqB",
        "colab_type": "text"
      },
      "source": [
        "Inicialmente, pode parecer que listas são parecidas com strings. O acesso aos valores em listas segue a mesma regra que em string (uso do operador de colchetes [ ]). Mas existe uma importante diferença entre elas: listas em python são **mutáveis**. Isso significa que podemos modificar os valores de uma lista em tempo de execução:"
      ]
    },
    {
      "cell_type": "code",
      "metadata": {
        "id": "1RML_S_rcLVH",
        "colab_type": "code",
        "outputId": "0d1c0dbf-ac5e-47b5-85c6-d99d1044463f",
        "colab": {
          "base_uri": "https://localhost:8080/",
          "height": 51
        }
      },
      "source": [
        "# Lista de valores\n",
        "lista = [1, 3, 4]\n",
        "\n",
        "# Mostrando o valor da posição 2\n",
        "print('O valor da posição 2 é:', lista[2])\n",
        "\n",
        "# Modificando o valor da posição 2\n",
        "lista[2] = 10\n",
        "print('Agora o valor da posição 2 é:', lista[2])"
      ],
      "execution_count": 0,
      "outputs": [
        {
          "output_type": "stream",
          "text": [
            "O valor da posição 2 é: 4\n",
            "Agora o valor da posição 2 é: 10\n"
          ],
          "name": "stdout"
        }
      ]
    },
    {
      "cell_type": "markdown",
      "metadata": {
        "id": "vvnu5LjScx94",
        "colab_type": "text"
      },
      "source": [
        "Como já introduzido, índices em listas suportam as mesmas operações que strings: (1) os índices podem ser acessados com variáveis; (2) se você tentar acessar um elemento que não existe a lista vai retornar um erro (3) valores negativos podem ser usados para acessar os índices do fim para o começo da lista e (4) o operador **in** também funciona em listas."
      ]
    },
    {
      "cell_type": "code",
      "metadata": {
        "id": "aGYUlf_kdWIh",
        "colab_type": "code",
        "colab": {}
      },
      "source": [
        "# Crie uma lista de valores\n",
        "lista = [1,5,7,8]"
      ],
      "execution_count": 0,
      "outputs": []
    },
    {
      "cell_type": "code",
      "metadata": {
        "id": "bSYFJSkcedNi",
        "colab_type": "code",
        "outputId": "d07490f0-99b0-4216-d194-1c172684dde0",
        "colab": {
          "base_uri": "https://localhost:8080/",
          "height": 34
        }
      },
      "source": [
        "# Acesse um índice da lista\n",
        "i = 2\n",
        "print('A posição %d é igual a %d' % (i, lista[i]))"
      ],
      "execution_count": 0,
      "outputs": [
        {
          "output_type": "stream",
          "text": [
            "A posição 2 é igual a 7\n"
          ],
          "name": "stdout"
        }
      ]
    },
    {
      "cell_type": "code",
      "metadata": {
        "id": "_5Fi_WDFefE7",
        "colab_type": "code",
        "outputId": "de962320-cce3-49d7-b958-65f1fab032dd",
        "colab": {
          "base_uri": "https://localhost:8080/",
          "height": 164
        }
      },
      "source": [
        "# Tente acessar um índice que não existe\n",
        "print(lista[10])"
      ],
      "execution_count": 0,
      "outputs": [
        {
          "output_type": "error",
          "ename": "IndexError",
          "evalue": "ignored",
          "traceback": [
            "\u001b[0;31m---------------------------------------------------------------------------\u001b[0m",
            "\u001b[0;31mIndexError\u001b[0m                                Traceback (most recent call last)",
            "\u001b[0;32m<ipython-input-7-5e10886833eb>\u001b[0m in \u001b[0;36m<module>\u001b[0;34m()\u001b[0m\n\u001b[0;32m----> 1\u001b[0;31m \u001b[0mprint\u001b[0m\u001b[0;34m(\u001b[0m\u001b[0mlista\u001b[0m\u001b[0;34m[\u001b[0m\u001b[0;36m10\u001b[0m\u001b[0;34m]\u001b[0m\u001b[0;34m)\u001b[0m\u001b[0;34m\u001b[0m\u001b[0;34m\u001b[0m\u001b[0m\n\u001b[0m",
            "\u001b[0;31mIndexError\u001b[0m: list index out of range"
          ]
        }
      ]
    },
    {
      "cell_type": "code",
      "metadata": {
        "id": "Qc1ACOyheivD",
        "colab_type": "code",
        "outputId": "7f8281d1-512a-4050-807a-a7449a3aab30",
        "colab": {
          "base_uri": "https://localhost:8080/",
          "height": 34
        }
      },
      "source": [
        "# Use um valor negativo no índice\n",
        "i = -1\n",
        "print('A posição %d é igual a %d' % (i, lista[i]))"
      ],
      "execution_count": 0,
      "outputs": [
        {
          "output_type": "stream",
          "text": [
            "A posição -1 é igual a 8\n"
          ],
          "name": "stdout"
        }
      ]
    },
    {
      "cell_type": "code",
      "metadata": {
        "id": "TbPmzO0PfJML",
        "colab_type": "code",
        "outputId": "1629f506-b383-44d3-c782-0f5b2ea3cae7",
        "colab": {
          "base_uri": "https://localhost:8080/",
          "height": 51
        }
      },
      "source": [
        "# Uso do operador in, veja se algum número existe na lista\n",
        "# teste com: valor in lista\n",
        "print(1 in lista)\n",
        "print(100 in lista)"
      ],
      "execution_count": 0,
      "outputs": [
        {
          "output_type": "stream",
          "text": [
            "True\n",
            "False\n"
          ],
          "name": "stdout"
        }
      ]
    },
    {
      "cell_type": "markdown",
      "metadata": {
        "id": "ScRUYfQhepSf",
        "colab_type": "text"
      },
      "source": [
        "### Iterando sobre uma lista\n",
        "\n",
        "Assim como acontece com as strings, podemos iterar sobre as listas usando o **for** loop."
      ]
    },
    {
      "cell_type": "code",
      "metadata": {
        "id": "LVLtVa6ke6az",
        "colab_type": "code",
        "outputId": "3e37d96b-5750-4100-ab0c-9e438936331a",
        "colab": {
          "base_uri": "https://localhost:8080/",
          "height": 85
        }
      },
      "source": [
        "# Lista de valores\n",
        "lista = [2, 5, 9, 10]\n",
        "\n",
        "# Iterando sobre a lista\n",
        "for valor in lista:\n",
        "    print(valor)"
      ],
      "execution_count": 0,
      "outputs": [
        {
          "output_type": "stream",
          "text": [
            "2\n",
            "5\n",
            "9\n",
            "10\n"
          ],
          "name": "stdout"
        }
      ]
    },
    {
      "cell_type": "markdown",
      "metadata": {
        "id": "O7M_9vU-fjC_",
        "colab_type": "text"
      },
      "source": [
        "A variável valor dentro do loop recebe cada valor da lista iterada pelo for. Podemos desenhar um diagrama que ilusta o que acontece com a variável **valor** dentro do **for** loop:\n",
        "\n",
        "<p align=\"center\">\n",
        "    <img width=815px src=\"https://i.imgur.com/CoqDhpS.jpg\" />\n",
        "</p>\n",
        "<center><b>Fig-2.</b> Iterações do for loop sobre a lista.</center>\n",
        "\n",
        "Se queremos iterar sobre os índices em vez dos valores, podemos usar a função **len** combinada com a função **range**. Lembre-se que, dada uma lista $ l $ os seus valores estão indexados no intervalo $[0, ..., \\text{len}(l)-1]$ assim como as strings."
      ]
    },
    {
      "cell_type": "code",
      "metadata": {
        "id": "CB9trOq8ftoW",
        "colab_type": "code",
        "outputId": "6d641fed-bb34-46cc-ee64-60ee026f480b",
        "colab": {
          "base_uri": "https://localhost:8080/",
          "height": 102
        }
      },
      "source": [
        "# Lista de valores\n",
        "lista = [7, 8, 9, 10]\n",
        "\n",
        "# Operador len traz o tamanho da lista (assim com nas strings)\n",
        "print('O tamanho da lista é:', len(lista))\n",
        "\n",
        "# Iterando sobre os índices\n",
        "for i in range(len(lista)):\n",
        "    print(lista[i])"
      ],
      "execution_count": 0,
      "outputs": [
        {
          "output_type": "stream",
          "text": [
            "O tamanho da lista é: 4\n",
            "7\n",
            "8\n",
            "9\n",
            "10\n"
          ],
          "name": "stdout"
        }
      ]
    },
    {
      "cell_type": "markdown",
      "metadata": {
        "id": "rvxkhsqMgEiu",
        "colab_type": "text"
      },
      "source": [
        "Sabemos que as listas são **mutáveis**, então fazer um loop sobre os índices é útil para **alterar** **valores**, por exemplo, um loop que eleva todos os itens da lista ao quadrado:"
      ]
    },
    {
      "cell_type": "code",
      "metadata": {
        "id": "-zZ4Jb-ngTj4",
        "colab_type": "code",
        "outputId": "70eb8375-9bba-41e0-c5f6-9ec6f044ef90",
        "colab": {
          "base_uri": "https://localhost:8080/",
          "height": 51
        }
      },
      "source": [
        "# Lista de números\n",
        "lista = [7, 8, 9, 10]\n",
        "\n",
        "# Imprimindo os termos antes de elevar ao quadrado\n",
        "print('Números:', lista)\n",
        "\n",
        "# Elevando os termos ao quadrado\n",
        "for i in range(len(lista)):\n",
        "    lista[i] = lista[i]**2\n",
        "\n",
        "# Imprimindo os termos ao quadrado\n",
        "print('Números ao quadrado:', lista)"
      ],
      "execution_count": 0,
      "outputs": [
        {
          "output_type": "stream",
          "text": [
            "Números: [7, 8, 9, 10]\n",
            "Números ao quadrado: [49, 64, 81, 100]\n"
          ],
          "name": "stdout"
        }
      ]
    },
    {
      "cell_type": "markdown",
      "metadata": {
        "id": "D2Kq-rMdyB5a",
        "colab_type": "text"
      },
      "source": [
        "### Operações em Listas\n",
        "\n",
        "Podemos fazer operações em listas, assim como nas strings. O operador **+** concatena listas:"
      ]
    },
    {
      "cell_type": "code",
      "metadata": {
        "id": "S_Q7UIcb1GWD",
        "colab_type": "code",
        "outputId": "997306d0-16b2-4cb8-b42c-0b4e3419a3cd",
        "colab": {
          "base_uri": "https://localhost:8080/",
          "height": 68
        }
      },
      "source": [
        "# Uma lista\n",
        "lista1 = [1, 3, 4]\n",
        "print('Lista 1', lista1)\n",
        "\n",
        "# Outra lista\n",
        "lista2 = [5, 7, 9]\n",
        "print('Lista 2', lista2)\n",
        "\n",
        "# Concatenando listas\n",
        "lista12 = lista1 + lista2\n",
        "\n",
        "# Lista concatenada\n",
        "print('Lista concatenada', lista12)"
      ],
      "execution_count": 0,
      "outputs": [
        {
          "output_type": "stream",
          "text": [
            "Lista 1 [1, 3, 4]\n",
            "Lista 2 [5, 7, 9]\n",
            "Lista concatenada [1, 3, 4, 5, 7, 9]\n"
          ],
          "name": "stdout"
        }
      ]
    },
    {
      "cell_type": "markdown",
      "metadata": {
        "id": "p32jrQWO1gmr",
        "colab_type": "text"
      },
      "source": [
        "O operador <b>*</b> repete os valores da lista pelo número de vezes que você passar:"
      ]
    },
    {
      "cell_type": "code",
      "metadata": {
        "id": "186BcNME1ecQ",
        "colab_type": "code",
        "outputId": "f8036830-ec24-41c6-bdc4-c2069a4b82fa",
        "colab": {
          "base_uri": "https://localhost:8080/",
          "height": 51
        }
      },
      "source": [
        "# Uma lista qualquer\n",
        "lista = [9, 8, 7, 6]\n",
        "print('A lista é:', lista)\n",
        "\n",
        "# Repetindo a lista\n",
        "lista_repetida = lista * 4\n",
        "print('A lista repetida é:', lista_repetida)"
      ],
      "execution_count": 0,
      "outputs": [
        {
          "output_type": "stream",
          "text": [
            "A lista é: [9, 8, 7, 6]\n",
            "A lista repetida é: [9, 8, 7, 6, 9, 8, 7, 6, 9, 8, 7, 6, 9, 8, 7, 6]\n"
          ],
          "name": "stdout"
        }
      ]
    },
    {
      "cell_type": "markdown",
      "metadata": {
        "id": "9qQNWGAB6nr4",
        "colab_type": "text"
      },
      "source": [
        "### Extraíndo sublistas (slicing)\n",
        "\n",
        "Extração de **sublistas** segue o mesmo conceito de **substrings**, isso implica que, para obter uma sublista basta usar o operador : dentro dos [ ], especificando o intervalo desejado."
      ]
    },
    {
      "cell_type": "code",
      "metadata": {
        "id": "xdBSzqPG69nq",
        "colab_type": "code",
        "outputId": "361c7a06-c229-4795-f4ff-bdfd31f8ae9d",
        "colab": {
          "base_uri": "https://localhost:8080/",
          "height": 68
        }
      },
      "source": [
        "# Lista de letras\n",
        "lista = ['a', 'b', 'c', 'd', 'f', 'z']\n",
        "\n",
        "# Sublista (slice)\n",
        "print(lista[1:3])\n",
        "\n",
        "# Outra sublista\n",
        "print(lista[1:])\n",
        "\n",
        "# Mesmo efeito de [:] em strings\n",
        "print(lista[:])"
      ],
      "execution_count": 0,
      "outputs": [
        {
          "output_type": "stream",
          "text": [
            "['b', 'c']\n",
            "['b', 'c', 'd', 'f', 'z']\n",
            "['a', 'b', 'c', 'd', 'f', 'z']\n"
          ],
          "name": "stdout"
        }
      ]
    },
    {
      "cell_type": "markdown",
      "metadata": {
        "id": "FnljN7Gw7UZF",
        "colab_type": "text"
      },
      "source": [
        "Como listas são mutáveis, o operador de slice pode ser usado em atribuições de elementos multiplos."
      ]
    },
    {
      "cell_type": "code",
      "metadata": {
        "id": "ywx46d2A7a8T",
        "colab_type": "code",
        "outputId": "84a603c1-fb7b-4112-d832-280d655517bb",
        "colab": {
          "base_uri": "https://localhost:8080/",
          "height": 51
        }
      },
      "source": [
        "# Lista de letras\n",
        "lista = ['a', 'b', 'c', 'd', 'f', 'z']\n",
        "print('Valores que estavam na lista:', lista)\n",
        "\n",
        "# Vamos modificar de 0 até 3\n",
        "lista[0:3] = ['l', 'j', 'g']\n",
        "\n",
        "# Vamos verificar que os valores foram modificados\n",
        "print('Valores modificados na lista:', lista)"
      ],
      "execution_count": 0,
      "outputs": [
        {
          "output_type": "stream",
          "text": [
            "Valores que estavam na lista: ['a', 'b', 'c', 'd', 'f', 'z']\n",
            "Valores modificados na lista: ['l', 'j', 'g', 'd', 'f', 'z']\n"
          ],
          "name": "stdout"
        }
      ]
    },
    {
      "cell_type": "markdown",
      "metadata": {
        "id": "UJsn3nJU7vwB",
        "colab_type": "text"
      },
      "source": [
        "### Métodos de Listas\n",
        "\n",
        "O Python fornece alguns métodos para trabalhar com listas. O primeiro deles é o **append**, que adiciona um valor ao final da lista."
      ]
    },
    {
      "cell_type": "code",
      "metadata": {
        "id": "RGrD6DXL_DrI",
        "colab_type": "code",
        "outputId": "31302332-cc53-4253-de27-ddf6b4229226",
        "colab": {
          "base_uri": "https://localhost:8080/",
          "height": 51
        }
      },
      "source": [
        "# Lista de valores\n",
        "lista = [1, 4, 5]\n",
        "print('Lista antes do append', lista)\n",
        "\n",
        "# Adicionando valores ao final da lista\n",
        "lista.append(9)\n",
        "lista.append(10)\n",
        "print('Lista após o append', lista)"
      ],
      "execution_count": 0,
      "outputs": [
        {
          "output_type": "stream",
          "text": [
            "Lista antes do append [1, 4, 5]\n",
            "Lista após o append [1, 4, 5, 9, 10]\n"
          ],
          "name": "stdout"
        }
      ]
    },
    {
      "cell_type": "markdown",
      "metadata": {
        "id": "_SDh1abOYVkn",
        "colab_type": "text"
      },
      "source": [
        "Cada chamada do método **append** adiciona um novo item em **lista**. Podemos ver esse comportamento a partir de um diagrama:\n",
        "\n",
        "<p align=\"center\">\n",
        "    <img width=650px src=\"https://i.imgur.com/YGHSk5H.jpg\" />\n",
        "</p>\n",
        "<center><b>Fig-3.</b> Operações de append sobre a lista.</center>\n",
        "\n",
        "Outro método útil é o **extend** que adiciona uma lista na outra, ele possui comportamento muito similar ao operador +, porém, não cria uma nova lista (ele extende a primeira lista)."
      ]
    },
    {
      "cell_type": "code",
      "metadata": {
        "id": "-x2yzOoMZPDa",
        "colab_type": "code",
        "outputId": "88ef0127-b83e-46d1-b81e-2f1a8c593adb",
        "colab": {
          "base_uri": "https://localhost:8080/",
          "height": 51
        }
      },
      "source": [
        "# Lista de valores\n",
        "lista = [1, 4, 5]\n",
        "print('Lista antes do extend', lista)\n",
        "\n",
        "# Outra lista de valores\n",
        "lista2 = [8, 9, 4]\n",
        "lista.extend(lista2)\n",
        "print('Lista após o extend', lista)"
      ],
      "execution_count": 0,
      "outputs": [
        {
          "output_type": "stream",
          "text": [
            "Lista antes do extend [1, 4, 5]\n",
            "Lista após o extend [1, 4, 5, 8, 9, 4]\n"
          ],
          "name": "stdout"
        }
      ]
    },
    {
      "cell_type": "markdown",
      "metadata": {
        "id": "AChyFqmQZe1h",
        "colab_type": "text"
      },
      "source": [
        "Quando usamos extend é como se ele executasse a chamada várias vezes de um append dos dados da segunda lista na primeira lista. Podemos entender esse comportamento a partir de um diagrama:\n",
        "\n",
        "<p align=\"center\">\n",
        "    <img width=700px src=\"https://i.imgur.com/eqZx5bQ.jpg\" />\n",
        "</p>\n",
        "<center><b>Fig-4.</b> Resultado da operação extend entre a lista e a lista2.</center>\n",
        "\n",
        "Note que, no exemplo acima os valores de **lista2** são mantidos intactos. Outro método que podemos utilizar é o **sort** que realiza a ordenação dos valores da lista."
      ]
    },
    {
      "cell_type": "code",
      "metadata": {
        "id": "OFNxFip7Zv6T",
        "colab_type": "code",
        "outputId": "aa50d86e-0158-40b8-e947-2a4f856e27e7",
        "colab": {
          "base_uri": "https://localhost:8080/",
          "height": 68
        }
      },
      "source": [
        "# Lista de valores\n",
        "lista = [9, 2, 10, 35, 1, 0]\n",
        "print('Lista fora de ordem', lista)\n",
        "\n",
        "# Aplicando ordenação crescente\n",
        "lista.sort()\n",
        "print('Lista em ordem crescente', lista)\n",
        "\n",
        "# Podemos ordenar em ordem descrecente também\n",
        "lista.sort(reverse=True)\n",
        "print('Lista em ordem decrescente', lista)"
      ],
      "execution_count": 0,
      "outputs": [
        {
          "output_type": "stream",
          "text": [
            "Lista fora de ordem [9, 2, 10, 35, 1, 0]\n",
            "Lista em ordem crescente [0, 1, 2, 9, 10, 35]\n",
            "Lista em ordem decrescente [35, 10, 9, 2, 1, 0]\n"
          ],
          "name": "stdout"
        }
      ]
    },
    {
      "cell_type": "markdown",
      "metadata": {
        "id": "Tf0FRi1FpQU7",
        "colab_type": "text"
      },
      "source": [
        "A operação de sort também tem a opcão **reverse** que se for passada como True faz a ordenação descrescente. As operações de ordenação crescente e descrecente podem ser visualizadas no diagrama abaixo:\n",
        "<p align=\"center\">\n",
        "    <img width=700px src=\"https://i.imgur.com/7rCTJW7.jpg\" />\n",
        "</p>\n",
        "<center><b>Fig-4.</b> Comparação dos métodos sort e sort com reverse = True.</center>\n",
        "\n",
        "Ordenação é um assunto vasto em disciplinas de análise de algoritmos, para nós basta saber a função python que implementa o método de ordenação, o Professor Paulo Feofiloff possui bastante material dedicado ao assunto [aqui](https://www.ime.usp.br/~pf/algoritmos/aulas/ordena.html)."
      ]
    },
    {
      "cell_type": "markdown",
      "metadata": {
        "id": "zYJpR_XIfBQX",
        "colab_type": "text"
      },
      "source": [
        "### Map, filter e reduce\n",
        "\n",
        "Operações que recebem uma lista e retornam um escalar, são chamadas de **operações** **reduce**. Por exemplo uma função que soma todos os valores de uma lista:"
      ]
    },
    {
      "cell_type": "code",
      "metadata": {
        "id": "Psdvg0TAfurJ",
        "colab_type": "code",
        "outputId": "2f171f5f-41d1-4964-8384-ea5520ac6718",
        "colab": {
          "base_uri": "https://localhost:8080/",
          "height": 34
        }
      },
      "source": [
        "# Exemplo de função reduce\n",
        "def sum_all(lista):\n",
        "    total = 0\n",
        "    for value in lista:\n",
        "        total += value\n",
        "    return total\n",
        "\n",
        "# Somando todos os valores de uma lista qualquer\n",
        "lista = [1, 6, 10, 2, 0]\n",
        "print('A soma dos valores da lista é:', sum_all(lista))"
      ],
      "execution_count": 0,
      "outputs": [
        {
          "output_type": "stream",
          "text": [
            "A soma dos valores da lista é: 19\n"
          ],
          "name": "stdout"
        }
      ]
    },
    {
      "cell_type": "markdown",
      "metadata": {
        "id": "_JDdPK9ygJJh",
        "colab_type": "text"
      },
      "source": [
        "Durante o loop acima a variável local total acumula os valores da lista, por isso essa variável é chamada de **acumulador**. Como a operação de soma é muito comum, o python tem uma função reduce para soma chamada **sum**."
      ]
    },
    {
      "cell_type": "code",
      "metadata": {
        "id": "Pc8YokMzgUrr",
        "colab_type": "code",
        "outputId": "8365d06e-7303-474e-9a4e-7bc323267eb0",
        "colab": {
          "base_uri": "https://localhost:8080/",
          "height": 34
        }
      },
      "source": [
        "# Aplicando a função sum do python\n",
        "print('A soma dos valores da lista é:', sum(lista))"
      ],
      "execution_count": 0,
      "outputs": [
        {
          "output_type": "stream",
          "text": [
            "A soma dos valores da lista é: 19\n"
          ],
          "name": "stdout"
        }
      ]
    },
    {
      "cell_type": "markdown",
      "metadata": {
        "id": "ovwosuKhgqjx",
        "colab_type": "text"
      },
      "source": [
        "Outro tipo de operações que fazemos em listas, envolvem **mapear** todos os elementos da lista em outros valores, isto é, receber uma lista e retornar uma outra lista construída sobre a original, essa operação é chamada de **operação map**. "
      ]
    },
    {
      "cell_type": "code",
      "metadata": {
        "id": "WN4haWxtgqLU",
        "colab_type": "code",
        "outputId": "4993b7e4-c99f-4099-b34a-25889e813d86",
        "colab": {
          "base_uri": "https://localhost:8080/",
          "height": 51
        }
      },
      "source": [
        "# Exemplo de função map\n",
        "def caixa_alta(lista_de_caracteres):\n",
        "    lista_caixa_alta = []\n",
        "    for caracter in lista_de_caracteres:\n",
        "        lista_caixa_alta.append(caracter.capitalize())\n",
        "    return lista_caixa_alta\n",
        "\n",
        "# Testando função map que faz todos os valores (letras) ficarem em caixa alta\n",
        "lista = ['a', 'b', 'a', 'C','a', 'X', 'i']\n",
        "print('Valores originais: ', lista)\n",
        "lista_caixa_alta = caixa_alta(lista)\n",
        "print('Aplicação do map caixa_alta: ', lista_caixa_alta)"
      ],
      "execution_count": 0,
      "outputs": [
        {
          "output_type": "stream",
          "text": [
            "Valores originais:  ['a', 'b', 'a', 'C', 'a', 'X', 'i']\n",
            "Aplicação do map caixa_alta:  ['A', 'B', 'A', 'C', 'A', 'X', 'I']\n"
          ],
          "name": "stdout"
        }
      ]
    },
    {
      "cell_type": "markdown",
      "metadata": {
        "id": "kFa9mUy_iA9U",
        "colab_type": "text"
      },
      "source": [
        "As vezes queremos selecionar alguns itens de uma lista que atendem uma certa condição e retornar uma sublista com esses itens. Uma operação que recebe uma lista e executa essa seleção é chamada de **operação filter**."
      ]
    },
    {
      "cell_type": "code",
      "metadata": {
        "id": "7ejRK7aoircx",
        "colab_type": "code",
        "outputId": "056c2d8a-dfff-4cb3-fe0a-9cda1d49b252",
        "colab": {
          "base_uri": "https://localhost:8080/",
          "height": 51
        }
      },
      "source": [
        "# Exemplo de função filter\n",
        "def maior_que(lista, valor):\n",
        "    out = []\n",
        "    for v in lista:\n",
        "        if v > valor: \n",
        "            out.append(v)\n",
        "    return out\n",
        "\n",
        "# Testando nossa função filter que retorna uma sublista com valores maiores que valor\n",
        "lista = [1, 6, 10, 2, 0]\n",
        "print('Lista original', lista)\n",
        "\n",
        "# Vamos retornar valores maiores que 3\n",
        "valor = 3\n",
        "print('Lista com valores maiores que 3', maior_que(lista, valor))"
      ],
      "execution_count": 0,
      "outputs": [
        {
          "output_type": "stream",
          "text": [
            "Lista original [1, 6, 10, 2, 0]\n",
            "Lista com valores maiores que 3 [6, 10]\n"
          ],
          "name": "stdout"
        }
      ]
    },
    {
      "cell_type": "markdown",
      "metadata": {
        "id": "tOuPi5BJtuav",
        "colab_type": "text"
      },
      "source": [
        "Implemente uma função que realiza a operação inversa, ou seja, que retorne apenas valores menores que o valor passado."
      ]
    },
    {
      "cell_type": "code",
      "metadata": {
        "id": "F3ejj2wNt6WF",
        "colab_type": "code",
        "outputId": "b48bceb3-61ce-4976-acb7-3de24e6e2101",
        "colab": {
          "base_uri": "https://localhost:8080/",
          "height": 51
        }
      },
      "source": [
        "# Escreva aqui\n",
        "def menor_ou_igual(lista, valor):\n",
        "    out = []\n",
        "    for v in lista:\n",
        "        if v <= valor: \n",
        "            out.append(v)\n",
        "    return out\n",
        "\n",
        "# Testando nossa função filter que retorna uma sublista com valores maiores que valor\n",
        "lista = [1, 6, 10, 2, 0]\n",
        "print('Lista original', lista)\n",
        "\n",
        "# Vamos retornar valores menores ou iguais a 3\n",
        "valor = 3\n",
        "print('Lista com valores menores ou iguais a 3', menor_ou_igual(lista, valor))"
      ],
      "execution_count": 0,
      "outputs": [
        {
          "output_type": "stream",
          "text": [
            "Lista original [1, 6, 10, 2, 0]\n",
            "Lista com valores menores ou iguais a 3 [1, 2, 0]\n"
          ],
          "name": "stdout"
        }
      ]
    },
    {
      "cell_type": "markdown",
      "metadata": {
        "id": "aBbaaHNZjrJE",
        "colab_type": "text"
      },
      "source": [
        "Grande parte das operações sobre listas podem ser escritas a partir das operações de map, filter e reduce.\n",
        "\n",
        "### Removendo elementos de uma lista\n",
        "\n",
        "Podemos remover elementos de uma lista de várias formas. Se você conhece o índice do elemento, você pode removê-lo usando o método **pop**."
      ]
    },
    {
      "cell_type": "code",
      "metadata": {
        "id": "U7b1DbUfwvb3",
        "colab_type": "code",
        "outputId": "eccce9cb-c6c6-49f0-80ae-43b0d90a150e",
        "colab": {
          "base_uri": "https://localhost:8080/",
          "height": 68
        }
      },
      "source": [
        "# Uma lista qualquer\n",
        "lista = [1, 6, 10, 2, 0]\n",
        "print('Lista antes da remoção: ', lista)\n",
        "\n",
        "# Quero remover da lista o elemento da posição 2\n",
        "i = 2\n",
        "elem = lista.pop(i)\n",
        "print('Lista após a remoção: ', lista)\n",
        "print('Elemento removido: ', elem)"
      ],
      "execution_count": 0,
      "outputs": [
        {
          "output_type": "stream",
          "text": [
            "Lista antes da remoção:  [1, 6, 10, 2, 0]\n",
            "Lista após a remoção:  [1, 6, 2, 0]\n",
            "Elemento removido:  10\n"
          ],
          "name": "stdout"
        }
      ]
    },
    {
      "cell_type": "markdown",
      "metadata": {
        "id": "x883APwexKLx",
        "colab_type": "text"
      },
      "source": [
        "O método pop altera a estrutura da lista, deslocando do final para o começo. Se você quer remover um elemento da lista, mas não conhece as sua posição, você pode usar o método **remove**:"
      ]
    },
    {
      "cell_type": "code",
      "metadata": {
        "id": "Cs6CNndDxjna",
        "colab_type": "code",
        "outputId": "e40a711f-0324-437c-a2e9-df37dd8fda92",
        "colab": {
          "base_uri": "https://localhost:8080/",
          "height": 51
        }
      },
      "source": [
        "# Uma lista qualquer\n",
        "lista = [1, 6, 10, 0, 0]\n",
        "print('Lista antes da remoção: ', lista)\n",
        "\n",
        "# Quero remover o elemento que valem 10\n",
        "lista.remove(10)\n",
        "print('Lista após a remoção: ', lista)"
      ],
      "execution_count": 0,
      "outputs": [
        {
          "output_type": "stream",
          "text": [
            "Lista antes da remoção:  [1, 6, 10, 0, 0]\n",
            "Lista após a remoção:  [1, 6, 0, 0]\n"
          ],
          "name": "stdout"
        }
      ]
    },
    {
      "cell_type": "markdown",
      "metadata": {
        "id": "JHdz8e4SxzQW",
        "colab_type": "text"
      },
      "source": [
        "Note que, nossa lista acima tem dois números $0$, porém o **remove** só removeu um deles, isso é porquê o **remove** sempre remove o primeiro elemento que ele encontra. O método remove não retorna nenhum elemento, pois, a sua função é remover os elementos da lista, tome cuidado, se você associar o valore de remove em alguma variável você vai obter um resultado **None**."
      ]
    },
    {
      "cell_type": "code",
      "metadata": {
        "id": "86VATEmlx_qu",
        "colab_type": "code",
        "outputId": "53f5d1fe-442d-438f-f2ff-a4735048e775",
        "colab": {
          "base_uri": "https://localhost:8080/",
          "height": 34
        }
      },
      "source": [
        "# Pegando resultado de remove\n",
        "lista = [1, 6, 10, 0, 0]\n",
        "elem = lista.remove(0)\n",
        "\n",
        "# Você removeu mas não retornou nada!\n",
        "print('Remove sempre retorna', elem)"
      ],
      "execution_count": 0,
      "outputs": [
        {
          "output_type": "stream",
          "text": [
            "Remove sempre retorna None\n"
          ],
          "name": "stdout"
        }
      ]
    },
    {
      "cell_type": "markdown",
      "metadata": {
        "id": "0FciWgcGy225",
        "colab_type": "text"
      },
      "source": [
        "Geralmente quando atribuímos uma variável a outra, esperamos que o conteúdo de uma seja copiado para a outra. Porém, com listas o comportamento é diferente e pode levar a resultados indesejados."
      ]
    },
    {
      "cell_type": "code",
      "metadata": {
        "id": "GHn8L5-FzDth",
        "colab_type": "code",
        "outputId": "d2b449c0-0eec-4928-9afa-d71e6a5a7872",
        "colab": {
          "base_uri": "https://localhost:8080/",
          "height": 51
        }
      },
      "source": [
        "# Ums lista qualquer\n",
        "lista = [1, 6, 10, 0, 0]\n",
        "\n",
        "# Atenção a operação abaixo NÃO copia uma lista na outra\n",
        "lista2 = lista\n",
        "\n",
        "# Provando que as listas são iguais\n",
        "print('As listas são iguais?', lista is lista2)\n",
        "\n",
        "# Se eu alterar a variável lista, a variável lista2 também vai ser alterada\n",
        "lista[0] = 100\n",
        "print('Lista 2 também foi alterada', lista2)"
      ],
      "execution_count": 0,
      "outputs": [
        {
          "output_type": "stream",
          "text": [
            "As listas são iguais? True\n",
            "Lista 2 também foi alterada [100, 6, 10, 0, 0]\n"
          ],
          "name": "stdout"
        }
      ]
    },
    {
      "cell_type": "markdown",
      "metadata": {
        "id": "AkIL2QCfzcCP",
        "colab_type": "text"
      },
      "source": [
        "O comportamento acima ocorre, porque as listas em Python não são copiadas quando atribuímos uma a outra. Dizemos que elas possuem a mesma **referência** na memória. Para efetivamente copiar uma lista na outra basta usar os colchetes com os dois pontos:"
      ]
    },
    {
      "cell_type": "code",
      "metadata": {
        "id": "PLWeR0fhz7iR",
        "colab_type": "code",
        "outputId": "80e6fd89-b0f5-4c3d-9a6a-265a30f8984e",
        "colab": {
          "base_uri": "https://localhost:8080/",
          "height": 51
        }
      },
      "source": [
        "# Ums lista qualquer\n",
        "lista = [1, 6, 10, 0, 0]\n",
        "\n",
        "# Agora sim a lista está sendo copiada\n",
        "lista2 = lista[:]\n",
        "\n",
        "# Provando que as listas são iguais\n",
        "print('As listas são iguais?', lista is lista2)\n",
        "\n",
        "# Agora se eu alterar a variável lista, a variável lista2 permanece intacta\n",
        "lista[0] = 100\n",
        "print('Lista 2 não foi alterada', lista2)"
      ],
      "execution_count": 0,
      "outputs": [
        {
          "output_type": "stream",
          "text": [
            "As listas são iguais? False\n",
            "Lista 2 não foi alterada [1, 6, 10, 0, 0]\n"
          ],
          "name": "stdout"
        }
      ]
    },
    {
      "cell_type": "markdown",
      "metadata": {
        "id": "t5TfJWFv4LIZ",
        "colab_type": "text"
      },
      "source": [
        "### Exercícios\n",
        "\n",
        "**Ex1.** Escreva uma função **soma_aninhada** que recebe uma lista aninhada e faz a soma de todos os valores. Por exemplo, se a lista é $ [[1, 2], [3], [4, 5, 6]] $ a função deve retornar $1+2+3+4+5+6=21$."
      ]
    },
    {
      "cell_type": "code",
      "metadata": {
        "id": "zQOrHgn84t0u",
        "colab_type": "code",
        "outputId": "96781d7c-5f6b-40b9-87bb-19f67682c3a0",
        "colab": {
          "base_uri": "https://localhost:8080/",
          "height": 34
        }
      },
      "source": [
        "# Escreva aqui\n",
        "def soma_aninhada(lista_aninhada):\n",
        "    total = 0\n",
        "    for lista in lista_aninhada:\n",
        "        for valor in lista:\n",
        "            total = total + valor\n",
        "\n",
        "    return total\n",
        "\n",
        "#\n",
        "lista_aninhada = [[1, 2], [3], [4, 5, 6]]\n",
        "print(soma_aninhada(lista_aninhada))"
      ],
      "execution_count": 0,
      "outputs": [
        {
          "output_type": "stream",
          "text": [
            "21\n"
          ],
          "name": "stdout"
        }
      ]
    },
    {
      "cell_type": "markdown",
      "metadata": {
        "id": "qHOhhF_-5ewE",
        "colab_type": "text"
      },
      "source": [
        "**Ex2.** Escreva uma função **soma_cumulativa** que recebe uma lista e realiza a soma cumulativa de seus elementos, onde cada um dos $i$ elementos da lista, tem a soma dos primeiros $i+1$ elementos da lista original. Por exemplo, se a lista é $[1, 2, 3]$ a função deve retornar a lista da soma cumulativa: $[1, 3, 6]$."
      ]
    },
    {
      "cell_type": "code",
      "metadata": {
        "id": "oIW2QUuq5fJ3",
        "colab_type": "code",
        "outputId": "9f820a34-8ed2-4428-92f5-3c182fa1160d",
        "colab": {
          "base_uri": "https://localhost:8080/",
          "height": 34
        }
      },
      "source": [
        "# Escreva aqui\n",
        "def soma_cumulativa(lista):\n",
        "    cusum = lista[:]\n",
        "    i = 0\n",
        "    for j in range(1, len(lista)):\n",
        "        cusum[j] = cusum[i] + cusum[j]\n",
        "        i = i + 1\n",
        "    return cusum\n",
        "\n",
        "lista = [1,2,3, 5]\n",
        "soma_cumulativa(lista)"
      ],
      "execution_count": 0,
      "outputs": [
        {
          "output_type": "execute_result",
          "data": {
            "text/plain": [
              "[1, 3, 6, 11]"
            ]
          },
          "metadata": {
            "tags": []
          },
          "execution_count": 47
        }
      ]
    },
    {
      "cell_type": "markdown",
      "metadata": {
        "id": "YBJKeXpg7U91",
        "colab_type": "text"
      },
      "source": [
        "**Ex3.** Escreva uma função chamada **meio** que recebe uma lista e retorna um sublista que contém todos os valores, menos o primeiro e o último elementos. Por exemplo, se a lista é $[1, 2, 3, 4]$ a função deve retornar $[2, 3]$."
      ]
    },
    {
      "cell_type": "code",
      "metadata": {
        "id": "4XCcR5sX7ynm",
        "colab_type": "code",
        "outputId": "fafebfb8-4f5d-4e14-aecb-a7a196797341",
        "colab": {
          "base_uri": "https://localhost:8080/",
          "height": 34
        }
      },
      "source": [
        "# Escreva aqui\n",
        "def meio(lista):\n",
        "    return lista[1:-1]\n",
        "\n",
        "#\n",
        "lista = [1,2,3,4]\n",
        "print(meio(lista))"
      ],
      "execution_count": 0,
      "outputs": [
        {
          "output_type": "stream",
          "text": [
            "[2, 3]\n"
          ],
          "name": "stdout"
        }
      ]
    },
    {
      "cell_type": "markdown",
      "metadata": {
        "id": "1sJlF06t8MNT",
        "colab_type": "text"
      },
      "source": [
        "**Ex4.** Escreva uma função chamada **corta** que recebe uma lista e remove o primeiro e o último elemento, além disso a função deve retornar None. Por exemplo, dada uma lista $ l=[1, 2, 3, 4] $ a depois de executar **corta($l$)** a lista deve ficar $l=[2, 3]$."
      ]
    },
    {
      "cell_type": "code",
      "metadata": {
        "id": "gV-IuH3N9Oh3",
        "colab_type": "code",
        "outputId": "4d56073e-c983-42f4-f5b7-93c691f8074b",
        "colab": {
          "base_uri": "https://localhost:8080/",
          "height": 34
        }
      },
      "source": [
        "# Escreva aqui\n",
        "def corta(lista):\n",
        "    lista.pop(0)\n",
        "    lista.pop(len(lista)-1)\n",
        "    return None\n",
        "#\n",
        "lista = [1,2,3,4]\n",
        "corta(lista)\n",
        "print(lista)"
      ],
      "execution_count": 0,
      "outputs": [
        {
          "output_type": "stream",
          "text": [
            "[2, 3]\n"
          ],
          "name": "stdout"
        }
      ]
    },
    {
      "cell_type": "markdown",
      "metadata": {
        "id": "wvTmnCc59utI",
        "colab_type": "text"
      },
      "source": [
        "**Ex5.** Escreva uma função **ordenada** que recebe uma lista e retornar **True** se a lista está ordenada em ordem crescente e **False** caso contrário. Por exemplo, se a lista é $[1, 2, 2]$ a função retorna True, se a lista é $ [2,4,3] $ a função retorna False."
      ]
    },
    {
      "cell_type": "code",
      "metadata": {
        "id": "0q8fdL_e-H_u",
        "colab_type": "code",
        "colab": {}
      },
      "source": [
        "# Escreva aqui\n",
        "def ordenada(lista):\n",
        "    "
      ],
      "execution_count": 0,
      "outputs": []
    },
    {
      "cell_type": "markdown",
      "metadata": {
        "id": "DqF2f6rH-4zV",
        "colab_type": "text"
      },
      "source": [
        "**Ex6.** Escreva agora uma função **ordenada_reversa** que retorna **True** se a lista está ordenada em ordem descrescente e **False** caso contrário. Por exemplo, se a lista é $[5,4,3]$ a função retorna True, se a lista é $[1,2,3]$ a função retorna False."
      ]
    },
    {
      "cell_type": "code",
      "metadata": {
        "id": "Fpdx2kjl_Tsa",
        "colab_type": "code",
        "colab": {}
      },
      "source": [
        "# Escreva aqui\n"
      ],
      "execution_count": 0,
      "outputs": []
    },
    {
      "cell_type": "markdown",
      "metadata": {
        "id": "yvDZ7lfaAzFG",
        "colab_type": "text"
      },
      "source": [
        "**Ex7.** Escreva uma função **tem_duplicadas** que recebe uma lista como argumento e se a lista possui algum elemento duplicado retorna **True** e **False** caso contrário. Por exemplo, se a lista é $[4, 2, 4]$ a função deve retornar True, se a lista é $ [5,4,3] $ a função deve retornar False."
      ]
    },
    {
      "cell_type": "code",
      "metadata": {
        "id": "22neC-rdBI7f",
        "colab_type": "code",
        "outputId": "66d28bc3-0cec-48b2-ffba-dc218f85376c",
        "colab": {
          "base_uri": "https://localhost:8080/",
          "height": 34
        }
      },
      "source": [
        "# Escreva aqui\n",
        "def tem_duplicadas(lista):\n",
        "    for i in range(0, len(lista)-1):\n",
        "        for j in range(i+1, len(lista)):\n",
        "            if lista[i] == lista[j]:\n",
        "                return True\n",
        "    return False\n",
        "\n",
        "lista = [4,2,4]\n",
        "print(tem_duplicadas(lista))"
      ],
      "execution_count": 0,
      "outputs": [
        {
          "output_type": "stream",
          "text": [
            "True\n"
          ],
          "name": "stdout"
        }
      ]
    },
    {
      "cell_type": "markdown",
      "metadata": {
        "id": "A6OpfYZJ36D5",
        "colab_type": "text"
      },
      "source": [
        "**Ex8.** Escreva uma função **maxmin** que recebe uma lista e retorna uma sublista contendo o **maior** e o **menor** valor da lista de entrada. Por exemplo, se a lista é $[8, 9, 4, 2, 8]$ então a sublista de saída é $[2, 9]$ (menor e maior valor). Não é permitido usar as funções max e min do python."
      ]
    },
    {
      "cell_type": "code",
      "metadata": {
        "id": "ctJ8VQVX4ZYE",
        "colab_type": "code",
        "outputId": "5c0d1ddd-6398-40f5-ecc0-6c8b10645e40",
        "colab": {
          "base_uri": "https://localhost:8080/",
          "height": 34
        }
      },
      "source": [
        "# Escreva aqui\n",
        "def maxmin(lista):\n",
        "    maxv = lista[0]\n",
        "    minv = lista[0]\n",
        "\n",
        "    for valor in lista:\n",
        "        if valor > maxv:\n",
        "            maxv = valor\n",
        "        if valor < minv:\n",
        "            minv = valor\n",
        "\n",
        "    return [minv, maxv]\n",
        "\n",
        "lista = [1,8,9,4,2,8]\n",
        "print(maxmin(lista))"
      ],
      "execution_count": 0,
      "outputs": [
        {
          "output_type": "stream",
          "text": [
            "[1, 9]\n"
          ],
          "name": "stdout"
        }
      ]
    },
    {
      "cell_type": "markdown",
      "metadata": {
        "id": "jPN90sP06uVs",
        "colab_type": "text"
      },
      "source": [
        "**Ex9.** Um histograma de uma lista de números naturais é uma lista que códifica em cada posição o número de vezes que um número aparece na sequência. Por exemplo, se a lista é $[0, 2, 2, 4, 0, 8]$ o histograma vai ser $[2, 0, 2, 0, 1, 0, 0, 0, 1]$. Escreva uma função **hitograma** que recebe uma lista de números naturais e retorna um histograma da lista. **Dica:** inicialize a lista com zeros utilizando o valor máximo da lista de entrada (use a função **max** do python)."
      ]
    },
    {
      "cell_type": "code",
      "metadata": {
        "id": "_0fmvJ7P8aG0",
        "colab_type": "code",
        "outputId": "8a0dabe7-5c19-4be4-be74-23bbde81c0de",
        "colab": {
          "base_uri": "https://localhost:8080/",
          "height": 34
        }
      },
      "source": [
        "# Escreva aqui\n",
        "def histograma(lista):\n",
        "    maxv = maxmin(lista)[1]\n",
        "    h = []\n",
        "    for i in range(0, maxv+1):\n",
        "        h.append(0)\n",
        "\n",
        "    for valor in lista:\n",
        "        h[valor] = h[valor] + 1\n",
        "\n",
        "    return h\n",
        "\n",
        "#\n",
        "lista = [0,2,2,4,0,8]\n",
        "print(histograma(lista))"
      ],
      "execution_count": 0,
      "outputs": [
        {
          "output_type": "stream",
          "text": [
            "[2, 0, 2, 0, 1, 0, 0, 0, 1]\n"
          ],
          "name": "stdout"
        }
      ]
    },
    {
      "cell_type": "markdown",
      "metadata": {
        "id": "Mo6arpAyFqiN",
        "colab_type": "text"
      },
      "source": [
        "**Ex10.(Entrevista Microsoft)** Escreva uma função **busca_um** que encontra e retorna o único elemento não repetido de uma lista em que todos os demais elementos aparecem exatamente duas vezes. Por exemplo, se a lista é $[2,2,3,3,4,5,5]$ o único elemento não repetido é $4$, outro exemplo se a lista é $[2,7,5,2,5]$ o único elemento não repetido é $7$."
      ]
    },
    {
      "cell_type": "code",
      "metadata": {
        "id": "7X515JzNGklO",
        "colab_type": "code",
        "outputId": "5494757a-c2c8-4090-e1ea-98171317c93b",
        "colab": {
          "base_uri": "https://localhost:8080/",
          "height": 34
        }
      },
      "source": [
        "# Escreva aqui\n",
        "def busca_um(lista):\n",
        "    lista.sort() \n",
        "    for i in range(0, len(lista)-1, 2):\n",
        "        if lista[i] != lista[i+1]:\n",
        "            return lista[i]\n",
        "    return lista[-1]\n",
        "\n",
        "lista = [2,2,3,3,5]\n",
        "busca_um(lista)"
      ],
      "execution_count": 0,
      "outputs": [
        {
          "output_type": "execute_result",
          "data": {
            "text/plain": [
              "5"
            ]
          },
          "metadata": {
            "tags": []
          },
          "execution_count": 77
        }
      ]
    },
    {
      "cell_type": "markdown",
      "metadata": {
        "id": "Md-ovJiULxFL",
        "colab_type": "text"
      },
      "source": [
        "### Pilhas\n",
        "\n",
        "Pilha é uma das estruturas de dados mais utilizadas em computação. Uma pilha é uma estrutura sujeita a uma regra base de operação: o elemento que **sai** da pilha é sempre o elemento que está nela a *menos* tempo. Isso implica que, o primeiro elemento da pilha é **sempre** o último que sai. Esse comportamento (também chamado de política) é denominado LIFO (do inglês, *Last In First Out*). Vamos estudar o funcionamento da pilha por meio de um diagrama:\n",
        "\n",
        "<p align=\"center\">\n",
        "    <img width=800px src=\"https://i.imgur.com/4f14QVa.jpg\" />\n",
        "</p>\n",
        "<center><b>Fig-5.</b> Diagrama de uma pilha para a sequência de valores $[6, 3, 9]$.</center>\n",
        "\n",
        "A ideia se baseia em 4 funções básicas: (1) **pilha**, que cria uma pilha vazia; (2) **empilha** que recebe um valor e coloca no topo da pilha; (3) **desempilha** que remove um valor do topo da pilha e (4) **vazia** uma função que verifica se a pilha está vazia. Podemos escrever outras funções auxiliares, mas essas são as básicas para trabalhar com pilhas. Como implementar em Python essa estrutura? Talvez rotacionar a estrutura ajude a entender a relação da pilha com uma estrutura de dados que já conhecemos:\n",
        "\n",
        "<p align=\"center\">\n",
        "    <img width=550px src=\"https://i.imgur.com/7b7s2M3.jpg\" />\n",
        "</p>\n",
        "<center><b>Fig-6.</b> Diagrama (rotacionado) de uma pilha para a sequência de valores $[6, 3, 9]$.</center>\n",
        "\n",
        "Podemos implementar a pilha e seus métodos (funções) usando uma lista do Python. A função **pilha** cria uma pilha vazia (colchetes [ ]), a função **empilha** insere no final da pilha (**append**) a função **desempilha** remove um elemento do final da pilha (**pop**) e a função **vazia** verifica se o tamanho da pilha é igual a 0 (**len**)."
      ]
    },
    {
      "cell_type": "code",
      "metadata": {
        "id": "tJQPEPPxaNsg",
        "colab_type": "code",
        "colab": {}
      },
      "source": [
        "# Escreva aqui\n",
        "def pilha():\n",
        "    return []\n",
        "\n",
        "def empilha(pilha, valor):\n",
        "    pilha.append(valor)\n",
        "\n",
        "def desempilha(pilha):\n",
        "    return pilha.pop(-1)\n",
        "\n",
        "def vazia(pilha):\n",
        "    return len(pilha) == 0"
      ],
      "execution_count": 0,
      "outputs": []
    },
    {
      "cell_type": "markdown",
      "metadata": {
        "id": "sqPM0PfVgdkL",
        "colab_type": "text"
      },
      "source": [
        "Pilhas são usadas em computadores para realizar diversas operações e manipulações de memória. Além disso, estão implicitas em algoritmos **recursivos**. Muitos algoritmos de Inteligência Artificial usam pilhas como estruturas base. Vamos testar a nossa implementação de pilha!"
      ]
    },
    {
      "cell_type": "code",
      "metadata": {
        "id": "X3upx61XiOOd",
        "colab_type": "code",
        "outputId": "76b4d06f-3221-497f-9e32-1af103d798b6",
        "colab": {
          "base_uri": "https://localhost:8080/",
          "height": 255
        }
      },
      "source": [
        "# Criando uma pilha vazia\n",
        "p = pilha()\n",
        "\n",
        "# Inserindo valores\n",
        "empilha(p, 6)\n",
        "print('Estado da pilha', p)\n",
        "empilha(p, 3)\n",
        "print('Estado da pilha', p)\n",
        "empilha(p, 9)\n",
        "print('Estado da pilha', p)\n",
        "\n",
        "# Removendo valores\n",
        "print()\n",
        "print('Removendo do topo da pilha', desempilha(p))\n",
        "print('Estado da pilha', p)\n",
        "print('A pilha está vazia?', vazia(p))\n",
        "print()\n",
        "print('Removendo do topo da pilha', desempilha(p))\n",
        "print('Estado da pilha', p)\n",
        "print('A pilha está vazia?', vazia(p))\n",
        "print()\n",
        "print('Removendo do topo da pilha', desempilha(p))\n",
        "print('A pilha está vazia?', vazia(p))"
      ],
      "execution_count": 0,
      "outputs": [
        {
          "output_type": "stream",
          "text": [
            "Estado da pilha [6]\n",
            "Estado da pilha [6, 3]\n",
            "Estado da pilha [6, 3, 9]\n",
            "\n",
            "Removendo do topo da pilha 9\n",
            "Estado da pilha [6, 3]\n",
            "A pilha está vazia? False\n",
            "\n",
            "Removendo do topo da pilha 3\n",
            "Estado da pilha [6]\n",
            "A pilha está vazia? False\n",
            "\n",
            "Removendo do topo da pilha 6\n",
            "A pilha está vazia? True\n"
          ],
          "name": "stdout"
        }
      ]
    },
    {
      "cell_type": "markdown",
      "metadata": {
        "id": "djLTlGZMjRc1",
        "colab_type": "text"
      },
      "source": [
        "O código acima indica repetição, e na verdade grande parte das vezes usamos pilhas dentro de loops. Geralmente nós percorremos a pilha através de um loop while combinado com o comando **vazia**, essa é a base de vários algoritmos baseados em pilhas."
      ]
    },
    {
      "cell_type": "code",
      "metadata": {
        "id": "uz7f0TiCjeoK",
        "colab_type": "code",
        "outputId": "8cd73719-99b6-4bcc-aacf-4806926157c3",
        "colab": {
          "base_uri": "https://localhost:8080/",
          "height": 102
        }
      },
      "source": [
        "# Criando uma pilha\n",
        "p2 = pilha()\n",
        "\n",
        "# Vamos inserir valores na pilha\n",
        "empilha(p, 10)\n",
        "empilha(p, 20)\n",
        "empilha(p, 50)\n",
        "empilha(p, 100)\n",
        "\n",
        "# Vamos imprimir os valores de acordo com a política da pilha (LIFO)\n",
        "while not vazia(p):\n",
        "    print('Removendo elemento', desempilha(p))\n",
        "\n",
        "# Verificando que a pilha está vazia\n",
        "print('A pilha está vazia?', vazia(p))"
      ],
      "execution_count": 0,
      "outputs": [
        {
          "output_type": "stream",
          "text": [
            "Removendo elemento 100\n",
            "Removendo elemento 50\n",
            "Removendo elemento 20\n",
            "Removendo elemento 10\n",
            "A pilha está vazia? True\n"
          ],
          "name": "stdout"
        }
      ]
    },
    {
      "cell_type": "markdown",
      "metadata": {
        "id": "7jgwrMtvl04b",
        "colab_type": "text"
      },
      "source": [
        "### Exercícios\n",
        "\n",
        "**Ex1.** Utilizando **apenas** o conceito de pilhas, escreva um programa que recebe uma palavra, empilha os caracteres em uma pilha, e imprime a palavra na ordem correta. Por exemplo, se a entrada for \"Batman\" a pilha deve estar com os caracteres \"[B,a,t,m,a,n]\"."
      ]
    },
    {
      "cell_type": "code",
      "metadata": {
        "id": "2O2e7gHnmO5F",
        "colab_type": "code",
        "outputId": "73f08f4f-f54b-4669-af6e-566ad35e2213",
        "colab": {
          "base_uri": "https://localhost:8080/",
          "height": 34
        }
      },
      "source": [
        "palavra = \"Batman\" #@param {type:\"string\"}\n",
        "\n",
        "# Escreva aqui\n",
        "p1 = pilha()\n",
        "p2 = pilha()\n",
        "\n",
        "for caracter in palavra:\n",
        "    empilha(p1, caracter)\n",
        "\n",
        "while not vazia(p1):\n",
        "    empilha(p2, desempilha(p1))\n",
        "\n",
        "while not vazia(p2):\n",
        "    print(desempilha(p2), end='')"
      ],
      "execution_count": 0,
      "outputs": [
        {
          "output_type": "stream",
          "text": [
            "Batman"
          ],
          "name": "stdout"
        }
      ]
    },
    {
      "cell_type": "markdown",
      "metadata": {
        "id": "uer7eHB0uVxJ",
        "colab_type": "text"
      },
      "source": [
        "**Ex2.** Utilizando **apenas** o conceito de pilhas escreva uma função **busca** que recebe como argumento uma **palavra** e um **caractere**. Todos os caracteres da palavra devem ser colocados em uma pilha. Depois, você deve retornar uma pilha idêntica a original porém **sem** o(s) **caracter**(es) informado. Por exemplo, \"Mulher Maravilha\", na pilha original vai ficar $[M, u, l, h, e, r, , M,a,r,a,v,i,l,h,a]$, se removermos o caracter \"a\" a pilha final deve ser $[M, u, l, h, e, r, , M,r,v,i,l,h]$. O programa deve imprimir a pilha."
      ]
    },
    {
      "cell_type": "code",
      "metadata": {
        "id": "AO2dCg_itAT2",
        "colab_type": "code",
        "cellView": "both",
        "outputId": "6053e1b5-9c97-4052-d247-fafb26f9fe77",
        "colab": {
          "base_uri": "https://localhost:8080/",
          "height": 34
        }
      },
      "source": [
        "# Escreva aqui\n",
        "def busca(palavra, c):\n",
        "    \n",
        "    p1 = pilha()\n",
        "    p2 = pilha()\n",
        "\n",
        "    for caracter in palavra:\n",
        "        empilha(p1, caracter)\n",
        "    \n",
        "    while not vazia(p1):\n",
        "        v = desempilha(p1)\n",
        "        if v != c:\n",
        "            empilha(p2, v)\n",
        "\n",
        "    while not vazia(p2):\n",
        "        empilha(p1, desempilha(p2))\n",
        "\n",
        "    print(p1)\n",
        "    \n",
        "palavra = \"Mulher\" #@param {type:\"string\"}\n",
        "busca(palavra, 'u')"
      ],
      "execution_count": 0,
      "outputs": [
        {
          "output_type": "stream",
          "text": [
            "['M', 'l', 'h', 'e', 'r']\n"
          ],
          "name": "stdout"
        }
      ]
    },
    {
      "cell_type": "markdown",
      "metadata": {
        "id": "-shjn3L81_s8",
        "colab_type": "text"
      },
      "source": [
        "**Ex3.** Pilhas são úteis para resolver problemas de validação de expressões aritméticas. Por exemplo o problema de validação de parênteses. Uma cadeia de parênteses é bem formatada quando todo '(' tem um ')' correspondente. Por exemplo '( )( )' é uma expressão bem formatada, mas '( ( )' não é. Escreva uma função **bem_formatada** que recebe uma string com uma sequência de parênteses e retorna True se a sequência é bem formatada e False caso contrário. Este é um exemplo de programa difícil de resolver sem pilhas."
      ]
    },
    {
      "cell_type": "code",
      "metadata": {
        "id": "TUn-xn_WyFCC",
        "colab_type": "code",
        "colab": {}
      },
      "source": [
        "parenteses = \"(((())))\" #@param {type:\"string\"}\n",
        "\n",
        "# Escreva aqui"
      ],
      "execution_count": 0,
      "outputs": []
    },
    {
      "cell_type": "markdown",
      "metadata": {
        "id": "8THdpIm9-ri_",
        "colab_type": "text"
      },
      "source": [
        "### Filas\n",
        "\n",
        "Assim como pilhas, filas são utilizadas largamente na computação. O conceito é exatamente o de uma fila comum: o elemento que sai da fila é aquele que está a mais tempo nela. Isso equivale a dizer que, na fila o primeiro a entrar é também o primeiro a sair. Esse comportamento é denominado FIFO (do inglês, *First In First Out*). Vamos estudar o funcionamento da fila por meio de um diagrama:\n",
        "\n",
        "<p align=\"center\">\n",
        "    <img width=550px src=\"https://i.imgur.com/WaVnmxU.jpg\" />\n",
        "</p>\n",
        "<center><b>Fig-7.</b> Diagrama de uma fila para a sequência de valores $[6, 3, 9]$.</center>\n",
        "\n",
        "Assim como as pilhas nós precisamos de 4 funções básicas: (1) **fila**, uma função que inicia a fila vazia; (2) **emfila**, que recebe um valor e coloca no final da fila; (3) **desemfila**, que remove um valor do **ínicio** da fila e (4) **vazia** uma função que verifica se a fila está vazia. Podemos implementar a fila e seus métodos (funções) usando uma lista do Python (assim como a pilha). A função **fila** cria uma fila vazia (colchetes [ ]), a função **emfila** insere no final da fila (**append**) a função **desemfila** remove um elemento do começo da fila (**pop**) e a função **vazia** verifica se o tamanho da fila é igual a 0 (**len**)."
      ]
    },
    {
      "cell_type": "code",
      "metadata": {
        "id": "3jCMJJMsFAHE",
        "colab_type": "code",
        "colab": {}
      },
      "source": [
        "# Escreva aqui\n",
        "\n",
        "# Escreva aqui\n",
        "def fila():\n",
        "    return []\n",
        "\n",
        "def emfila(fila, valor):\n",
        "    fila.append(valor)\n",
        "\n",
        "def desemfila(fila):\n",
        "    return fila.pop(0)\n",
        "\n",
        "def vazia(fila):\n",
        "    return len(fila) == 0"
      ],
      "execution_count": 0,
      "outputs": []
    },
    {
      "cell_type": "markdown",
      "metadata": {
        "id": "xWQoLvyYFOwL",
        "colab_type": "text"
      },
      "source": [
        "Note que, as nossas funções de fila são muito parecidas com as de pilha, unicamente a diferença está na política de remoção (desempilha e desemfila). Assim como as pilhas, filas estão presentes em diversos algoritmos de Inteligência Artificial. Vamos testar a nossa implementação de fila!"
      ]
    },
    {
      "cell_type": "code",
      "metadata": {
        "id": "2wAr12l6GXHO",
        "colab_type": "code",
        "outputId": "242a9f3a-a6bd-44a2-f9f7-8cfe4d4cd802",
        "colab": {
          "base_uri": "https://localhost:8080/",
          "height": 255
        }
      },
      "source": [
        "# Criando uma fila vazia\n",
        "f = fila()\n",
        "\n",
        "# Inserindo valores\n",
        "emfila(f, 6)\n",
        "print('Estado da fila', f)\n",
        "emfila(f, 3)\n",
        "print('Estado da fila', f)\n",
        "emfila(f, 9)\n",
        "print('Estado da fila', f)\n",
        "\n",
        "# Removendo valores\n",
        "print()\n",
        "print('Removendo do início da fila', desemfila(f))\n",
        "print('Estado da fila', f)\n",
        "print('A fila está vazia?', vazia(f))\n",
        "print()\n",
        "print('Removendo do início da fila', desemfila(f))\n",
        "print('Estado da fila', f)\n",
        "print('A fila está vazia?', vazia(f))\n",
        "print()\n",
        "print('Removendo do início da fila', desemfila(f))\n",
        "print('A fila está vazia?', vazia(f))"
      ],
      "execution_count": 0,
      "outputs": [
        {
          "output_type": "stream",
          "text": [
            "Estado da fila [6]\n",
            "Estado da fila [6, 3]\n",
            "Estado da fila [6, 3, 9]\n",
            "\n",
            "Removendo do início da fila 6\n",
            "Estado da fila [3, 9]\n",
            "A fila está vazia? False\n",
            "\n",
            "Removendo do início da fila 3\n",
            "Estado da fila [9]\n",
            "A fila está vazia? False\n",
            "\n",
            "Removendo do início da fila 9\n",
            "A fila está vazia? True\n"
          ],
          "name": "stdout"
        }
      ]
    },
    {
      "cell_type": "markdown",
      "metadata": {
        "id": "gWWmZrZhLnb3",
        "colab_type": "text"
      },
      "source": [
        "### Exercícios\n",
        "\n",
        "**Ex1.** Escreva uma função **inverte_fila** que recebe uma palavra e coloca todos os caracteres em ordem em uma fila. A função deve retornar a palavra invertida na fila. Por exemplo, se a palavra é \"Python\" a fila deve estar com os dados na ordem \"nohtyP\". Não é permitido inverter a string antes, ela deve ser invertida com operações de fila e se julgar necessário de pilha."
      ]
    },
    {
      "cell_type": "code",
      "metadata": {
        "id": "A4RZ2DoOMqWf",
        "colab_type": "code",
        "colab": {}
      },
      "source": [
        "palavra = \"Batman\" #@param {type:\"string\"}\n",
        "\n",
        "# Escreva aqui\n"
      ],
      "execution_count": 0,
      "outputs": []
    },
    {
      "cell_type": "markdown",
      "metadata": {
        "id": "VC9r61SNS7nT",
        "colab_type": "text"
      },
      "source": [
        "**Ex2.** Implemente uma fila usando pilhas. Por exemplo, se você receber uma frase \"Pilhas são demais\", você deve empilhar a frase e depois apresentar a frase na ordem \"Pilhas são demais\" (como seria em uma fila)."
      ]
    },
    {
      "cell_type": "code",
      "metadata": {
        "id": "JWOPUIDvTj54",
        "colab_type": "code",
        "colab": {}
      },
      "source": [
        "frase = \"Pilhas são demais\" #@param {type:\"string\"}\n",
        "\n",
        "# Escreva aqui\n"
      ],
      "execution_count": 0,
      "outputs": []
    },
    {
      "cell_type": "markdown",
      "metadata": {
        "id": "dJxeeTcpjc9W",
        "colab_type": "text"
      },
      "source": [
        "**Ex3.** Faça um programa que implementa um simulador de controlador de voo de um aeroporto. Neste programa um usuário deve ser capaz de realizar as seguintes tarefas:\n",
        "\n",
        "0.   &nbsp;Sair do simulador\n",
        "1.   &nbsp;Listar aviões na fila de espera.\n",
        "2.   &nbsp;Autorizar primeiro avião para decolagem.\n",
        "3.   &nbsp;Adicionar avião na fila de espera.\n",
        "4.   &nbsp;Listar as características do primeiro avião da fila.\n",
        "\n",
        "Considere que uma estrutura de dados do tipo fila seja usada para manipular os dados e que cada avião possui um nome, uma origem e um destino. Se quiser coloque mais informações. Para receber dados do usuário, vamos fazer uso da função **input** do python.\n"
      ]
    },
    {
      "cell_type": "code",
      "metadata": {
        "id": "_9iOsy_KVVsW",
        "colab_type": "code",
        "colab": {}
      },
      "source": [
        "from IPython.display import clear_output\n",
        "\n",
        "# Escreva aqui\n",
        "\n",
        "while True:\n",
        "    option = input(\"\"\"\\nBem vindo ao simulador de controlador de voo do Aeroporto Tabajara\\n\n",
        "    O que você deseja fazer? \\n\n",
        "    0 - Sair\\n\n",
        "    1 - Listar aviões na fila de espera.\\n\n",
        "    2 - Autorizar primeiro avião para decolagem.\\n\n",
        "    3 - Adicionar avião na fila de espera.\\n\n",
        "    4 - Listar as características do primeiro avião da fila.\\n\\n\"\"\")\n",
        "    #clear_output()\n",
        "    if option == '1':\n",
        "        # Escreva aqui\n",
        "        \n",
        "    elif option == '2':\n",
        "        # Escreva aqui\n",
        "        \n",
        "    elif option == '3':\n",
        "        # Escreva aqui\n",
        "        \n",
        "    elif option == '4':\n",
        "        # Escreva aqui\n",
        "        \n",
        "    else:\n",
        "        break"
      ],
      "execution_count": 0,
      "outputs": []
    },
    {
      "cell_type": "markdown",
      "metadata": {
        "id": "3-Lm63ZylOUv",
        "colab_type": "text"
      },
      "source": [
        "### Dicionários\n",
        "\n",
        "Em python existe um tipo de dado chamado de dicionário. Certamente é um dos excelentes recursos da linguagem.\n",
        "\n",
        "### Dicionários são mapas\n",
        "\n",
        "Um dicionário se parece com uma lista, mas é mais geral. Em listas os índices são obrigatóriamente númericos, porém, nos dicionários eles podem ser de qualquer tipo. Um dicionário contém uma coleção de índices, que são chamados de **chaves** e uma coleção de valores. Cada chave é associada a um valor, em matemática esse tipo de estrutura é chamada de **mapa**. Para criar um dicionário, basta usar a função **dict** em vez dos colchetes das listas:"
      ]
    },
    {
      "cell_type": "code",
      "metadata": {
        "id": "JfuXkoyBnk3c",
        "colab_type": "code",
        "colab": {}
      },
      "source": [
        "# Criando um dicionário vazio\n",
        "dicionario = dict()\n",
        "print('Eu sou do tipo:',type(dicionario))"
      ],
      "execution_count": 0,
      "outputs": []
    },
    {
      "cell_type": "markdown",
      "metadata": {
        "id": "lAr89Aeun_Tj",
        "colab_type": "text"
      },
      "source": [
        "O tipo dicionário do Python vem da função dict, por isso o tipo dele é dict. Para adicionar um valor no dicionário nós utilizamos os colchetes como nas listas:"
      ]
    },
    {
      "cell_type": "code",
      "metadata": {
        "id": "NrBkQt9xoaMC",
        "colab_type": "code",
        "colab": {}
      },
      "source": [
        "# Adicionando um valor no dicionário\n",
        "dicionario['one'] = 'um'\n",
        "print('A estrutura de um dicionário é chave: valor', dicionario)"
      ],
      "execution_count": 0,
      "outputs": []
    },
    {
      "cell_type": "markdown",
      "metadata": {
        "id": "MusPCuFHpsts",
        "colab_type": "text"
      },
      "source": [
        "Também é possível criar um dicionário usando as chaves e passando mais de um valor:"
      ]
    },
    {
      "cell_type": "code",
      "metadata": {
        "id": "1N2g_UYLpyZ-",
        "colab_type": "code",
        "colab": {}
      },
      "source": [
        "# Dicionário com três {chave : valor}\n",
        "dicionario = {'one': 'um', 'two':'dois', 'three': 'três'}\n",
        "print('Meu dicionário tem três mapeamentos', dicionario)"
      ],
      "execution_count": 0,
      "outputs": []
    },
    {
      "cell_type": "markdown",
      "metadata": {
        "id": "Fg3VGhzBqHNk",
        "colab_type": "text"
      },
      "source": [
        "Para acessar o valor basta passar a chave entre colchetes como na atribuição:"
      ]
    },
    {
      "cell_type": "code",
      "metadata": {
        "id": "7f9WrTqsqNpG",
        "colab_type": "code",
        "colab": {}
      },
      "source": [
        "# Acessando o valor de uma chave\n",
        "print('O número three em português é',dicionario['three'])"
      ],
      "execution_count": 0,
      "outputs": []
    },
    {
      "cell_type": "markdown",
      "metadata": {
        "id": "OrBnNUTPqgnj",
        "colab_type": "text"
      },
      "source": [
        "Para saber o número de chaves no dicionário fazemos uso da função **len**"
      ]
    },
    {
      "cell_type": "code",
      "metadata": {
        "id": "bZQSCzSmqks9",
        "colab_type": "code",
        "colab": {}
      },
      "source": [
        "# Tamanho do meu dicionário\n",
        "print('Meu dicionário tem', len(dicionario), 'chaves')"
      ],
      "execution_count": 0,
      "outputs": []
    },
    {
      "cell_type": "markdown",
      "metadata": {
        "id": "MO2uw0Jzq3br",
        "colab_type": "text"
      },
      "source": [
        "O operador **in** também funciona com dicionários, mas ele serve para testar se uma chave existe no dicionário e não um valor:"
      ]
    },
    {
      "cell_type": "code",
      "metadata": {
        "id": "1f7p5aWZrDej",
        "colab_type": "code",
        "colab": {}
      },
      "source": [
        "# Testando uma chave\n",
        "print('one' in dicionario)\n",
        "\n",
        "# Um valor não vai funcionar\n",
        "print('um' in dicionario)"
      ],
      "execution_count": 0,
      "outputs": []
    },
    {
      "cell_type": "markdown",
      "metadata": {
        "id": "aLs8YlvYrM8e",
        "colab_type": "text"
      },
      "source": [
        "Se você quiser testar o in com os valores, você pode utilizar o método **values** que retorna uma coleção dos valores armazenados no dicionário."
      ]
    },
    {
      "cell_type": "code",
      "metadata": {
        "id": "EWMXNpV0rYe8",
        "colab_type": "code",
        "colab": {}
      },
      "source": [
        "# Valores do dicionário (agora não são mais as chaves)\n",
        "values = dicionario.values()\n",
        "print('um' in values)"
      ],
      "execution_count": 0,
      "outputs": []
    },
    {
      "cell_type": "markdown",
      "metadata": {
        "id": "cVu8DLxer1nz",
        "colab_type": "text"
      },
      "source": [
        "Uma vantagem de dicionários sobre outras estruturas do Python é que não é necessário saber quantas chaves serão acessadas e nem quais delas. Por exemplo, podemos fazer um histograma de forma mais simples do que com listas:"
      ]
    },
    {
      "cell_type": "code",
      "metadata": {
        "id": "Y-IWtRTVsN50",
        "colab_type": "code",
        "colab": {}
      },
      "source": [
        "def histogram(palavra):\n",
        "    h = dict()\n",
        "    for letter in palavra:\n",
        "        h[letter] = h.get(letter, 0) + 1\n",
        "    return h\n",
        "\n",
        "# Testando\n",
        "palavra = \"abcdedde\" #@param {type:\"string\"}\n",
        "h = histogram(palavra)\n",
        "print(h)"
      ],
      "execution_count": 0,
      "outputs": []
    },
    {
      "cell_type": "markdown",
      "metadata": {
        "id": "26cHuMl9tduy",
        "colab_type": "text"
      },
      "source": [
        "O método **get** que usamos acima verifica que uma dada chave está no dicionário, se estiver ele retorna o valor associado a chave, caso contrário ele retorna o parâmetro passado como default (segundo argumento de get) que no nosso caso foi 0.\n",
        "\n",
        "### Iterando sobre um dicionário\n",
        "\n",
        "Se iterarmos um dicionário em loop for ele vai iterar sobre as chaves do dicionário"
      ]
    },
    {
      "cell_type": "code",
      "metadata": {
        "id": "djoOwlXYviqn",
        "colab_type": "code",
        "colab": {}
      },
      "source": [
        "# Dicionário com quatro chaves\n",
        "dicionario = {'un': 'um', 'deux':'dois', 'trois': 'três', 'quatre': 'quatro'}\n",
        "\n",
        "# Iterando sobre o dicionário\n",
        "for chave in dicionario:\n",
        "    print('Francês', chave, 'Português', dicionario[chave])"
      ],
      "execution_count": 0,
      "outputs": []
    },
    {
      "cell_type": "markdown",
      "metadata": {
        "id": "51ZajrqywTgv",
        "colab_type": "text"
      },
      "source": [
        "No caso da nossa função histograma, pode ser que queiramos percorrer as chaves em **ordem**, para isso o Python fornece uma função **sorted** que ordena as chaves do dicionário."
      ]
    },
    {
      "cell_type": "code",
      "metadata": {
        "id": "G27y6koowgJ8",
        "colab_type": "code",
        "colab": {}
      },
      "source": [
        "# Obtendo histograma de uma string qualquer\n",
        "palavra = \"abacaxi\"\n",
        "h = histogram(palavra)\n",
        "\n",
        "# Iterando sobre o dicionário\n",
        "for chave in sorted(h):\n",
        "    print('Letra', chave, 'Frequência', h[chave])"
      ],
      "execution_count": 0,
      "outputs": []
    },
    {
      "cell_type": "markdown",
      "metadata": {
        "id": "7YXPDL7WxVUp",
        "colab_type": "text"
      },
      "source": [
        "### Memoization\n",
        "\n",
        "[Memoization](https://en.wikipedia.org/wiki/Memoization) é um técnica de otimização para aumentar a velocidade (diminuir complexidade) de programas computacionais. A ideia é trocar o problema de tempo pelo de espaço, isto é, usamos memória auxiliar para deixar o programa mais rápido. Essa técnica é muito utilizada em programação dinâmica. Nós implementamos um programa recursivo que calculava a sequência de Fibonnaci mas que tinha um problema de ser exponencial. Pois bem, podemos usar memoization para remover as chamadas extras do algoritmo. Podemos usar um dicionário como memoization."
      ]
    },
    {
      "cell_type": "code",
      "metadata": {
        "id": "bcmE8g_yyfbx",
        "colab_type": "code",
        "colab": {}
      },
      "source": [
        "# Função recursiva de para calcular o\n",
        "# fibonnaci de n usando memoization\n",
        "# a complexidade de tempo é\n",
        "# a mesma do iterativo,\n",
        "# mas existe um gasto extra de \n",
        "# memória por conta do memoization.\n",
        "def fib_memo(n, memo):\n",
        "\n",
        "    # Caso base\n",
        "    if n in memo:\n",
        "        return memo[n]\n",
        "    \n",
        "    res = fib_memo(n-1, memo) + fib_memo(n-2, memo)\n",
        "    memo[n] = res \n",
        "    return res\n",
        "\n",
        "# Primeira chamada\n",
        "memo = {0:0, 1:1}\n",
        "n = 21 #@param {type:\"integer\"}\n",
        "print(fib_memo(n, memo)) "
      ],
      "execution_count": 0,
      "outputs": []
    },
    {
      "cell_type": "markdown",
      "metadata": {
        "id": "t8LeRkjw36tF",
        "colab_type": "text"
      },
      "source": [
        "### Exercícios\n",
        "\n",
        "**Ex1.** Escreva um programa que recebe uma lista aninhada de emails e computa um histograma de emails enviados (from) e um histograma de emails recebidos (to). Cada posição da lista aninhada de emails é uma outra lista com três informações: \n",
        "\n",
        "```python\n",
        "['from:nome', 'to:nome', 'mensagem:descrição da mensagem']. \n",
        "```\n",
        "\n",
        "Por exemplo, se a lista de emails for \n",
        "\n",
        "```python\n",
        "emails = [ \n",
        "    ['from:daniel', 'to:alberto', 'mensagem:abcde'], \n",
        "    ['from:daniel', 'to:roberto', 'mensagem:abcde'], \n",
        "    ['from:roberto', 'to:erika', 'mensagem:abcde'] \n",
        "] \n",
        "````\n",
        "\n",
        "a saída deve ser um histograma de enviados: \n",
        "```python\n",
        "{'daniel': 2, 'roberto': 1} \n",
        "```\n",
        "e outro de recebidos: \n",
        "```python\n",
        "{'alberto': 1, 'roberto': 1, 'erika': 1}.\n",
        "```\n",
        "**Dica:** use a função find para pegar apenas o nome e remover o 'from' e o 'to.'"
      ]
    },
    {
      "cell_type": "code",
      "metadata": {
        "id": "_xNvhyis4BHn",
        "colab_type": "code",
        "colab": {}
      },
      "source": [
        "# Escreva aqui\n"
      ],
      "execution_count": 0,
      "outputs": []
    },
    {
      "cell_type": "markdown",
      "metadata": {
        "id": "B4jtB0vrAAT7",
        "colab_type": "text"
      },
      "source": [
        "**Ex2.** Escreva uma função **filtra_usuarios_por_idade** que recebe um dicionário de usuários no formato:\n",
        "\n",
        "```python\n",
        "usuarios = {\n",
        "    'nome'  : [idade, CPF, Estado]\n",
        "}\n",
        "```\n",
        "\n",
        "e um valor de **idade** e retorna um novo dicionário dos usuários que tenham idade menor que a **idade** passada. Por exemplo, se o dicionário de usuários for:\n",
        "\n",
        "```python\n",
        "usuarios = {\n",
        "    'alberto'  : [18, '746.072.610-92', 'São Paulo'],\n",
        "    'elizabeth': [29, '953.099.850-34', 'Rio de Janeiro'],\n",
        "    'carlos'   : [35, '008.591.700-12', 'Salvador'],\n",
        "    'luiza'    : [17, '174.736.290-50', 'Bahia']\n",
        "}\n",
        "```\n",
        "\n",
        "e passar **idade=29** a função deve retornar um dicionário com o seguinte conteúdo:\n",
        "\n",
        "```python\n",
        "{\n",
        "    'alberto'  : [18, '746.072.610-92', 'São Paulo'], \n",
        "    'elizabeth': [29, '953.099.850-34', 'Rio de Janeiro'], \n",
        "    'luiza'    : [17, '174.736.290-50', 'Bahia']\n",
        "}\n",
        "```\n",
        "\n",
        "caso não existam usuários com a idade passada a função deve retornar um dicionário vazio e apresentar a seguinte mensagem: 'Não existem usuários com idade menor que 29' caso contrário a você deve apresentar os usuários encontrados."
      ]
    },
    {
      "cell_type": "code",
      "metadata": {
        "id": "zftoHW4P-NLW",
        "colab_type": "code",
        "colab": {}
      },
      "source": [
        "idade = 21 #@param {type:\"integer\"}\n",
        "# Escreva aqui\n"
      ],
      "execution_count": 0,
      "outputs": []
    },
    {
      "cell_type": "markdown",
      "metadata": {
        "id": "KSaFpS8JDHan",
        "colab_type": "text"
      },
      "source": [
        "**Ex3.** Faça um histograma das idades dos usuários do exercício acima e um histograma dos estados."
      ]
    },
    {
      "cell_type": "code",
      "metadata": {
        "id": "7CM5jkw0Ma8g",
        "colab_type": "code",
        "colab": {}
      },
      "source": [
        "# Escreva aqui\n"
      ],
      "execution_count": 0,
      "outputs": []
    }
  ]
}