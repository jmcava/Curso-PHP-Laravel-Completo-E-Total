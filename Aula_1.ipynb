{
  "nbformat": 4,
  "nbformat_minor": 0,
  "metadata": {
    "colab": {
      "name": "Aula-1.ipynb",
      "provenance": [],
      "collapsed_sections": [],
      "include_colab_link": true
    },
    "kernelspec": {
      "name": "python3",
      "display_name": "Python 3"
    }
  },
  "cells": [
    {
      "cell_type": "markdown",
      "metadata": {
        "id": "view-in-github",
        "colab_type": "text"
      },
      "source": [
        "<a href=\"https://colab.research.google.com/github/jmcava/Curso-PHP-Laravel-Completo-E-Total/blob/master/Aula_1.ipynb\" target=\"_parent\"><img src=\"https://colab.research.google.com/assets/colab-badge.svg\" alt=\"Open In Colab\"/></a>"
      ]
    },
    {
      "cell_type": "markdown",
      "metadata": {
        "id": "Fs9UTdsjkKNP",
        "colab_type": "text"
      },
      "source": [
        "<p align=\"center\"> \n",
        "<img src=\"https://datascience.study/wp-content/uploads/2019/01/python-logo.png\">\n",
        "</p>\n",
        "\n",
        "# Python\n",
        "\n",
        "Python é uma linguagem de programação multiparadigma (suporta o paradigma orientado a objetos, imperativo, funcional e procedural) de tipagem dinâmica criada por [Guido van Rossum](https://pt.wikipedia.org/wiki/Guido_van_Rossum) em 1991. Devido às suas características, ela é principalmente utilizada para processamento de textos, **dados científicos** e criação de CGIs para páginas dinâmicas para a web."
      ]
    },
    {
      "cell_type": "markdown",
      "metadata": {
        "id": "XyEYalqjlxe6",
        "colab_type": "text"
      },
      "source": [
        "## Hello word\n",
        "\n",
        "Geralmente o primeiro programa em qualquer linguagem é chamado de *hello word*. Em Python podemos fazer algo como:"
      ]
    },
    {
      "cell_type": "code",
      "metadata": {
        "id": "FVXrZ_jOje_X",
        "colab_type": "code",
        "outputId": "afb0f8fe-3821-42c2-a90d-d6e0d7fb3b57",
        "colab": {
          "base_uri": "https://localhost:8080/",
          "height": 54
        }
      },
      "source": [
        "# Meu primeiro programa em Python\n",
        "print('Hello Word')"
      ],
      "execution_count": 0,
      "outputs": [
        {
          "output_type": "stream",
          "text": [
            "Hello Word\n"
          ],
          "name": "stdout"
        }
      ]
    },
    {
      "cell_type": "markdown",
      "metadata": {
        "id": "51PywxXamzGP",
        "colab_type": "text"
      },
      "source": [
        "Perceba o código que está após o hashtag. Ele é um comentário em Python."
      ]
    },
    {
      "cell_type": "markdown",
      "metadata": {
        "id": "ZhkA971onKrf",
        "colab_type": "text"
      },
      "source": [
        "## Operações aritméticas\n",
        "\n",
        "Python fornece **operadores** aritméticos, que são símbolos especiais que representam computações, tais como: somar e subtrair. Os operadores básicos são $+$, $-$, $*$ e $/$ que executam respectivamente soma, subtração, multiplicação e divisão."
      ]
    },
    {
      "cell_type": "code",
      "metadata": {
        "id": "BFK3ANRBnn-R",
        "colab_type": "code",
        "outputId": "9d92c5ff-f139-488c-e32e-303421d5b717",
        "colab": {
          "base_uri": "https://localhost:8080/",
          "height": 54
        }
      },
      "source": [
        "# Somando dois números\n",
        "print(40+50)"
      ],
      "execution_count": 0,
      "outputs": [
        {
          "output_type": "stream",
          "text": [
            "90\n"
          ],
          "name": "stdout"
        }
      ]
    },
    {
      "cell_type": "code",
      "metadata": {
        "id": "cMvgLwdznomx",
        "colab_type": "code",
        "outputId": "35467036-6f52-43c9-a2b8-8b8ebac2cf7c",
        "colab": {
          "base_uri": "https://localhost:8080/",
          "height": 54
        }
      },
      "source": [
        "# Subtraindo dois números\n",
        "print(80-20)"
      ],
      "execution_count": 0,
      "outputs": [
        {
          "output_type": "stream",
          "text": [
            "60\n"
          ],
          "name": "stdout"
        }
      ]
    },
    {
      "cell_type": "code",
      "metadata": {
        "id": "qXbu_wDQnq6J",
        "colab_type": "code",
        "outputId": "b47ae81f-b6d2-4030-ba22-02c05753655b",
        "colab": {
          "base_uri": "https://localhost:8080/",
          "height": 54
        }
      },
      "source": [
        "# Multiplicando dois números\n",
        "print(10*20)"
      ],
      "execution_count": 0,
      "outputs": [
        {
          "output_type": "stream",
          "text": [
            "200\n"
          ],
          "name": "stdout"
        }
      ]
    },
    {
      "cell_type": "code",
      "metadata": {
        "id": "Zs9bxxFensm_",
        "colab_type": "code",
        "outputId": "1618616f-5a71-4db6-c21f-45965ef02e87",
        "colab": {
          "base_uri": "https://localhost:8080/",
          "height": 54
        }
      },
      "source": [
        "# Dividindo dois números\n",
        "print(3/2)"
      ],
      "execution_count": 0,
      "outputs": [
        {
          "output_type": "stream",
          "text": [
            "1.5\n"
          ],
          "name": "stdout"
        }
      ]
    },
    {
      "cell_type": "markdown",
      "metadata": {
        "id": "ei_9-A_9n0QH",
        "colab_type": "text"
      },
      "source": [
        "Existem outros operadores aritméticos em python, como o operador $**$ que computa a potênciação:"
      ]
    },
    {
      "cell_type": "code",
      "metadata": {
        "id": "tZv4XKTTn6tX",
        "colab_type": "code",
        "outputId": "122b22ce-a165-468f-ad2b-c01cc8577bea",
        "colab": {
          "base_uri": "https://localhost:8080/",
          "height": 54
        }
      },
      "source": [
        "# Elevando um número ao quadrado\n",
        "print(10**2)"
      ],
      "execution_count": 0,
      "outputs": [
        {
          "output_type": "stream",
          "text": [
            "100\n"
          ],
          "name": "stdout"
        }
      ]
    },
    {
      "cell_type": "code",
      "metadata": {
        "id": "0zN9-VCzn7XB",
        "colab_type": "code",
        "outputId": "2e9fee32-c31c-4f0a-d615-bafeb364fad5",
        "colab": {
          "base_uri": "https://localhost:8080/",
          "height": 54
        }
      },
      "source": [
        "# Elevando um número ao cubo\n",
        "print(10**3)"
      ],
      "execution_count": 0,
      "outputs": [
        {
          "output_type": "stream",
          "text": [
            "1000\n"
          ],
          "name": "stdout"
        }
      ]
    },
    {
      "cell_type": "markdown",
      "metadata": {
        "id": "SU5ljL-5oBdN",
        "colab_type": "text"
      },
      "source": [
        "Na maioria das linguagens de programação o símbolo do operador que executa a potênciação é o $ˆ$. Contudo, no Python ele é um operador *bitwise*. Se quiser saber mais sobre operadores *bitwise* no Python veja [aqui](http://wiki.python.org/moin/BitwiseOperators)."
      ]
    },
    {
      "cell_type": "markdown",
      "metadata": {
        "id": "4QpR1hMUoJve",
        "colab_type": "text"
      },
      "source": [
        "### Exercícios\n",
        "\n",
        "Escreva abaixo um código python que calcula a seguinte expressão matemática: $ (10^2+20)-(15*10)+(11/50) $\n"
      ]
    },
    {
      "cell_type": "code",
      "metadata": {
        "id": "MuREyPBvqlDq",
        "colab_type": "code",
        "outputId": "85542b13-1b69-46f6-a746-77b86e337494",
        "colab": {
          "base_uri": "https://localhost:8080/",
          "height": 54
        }
      },
      "source": [
        "# Lembre-se que o operador ** é quem executa potênciação! \n",
        "print((10**2+20)-(15*10)+(11/50))"
      ],
      "execution_count": 0,
      "outputs": [
        {
          "output_type": "stream",
          "text": [
            "-29.78\n"
          ],
          "name": "stdout"
        }
      ]
    },
    {
      "cell_type": "markdown",
      "metadata": {
        "id": "tEHTIhyqqto9",
        "colab_type": "text"
      },
      "source": [
        "O que acontece se eu executar $(10^2+20$ ?"
      ]
    },
    {
      "cell_type": "code",
      "metadata": {
        "id": "tZoYRMcAqxQR",
        "colab_type": "code",
        "outputId": "77d4319a-6201-49b4-e069-9d8107b6b323",
        "colab": {
          "base_uri": "https://localhost:8080/",
          "height": 148
        }
      },
      "source": [
        "# Escreva e veja o resultado\n",
        "(10**2+20"
      ],
      "execution_count": 0,
      "outputs": [
        {
          "output_type": "error",
          "ename": "SyntaxError",
          "evalue": "ignored",
          "traceback": [
            "\u001b[0;36m  File \u001b[0;32m\"<ipython-input-9-9d848cc02b8c>\"\u001b[0;36m, line \u001b[0;32m1\u001b[0m\n\u001b[0;31m    (10**2+20\u001b[0m\n\u001b[0m             ^\u001b[0m\n\u001b[0;31mSyntaxError\u001b[0m\u001b[0;31m:\u001b[0m unexpected EOF while parsing\n"
          ]
        }
      ]
    },
    {
      "cell_type": "markdown",
      "metadata": {
        "id": "OUoRkloPq2xE",
        "colab_type": "text"
      },
      "source": [
        "E se eu tentar $ 0/0 $?"
      ]
    },
    {
      "cell_type": "code",
      "metadata": {
        "id": "euJnvSqkrAoh",
        "colab_type": "code",
        "outputId": "e7fbf7b1-d259-4bfe-d943-d9171c67c4a3",
        "colab": {
          "base_uri": "https://localhost:8080/",
          "height": 181
        }
      },
      "source": [
        "# 0/0 é indefinido na matemática, então vamos ver como o python se comporta\n",
        "0/0"
      ],
      "execution_count": 0,
      "outputs": [
        {
          "output_type": "error",
          "ename": "ZeroDivisionError",
          "evalue": "ignored",
          "traceback": [
            "\u001b[0;31m---------------------------------------------------------------------------\u001b[0m",
            "\u001b[0;31mZeroDivisionError\u001b[0m                         Traceback (most recent call last)",
            "\u001b[0;32m<ipython-input-10-9ab73e148374>\u001b[0m in \u001b[0;36m<module>\u001b[0;34m()\u001b[0m\n\u001b[0;32m----> 1\u001b[0;31m \u001b[0;36m0\u001b[0m\u001b[0;34m/\u001b[0m\u001b[0;36m0\u001b[0m\u001b[0;34m\u001b[0m\u001b[0;34m\u001b[0m\u001b[0m\n\u001b[0m",
            "\u001b[0;31mZeroDivisionError\u001b[0m: division by zero"
          ]
        }
      ]
    },
    {
      "cell_type": "markdown",
      "metadata": {
        "id": "A7RYZCrUrIYd",
        "colab_type": "text"
      },
      "source": [
        "## Valores e tipos\n",
        "\n",
        "Valores são os tipos mais básicos de dados que trabalhamos. Alguns exemplos são: $4.38$, \"Nome:\", $25$. Contudo, esses dados são de **tipos** distintos, $4.38$ é um dado real (**float**), \"Nome:\" é uma String (**str**) e $25$ um número inteiro (**int**). \n",
        "\n",
        "O Python tem tipagem dinâmica, o que significa que não especificamos o tipo de um dado quando declaramos ele em uma varíavel (veremos esse assunto mais para frente). Contudo, muitas vezes queremos saber o tipo de dado que estamos lidando. Portanto, o Python possui uma função que retorna o tipo do dado em tempo de excecução, essa função se chama **type**."
      ]
    },
    {
      "cell_type": "code",
      "metadata": {
        "id": "sX26XJ5qrnVs",
        "colab_type": "code",
        "outputId": "d1ce0e86-ee1a-4a44-8c79-d8d0761866f5",
        "colab": {
          "base_uri": "https://localhost:8080/",
          "height": 54
        }
      },
      "source": [
        "# Vamos ver o tipo de 4.38\n",
        "print(type(4.38))"
      ],
      "execution_count": 0,
      "outputs": [
        {
          "output_type": "stream",
          "text": [
            "<class 'float'>\n"
          ],
          "name": "stdout"
        }
      ]
    },
    {
      "cell_type": "code",
      "metadata": {
        "id": "gwZ99uNorobO",
        "colab_type": "code",
        "outputId": "955e4122-bd0d-4773-d516-b91efe02aa4a",
        "colab": {
          "base_uri": "https://localhost:8080/",
          "height": 54
        }
      },
      "source": [
        "# Agora o tipo de \"Nome:\"\n",
        "print(type('Nome:'))"
      ],
      "execution_count": 0,
      "outputs": [
        {
          "output_type": "stream",
          "text": [
            "<class 'str'>\n"
          ],
          "name": "stdout"
        }
      ]
    },
    {
      "cell_type": "code",
      "metadata": {
        "id": "qmeoJbS8rqzP",
        "colab_type": "code",
        "outputId": "4c167241-87ac-4b9f-d612-6cd2baa6dc67",
        "colab": {
          "base_uri": "https://localhost:8080/",
          "height": 54
        }
      },
      "source": [
        "# Agora o tipo de 25\n",
        "print(type(25))"
      ],
      "execution_count": 0,
      "outputs": [
        {
          "output_type": "stream",
          "text": [
            "<class 'int'>\n"
          ],
          "name": "stdout"
        }
      ]
    },
    {
      "cell_type": "markdown",
      "metadata": {
        "id": "f4Sud3tjsKRJ",
        "colab_type": "text"
      },
      "source": [
        "O operador **type** funciona com muitos outros tipos do Python, por exemplo, tente ver o tipo da função **print**:\n",
        "\n"
      ]
    },
    {
      "cell_type": "code",
      "metadata": {
        "id": "JgtqFqtrsYvf",
        "colab_type": "code",
        "outputId": "58d612ed-c74e-4b2d-cc85-548b1adec7fb",
        "colab": {
          "base_uri": "https://localhost:8080/",
          "height": 54
        }
      },
      "source": [
        "# Imprima o tipo da função print\n",
        "print(type(print))"
      ],
      "execution_count": 0,
      "outputs": [
        {
          "output_type": "stream",
          "text": [
            "<class 'builtin_function_or_method'>\n"
          ],
          "name": "stdout"
        }
      ]
    },
    {
      "cell_type": "markdown",
      "metadata": {
        "id": "PVVvAtNEtC4m",
        "colab_type": "text"
      },
      "source": [
        "### Exercícios\n",
        "\n",
        "**Ex1.** O que acontece se você rodar a função **print** sem os parênteses?"
      ]
    },
    {
      "cell_type": "code",
      "metadata": {
        "id": "Hh94gvTstRNf",
        "colab_type": "code",
        "outputId": "2f36a26a-fae7-42ac-f3df-e7786b79271d",
        "colab": {
          "base_uri": "https://localhost:8080/",
          "height": 54
        }
      },
      "source": [
        "# Escreva aqui\n",
        "print"
      ],
      "execution_count": 0,
      "outputs": [
        {
          "output_type": "execute_result",
          "data": {
            "text/plain": [
              "<function print>"
            ]
          },
          "metadata": {
            "tags": []
          },
          "execution_count": 15
        }
      ]
    },
    {
      "cell_type": "markdown",
      "metadata": {
        "id": "mIHRUGu2tTuF",
        "colab_type": "text"
      },
      "source": [
        "**Ex2.** Se você tentar imprimir uma String sem as aspas, o que vai acontecer?"
      ]
    },
    {
      "cell_type": "code",
      "metadata": {
        "id": "3TRcyN2StYZL",
        "colab_type": "code",
        "outputId": "6d5f66f8-90b4-42b2-e4bd-8017d9cf9c3b",
        "colab": {
          "base_uri": "https://localhost:8080/",
          "height": 201
        }
      },
      "source": [
        "# Escreva aqui usando seu nome, por exemplo\n",
        "print(Nome)"
      ],
      "execution_count": 0,
      "outputs": [
        {
          "output_type": "error",
          "ename": "NameError",
          "evalue": "ignored",
          "traceback": [
            "\u001b[0;31m---------------------------------------------------------------------------\u001b[0m",
            "\u001b[0;31mNameError\u001b[0m                                 Traceback (most recent call last)",
            "\u001b[0;32m<ipython-input-18-7b4c9e247c43>\u001b[0m in \u001b[0;36m<module>\u001b[0;34m()\u001b[0m\n\u001b[0;32m----> 1\u001b[0;31m \u001b[0mprint\u001b[0m\u001b[0;34m(\u001b[0m\u001b[0mNome\u001b[0m\u001b[0;34m)\u001b[0m\u001b[0;34m\u001b[0m\u001b[0;34m\u001b[0m\u001b[0m\n\u001b[0m",
            "\u001b[0;31mNameError\u001b[0m: name 'Nome' is not defined"
          ]
        }
      ]
    },
    {
      "cell_type": "markdown",
      "metadata": {
        "id": "JB7T2mJBtfhl",
        "colab_type": "text"
      },
      "source": [
        "**Ex3.** Se você quiser declarar um número como negativo, basta colocar o sinal de menos na frente do número, por exemplo $-2$. Agora, o que acontece se você fizer $2++2$?"
      ]
    },
    {
      "cell_type": "code",
      "metadata": {
        "id": "vggmywCytnjs",
        "colab_type": "code",
        "outputId": "4fe915eb-a0aa-46aa-f116-0008ae1120e5",
        "colab": {
          "base_uri": "https://localhost:8080/",
          "height": 54
        }
      },
      "source": [
        "# Escreva aqui\n",
        "2++2"
      ],
      "execution_count": 0,
      "outputs": [
        {
          "output_type": "execute_result",
          "data": {
            "text/plain": [
              "4"
            ]
          },
          "metadata": {
            "tags": []
          },
          "execution_count": 19
        }
      ]
    },
    {
      "cell_type": "markdown",
      "metadata": {
        "id": "L2-5OilRuCxE",
        "colab_type": "text"
      },
      "source": [
        "**Ex3.** Em notação matemática, podemos escrever $02$ que é a mesma coisa de $2$. E em Python o que acontece?"
      ]
    },
    {
      "cell_type": "code",
      "metadata": {
        "id": "JUU84jJiuF3h",
        "colab_type": "code",
        "outputId": "9ca853aa-eaf5-4068-f225-6fa37aecb0e1",
        "colab": {
          "base_uri": "https://localhost:8080/",
          "height": 148
        }
      },
      "source": [
        "# Escreva aqui\n",
        "02"
      ],
      "execution_count": 0,
      "outputs": [
        {
          "output_type": "error",
          "ename": "SyntaxError",
          "evalue": "ignored",
          "traceback": [
            "\u001b[0;36m  File \u001b[0;32m\"<ipython-input-20-0908cbeb2fbd>\"\u001b[0;36m, line \u001b[0;32m1\u001b[0m\n\u001b[0;31m    02\u001b[0m\n\u001b[0m     ^\u001b[0m\n\u001b[0;31mSyntaxError\u001b[0m\u001b[0;31m:\u001b[0m invalid token\n"
          ]
        }
      ]
    },
    {
      "cell_type": "markdown",
      "metadata": {
        "id": "-IgVeQKQuN1E",
        "colab_type": "text"
      },
      "source": [
        "**Ex4.** O que acontece se você tiver dois valores sem um operador entre eles?"
      ]
    },
    {
      "cell_type": "code",
      "metadata": {
        "id": "5cyTKk4VumNS",
        "colab_type": "code",
        "outputId": "9bf01f2a-fdad-4c7b-dbf7-3ed2c35be689",
        "colab": {
          "base_uri": "https://localhost:8080/",
          "height": 168
        }
      },
      "source": [
        "# Escreva aqui\n",
        "2 34"
      ],
      "execution_count": 0,
      "outputs": [
        {
          "output_type": "error",
          "ename": "SyntaxError",
          "evalue": "ignored",
          "traceback": [
            "\u001b[0;36m  File \u001b[0;32m\"<ipython-input-23-9863778c20c6>\"\u001b[0;36m, line \u001b[0;32m1\u001b[0m\n\u001b[0;31m    2 34\u001b[0m\n\u001b[0m       ^\u001b[0m\n\u001b[0;31mSyntaxError\u001b[0m\u001b[0;31m:\u001b[0m invalid syntax\n"
          ]
        }
      ]
    },
    {
      "cell_type": "markdown",
      "metadata": {
        "id": "G6520tqQuzZ8",
        "colab_type": "text"
      },
      "source": [
        "**Ex5.** Quantos segundos existem em $42$ minutos e $42$ segundos?"
      ]
    },
    {
      "cell_type": "code",
      "metadata": {
        "id": "swZ48EbRvBXL",
        "colab_type": "code",
        "outputId": "a3652a82-1015-4ae7-8257-65cb62924b9a",
        "colab": {
          "base_uri": "https://localhost:8080/",
          "height": 54
        }
      },
      "source": [
        "# Lembre-se que 1 minuto é igual a 60 segundos\n",
        "(42*60) + 42"
      ],
      "execution_count": 0,
      "outputs": [
        {
          "output_type": "execute_result",
          "data": {
            "text/plain": [
              "2562"
            ]
          },
          "metadata": {
            "tags": []
          },
          "execution_count": 24
        }
      ]
    },
    {
      "cell_type": "markdown",
      "metadata": {
        "id": "hjtqX7hCvGuv",
        "colab_type": "text"
      },
      "source": [
        "**Ex6.** Quantas milhas existem em $10$ quilometros?  (considere $1$ milha como $1.6$km)"
      ]
    },
    {
      "cell_type": "code",
      "metadata": {
        "id": "ns3jyvMEv0UL",
        "colab_type": "code",
        "outputId": "0ae1aa4b-a575-42f5-ae6c-aeb19ab8ad77",
        "colab": {
          "base_uri": "https://localhost:8080/",
          "height": 74
        }
      },
      "source": [
        "# Escreva aqui\n",
        "print(10/1.6)"
      ],
      "execution_count": 0,
      "outputs": [
        {
          "output_type": "stream",
          "text": [
            "6.25\n"
          ],
          "name": "stdout"
        }
      ]
    },
    {
      "cell_type": "markdown",
      "metadata": {
        "id": "3QodG2bNv52p",
        "colab_type": "text"
      },
      "source": [
        "**Ex7.** Se você correr uma maratona de $10$ quilometros em $42$ minutos e $42$ segundos, qual é o seu pace médio em minutos/quilometros?"
      ]
    },
    {
      "cell_type": "code",
      "metadata": {
        "id": "mMST-dgfwD7p",
        "colab_type": "code",
        "outputId": "41d3cb71-c80b-43f4-f769-c2b5160fe910",
        "colab": {
          "base_uri": "https://localhost:8080/",
          "height": 74
        }
      },
      "source": [
        "#\n",
        "# O tempo precisa ser convertido para minutos (basta dividir o tempo em segundos por 60)\n",
        "#\n",
        "# m = s/60\n",
        "#\n",
        "# O passe médio é em minutos/quilometros, portanto depois de ter o tempo em segundos, basta\n",
        "# dividir pelo valor em quilometros.\n",
        "# \n",
        "# pm = (42 + m) / 10\n",
        "#\n",
        "print('Pace médio: %.2f m/km'% ((42+(42/60))/10))"
      ],
      "execution_count": 0,
      "outputs": [
        {
          "output_type": "stream",
          "text": [
            "Pace médio: 4.27 m/km\n"
          ],
          "name": "stdout"
        }
      ]
    },
    {
      "cell_type": "markdown",
      "metadata": {
        "id": "muSu8OXCwqyW",
        "colab_type": "text"
      },
      "source": [
        "**Ex8.** E em minutos/milhas?"
      ]
    },
    {
      "cell_type": "code",
      "metadata": {
        "id": "pLLG1d8pwxlP",
        "colab_type": "code",
        "outputId": "c4f06f03-944c-4efd-c0cc-e386ca2837a2",
        "colab": {
          "base_uri": "https://localhost:8080/",
          "height": 74
        }
      },
      "source": [
        "# Você vai modificar o denominador do calculo da questão acima.\n",
        "print('Pace médio: %.2f m/milhas'% ((42+(42/60))/(10/1.6)))"
      ],
      "execution_count": 0,
      "outputs": [
        {
          "output_type": "stream",
          "text": [
            "Pace médio: 6.83 m/milhas\n"
          ],
          "name": "stdout"
        }
      ]
    },
    {
      "cell_type": "markdown",
      "metadata": {
        "id": "4OjGvLHoxbpn",
        "colab_type": "text"
      },
      "source": [
        "## Variáveis, expressões e atribuições\n",
        "\n",
        "Até agora nós lidamos com os dados de forma estática (também dizemos que são **constantes**). Contudo, em geral queremos atribuir valores e executar operações com eles. Podemos fazer isso a partir de **variáveis**.\n",
        "\n",
        "### Atribuições\n",
        "\n",
        "Uma **atribuição** cria uma nova variável com um dado valor:"
      ]
    },
    {
      "cell_type": "code",
      "metadata": {
        "id": "MvKQU65gU8wu",
        "colab_type": "code",
        "outputId": "6b441bc0-8486-40b9-9aa7-7640e14aedc3",
        "colab": {
          "base_uri": "https://localhost:8080/",
          "height": 54
        }
      },
      "source": [
        "# Cria uma variável e atribui uma String\n",
        "mensagem = 'Uma mensagem'\n",
        "print(mensagem)"
      ],
      "execution_count": 0,
      "outputs": [
        {
          "output_type": "stream",
          "text": [
            "Uma mensagem\n"
          ],
          "name": "stdout"
        }
      ]
    },
    {
      "cell_type": "code",
      "metadata": {
        "id": "yebUYvCHVD2P",
        "colab_type": "code",
        "outputId": "c2e18b9f-ec37-424b-8e66-395ed2e2a50f",
        "colab": {
          "base_uri": "https://localhost:8080/",
          "height": 54
        }
      },
      "source": [
        "# Cria uma varíavel e atribui um número real\n",
        "pi = 3.1416\n",
        "print(pi)"
      ],
      "execution_count": 0,
      "outputs": [
        {
          "output_type": "stream",
          "text": [
            "3.1416\n"
          ],
          "name": "stdout"
        }
      ]
    },
    {
      "cell_type": "code",
      "metadata": {
        "id": "hw2q5Kz0VGDm",
        "colab_type": "code",
        "outputId": "7293b6f9-ab02-44c2-82c5-0be02200a1ba",
        "colab": {
          "base_uri": "https://localhost:8080/",
          "height": 92
        }
      },
      "source": [
        "# Cria uma variável e atribui um número inteiro\n",
        "n = 100\n",
        "print(n)\n",
        "\n",
        "n=20\n",
        "print(n)"
      ],
      "execution_count": 0,
      "outputs": [
        {
          "output_type": "stream",
          "text": [
            "100\n",
            "20\n"
          ],
          "name": "stdout"
        }
      ]
    },
    {
      "cell_type": "code",
      "metadata": {
        "id": "1ap4QYDGVJCp",
        "colab_type": "code",
        "outputId": "d85c8f7c-f02c-4f37-81e4-c511ed9f3d5f",
        "colab": {
          "base_uri": "https://localhost:8080/",
          "height": 87
        }
      },
      "source": [
        "# Imprima o tipo de cada uma das variáveis\n",
        "print(type(mensagem))\n",
        "\n",
        "print(type(pi))\n",
        "\n",
        "print(type(n))"
      ],
      "execution_count": 0,
      "outputs": [
        {
          "output_type": "stream",
          "text": [
            "<class 'str'>\n",
            "<class 'float'>\n",
            "<class 'int'>\n"
          ],
          "name": "stdout"
        }
      ]
    },
    {
      "cell_type": "markdown",
      "metadata": {
        "id": "-dJnQhsSVMfe",
        "colab_type": "text"
      },
      "source": [
        "### Nomeando variáveis\n",
        "\n",
        "Variáveis devem receber na medida do possível nomes auto-explicativos. Por exemplo, criamos a variável **pi** no exemplo anterior e qualquer programador vai entender que aquela variável é o número pi. Contudo, existem certas exceções."
      ]
    },
    {
      "cell_type": "code",
      "metadata": {
        "id": "fBSTYUZNXg9r",
        "colab_type": "code",
        "outputId": "2690cdb2-4122-477f-82ac-7e8531497c88",
        "colab": {
          "base_uri": "https://localhost:8080/",
          "height": 148
        }
      },
      "source": [
        "# Tente criar uma varíavel que comece com um número no nome\n",
        "10pi = 3.14"
      ],
      "execution_count": 0,
      "outputs": [
        {
          "output_type": "error",
          "ename": "SyntaxError",
          "evalue": "ignored",
          "traceback": [
            "\u001b[0;36m  File \u001b[0;32m\"<ipython-input-35-d1a2dfdcda21>\"\u001b[0;36m, line \u001b[0;32m1\u001b[0m\n\u001b[0;31m    10pi = 3.14\u001b[0m\n\u001b[0m       ^\u001b[0m\n\u001b[0;31mSyntaxError\u001b[0m\u001b[0;31m:\u001b[0m invalid syntax\n"
          ]
        }
      ]
    },
    {
      "cell_type": "code",
      "metadata": {
        "id": "cIQDNBugYzuB",
        "colab_type": "code",
        "outputId": "9378e4a5-80b6-4412-be51-83c7ded19f31",
        "colab": {
          "base_uri": "https://localhost:8080/",
          "height": 148
        }
      },
      "source": [
        "# Agora usando @\n",
        "@n = 10 "
      ],
      "execution_count": 0,
      "outputs": [
        {
          "output_type": "error",
          "ename": "SyntaxError",
          "evalue": "ignored",
          "traceback": [
            "\u001b[0;36m  File \u001b[0;32m\"<ipython-input-36-bc6c08de1151>\"\u001b[0;36m, line \u001b[0;32m1\u001b[0m\n\u001b[0;31m    @n = 10\u001b[0m\n\u001b[0m       ^\u001b[0m\n\u001b[0;31mSyntaxError\u001b[0m\u001b[0;31m:\u001b[0m invalid syntax\n"
          ]
        }
      ]
    },
    {
      "cell_type": "code",
      "metadata": {
        "id": "mQeKzGEWY5uU",
        "colab_type": "code",
        "outputId": "e25eb446-339e-46de-9320-2cbba552d948",
        "colab": {
          "base_uri": "https://localhost:8080/",
          "height": 148
        }
      },
      "source": [
        "# Agora usando uma palavra reservada da linguagem\n",
        "class = 'Esta é uma palavra reservada'"
      ],
      "execution_count": 0,
      "outputs": [
        {
          "output_type": "error",
          "ename": "SyntaxError",
          "evalue": "ignored",
          "traceback": [
            "\u001b[0;36m  File \u001b[0;32m\"<ipython-input-37-a07c381805da>\"\u001b[0;36m, line \u001b[0;32m1\u001b[0m\n\u001b[0;31m    class = 'Esta é uma palavra reservada'\u001b[0m\n\u001b[0m          ^\u001b[0m\n\u001b[0;31mSyntaxError\u001b[0m\u001b[0;31m:\u001b[0m invalid syntax\n"
          ]
        }
      ]
    },
    {
      "cell_type": "markdown",
      "metadata": {
        "id": "WYIfORZyY97j",
        "colab_type": "text"
      },
      "source": [
        "A palavra **class** é uma *palavra reservada* do Python. Isso significa que **class** é utilizado pela linguagem para criar um tipo de estrutura Python (nesse caso classes, que veremos mais adiante). Na Tabela Tab-1 são apresentadas as palavras reservadas para o Python 3.\n",
        "\n",
        "| &nbsp; | &nbsp; | &nbsp; | &nbsp; | &nbsp; | &nbsp; | &nbsp; | &nbsp; |\n",
        "| ------- | ----- | ----- |  ----- |  ----- |  ----- |  ----- | ----- | \n",
        "| False | None | True | and | as | assert | break |\n",
        "| class | continue | def | del | elif | else | except |\n",
        "| finally | for | from | global | if | import | in |\n",
        "| is | lambda | nonlocal | not | or | pass | raise |\n",
        "| return | try | while | with | yield |\n",
        "|||||\n",
        "\n",
        "<center><b>Tab-1.</b> Palavras reservadas do Python 3.</center>\n",
        "\n",
        "Na maioria das IDE's Python as palavras reservadas possuem cores diferentes (veja a **class** na célula anterior), portanto não se preocupe em memorizá-las, com o tempo isso vai se tornar natural.\n",
        "\n",
        "### Expressões\n",
        "\n",
        "Uma **expressão** é uma combinação de valores, variáveis e operadores. Como variáveis armazenam valores, as operações a seguir são válidas:"
      ]
    },
    {
      "cell_type": "code",
      "metadata": {
        "id": "kbInYAEVZSu_",
        "colab_type": "code",
        "cellView": "both",
        "outputId": "6d0f4fc4-a4e7-4ad9-9612-306c17f55bf4",
        "colab": {
          "base_uri": "https://localhost:8080/",
          "height": 107
        }
      },
      "source": [
        "#@title Formulário\n",
        "valor = 1000 #@param {type:\"number\"}\n",
        "\n",
        "# Fazendo operações com valor e guardando os resultados em outras variáveis\n",
        "resultado1 = valor*2.4\n",
        "resultado2 = valor+20\n",
        "resultado3 = valor**2\n",
        "\n",
        "# Apresentando os resultados\n",
        "print(resultado1)\n",
        "print(resultado2)\n",
        "print(resultado3)"
      ],
      "execution_count": 0,
      "outputs": [
        {
          "output_type": "stream",
          "text": [
            "2400.0\n",
            "1020\n",
            "1000000\n"
          ],
          "name": "stdout"
        }
      ]
    },
    {
      "cell_type": "markdown",
      "metadata": {
        "id": "ZMPNxrsiaCQa",
        "colab_type": "text"
      },
      "source": [
        "Quando você inputa a field **valor** no exemplo acima, ele substitui **valor** pelo valor que foi atribuido a ele, nesse caso 10. O mesmo ocorre com as variáveis **resultado1**, **resultado2** e **resultado3**.\n",
        "\n",
        "## Operações com Strings\n",
        "\n",
        "Em Python não é possível fazer operações matemáticas com Strings:"
      ]
    },
    {
      "cell_type": "code",
      "metadata": {
        "id": "m4xPugYDaiAz",
        "colab_type": "code",
        "outputId": "954f2176-cdcf-4b39-bd02-644c7f9fcaff",
        "colab": {
          "base_uri": "https://localhost:8080/",
          "height": 181
        }
      },
      "source": [
        "# Tente subtrair as duas Strings a seguir\n",
        "print('1'-'2')"
      ],
      "execution_count": 0,
      "outputs": [
        {
          "output_type": "error",
          "ename": "TypeError",
          "evalue": "ignored",
          "traceback": [
            "\u001b[0;31m---------------------------------------------------------------------------\u001b[0m",
            "\u001b[0;31mTypeError\u001b[0m                                 Traceback (most recent call last)",
            "\u001b[0;32m<ipython-input-40-f9e4a0e7cec4>\u001b[0m in \u001b[0;36m<module>\u001b[0;34m()\u001b[0m\n\u001b[0;32m----> 1\u001b[0;31m \u001b[0mprint\u001b[0m\u001b[0;34m(\u001b[0m\u001b[0;34m'1'\u001b[0m\u001b[0;34m-\u001b[0m\u001b[0;34m'2'\u001b[0m\u001b[0;34m)\u001b[0m\u001b[0;34m\u001b[0m\u001b[0;34m\u001b[0m\u001b[0m\n\u001b[0m",
            "\u001b[0;31mTypeError\u001b[0m: unsupported operand type(s) for -: 'str' and 'str'"
          ]
        }
      ]
    },
    {
      "cell_type": "code",
      "metadata": {
        "id": "prGFd2qxaj2F",
        "colab_type": "code",
        "outputId": "fa44be7a-a308-438e-8ddf-51eba793767c",
        "colab": {
          "base_uri": "https://localhost:8080/",
          "height": 181
        }
      },
      "source": [
        "# Ou dividir\n",
        "print('1'/'2')"
      ],
      "execution_count": 0,
      "outputs": [
        {
          "output_type": "error",
          "ename": "TypeError",
          "evalue": "ignored",
          "traceback": [
            "\u001b[0;31m---------------------------------------------------------------------------\u001b[0m",
            "\u001b[0;31mTypeError\u001b[0m                                 Traceback (most recent call last)",
            "\u001b[0;32m<ipython-input-41-9b987ebd3e8b>\u001b[0m in \u001b[0;36m<module>\u001b[0;34m()\u001b[0m\n\u001b[0;32m----> 1\u001b[0;31m \u001b[0mprint\u001b[0m\u001b[0;34m(\u001b[0m\u001b[0;34m'1'\u001b[0m\u001b[0;34m/\u001b[0m\u001b[0;34m'2'\u001b[0m\u001b[0;34m)\u001b[0m\u001b[0;34m\u001b[0m\u001b[0;34m\u001b[0m\u001b[0m\n\u001b[0m",
            "\u001b[0;31mTypeError\u001b[0m: unsupported operand type(s) for /: 'str' and 'str'"
          ]
        }
      ]
    },
    {
      "cell_type": "code",
      "metadata": {
        "id": "3uJsNx0Talsf",
        "colab_type": "code",
        "outputId": "5ee459be-b8f4-43e1-f9ae-cfde05435ad3",
        "colab": {
          "base_uri": "https://localhost:8080/",
          "height": 181
        }
      },
      "source": [
        "# Multiplicar talvez?\n",
        "print('1'*'2')"
      ],
      "execution_count": 0,
      "outputs": [
        {
          "output_type": "error",
          "ename": "TypeError",
          "evalue": "ignored",
          "traceback": [
            "\u001b[0;31m---------------------------------------------------------------------------\u001b[0m",
            "\u001b[0;31mTypeError\u001b[0m                                 Traceback (most recent call last)",
            "\u001b[0;32m<ipython-input-42-b35d24d175ed>\u001b[0m in \u001b[0;36m<module>\u001b[0;34m()\u001b[0m\n\u001b[0;32m----> 1\u001b[0;31m \u001b[0mprint\u001b[0m\u001b[0;34m(\u001b[0m\u001b[0;34m'1'\u001b[0m\u001b[0;34m*\u001b[0m\u001b[0;34m'2'\u001b[0m\u001b[0;34m)\u001b[0m\u001b[0;34m\u001b[0m\u001b[0;34m\u001b[0m\u001b[0m\n\u001b[0m",
            "\u001b[0;31mTypeError\u001b[0m: can't multiply sequence by non-int of type 'str'"
          ]
        }
      ]
    },
    {
      "cell_type": "markdown",
      "metadata": {
        "id": "jnNl8fCqapmy",
        "colab_type": "text"
      },
      "source": [
        "Existem duas restrições, mas que produzem resultados próprios de Strings. São eles os operadores $+$ e $*$.\n",
        "\n",
        "O operador $+$ executa uma operação em Strings conhecida como **concatenação**, ou seja, ele junta duas Strings."
      ]
    },
    {
      "cell_type": "code",
      "metadata": {
        "id": "eX2vk9DoatKb",
        "colab_type": "code",
        "outputId": "dc1c1f0c-c418-4a86-eddc-08ccf27ef923",
        "colab": {
          "base_uri": "https://localhost:8080/",
          "height": 54
        }
      },
      "source": [
        "nome = \"Luke\" #@param {type:\"string\"}\n",
        "sobrenome = \"Skywalker\" #@param {type:\"string\"}\n",
        "\n",
        "# Adicinamos um espaço (também é uma String) entre o nome e sobrenome. \n",
        "nome_completo = nome + ' ' + sobrenome\n",
        "print(nome_completo)"
      ],
      "execution_count": 0,
      "outputs": [
        {
          "output_type": "stream",
          "text": [
            "Luke Skywalker\n"
          ],
          "name": "stdout"
        }
      ]
    },
    {
      "cell_type": "markdown",
      "metadata": {
        "id": "UVYpXO5Kavgh",
        "colab_type": "text"
      },
      "source": [
        "O operador $*$ é utilizado para **repetição**."
      ]
    },
    {
      "cell_type": "code",
      "metadata": {
        "id": "G5tBtm-Xa2-s",
        "colab_type": "code",
        "outputId": "b3bf7c70-1f16-493b-e3ed-6685dbd1906e",
        "colab": {
          "base_uri": "https://localhost:8080/",
          "height": 240
        }
      },
      "source": [
        "# Criando uma String \n",
        "mensagem = \"Oi eu sou a Dory e sofro de perda de memória recente.\" #@param {type:\"string\"}\n",
        "\n",
        "# Repetindo a mensagem \n",
        "print((mensagem+'\\n')*10)"
      ],
      "execution_count": 0,
      "outputs": [
        {
          "output_type": "stream",
          "text": [
            "Oi eu sou a Dory e sofro de perda de memória recente.\n",
            "Oi eu sou a Dory e sofro de perda de memória recente.\n",
            "Oi eu sou a Dory e sofro de perda de memória recente.\n",
            "Oi eu sou a Dory e sofro de perda de memória recente.\n",
            "Oi eu sou a Dory e sofro de perda de memória recente.\n",
            "Oi eu sou a Dory e sofro de perda de memória recente.\n",
            "Oi eu sou a Dory e sofro de perda de memória recente.\n",
            "Oi eu sou a Dory e sofro de perda de memória recente.\n",
            "Oi eu sou a Dory e sofro de perda de memória recente.\n",
            "Oi eu sou a Dory e sofro de perda de memória recente.\n",
            "\n"
          ],
          "name": "stdout"
        }
      ]
    },
    {
      "cell_type": "markdown",
      "metadata": {
        "id": "2FBsep3la7zj",
        "colab_type": "text"
      },
      "source": [
        "## Comentários\n",
        "\n",
        "Comentários em Python são feitos usando **#**."
      ]
    },
    {
      "cell_type": "code",
      "metadata": {
        "id": "LCygm1MKbZPw",
        "colab_type": "code",
        "colab": {}
      },
      "source": [
        "# Atribuindo o número pi\n",
        "pi = 3.14\n",
        "\n",
        "# Cuidado, ao atribuir um valor a n, deve se considerar n um número inteiro\n",
        "n = 10"
      ],
      "execution_count": 0,
      "outputs": []
    },
    {
      "cell_type": "markdown",
      "metadata": {
        "id": "ywQb-9hAboem",
        "colab_type": "text"
      },
      "source": [
        "## Exercícios\n",
        "\n",
        "**Ex1.** Faça um código para calcular a área de um quadrado.  A área do quadrado é $a=l*l$ onde l é um lado do quadrado. (utilize variáveis)"
      ]
    },
    {
      "cell_type": "code",
      "metadata": {
        "id": "RHeZUNNJcHP3",
        "colab_type": "code",
        "outputId": "8229f4bf-da88-4677-cf28-bb814dae0633",
        "colab": {
          "base_uri": "https://localhost:8080/",
          "height": 74
        }
      },
      "source": [
        " l = 5 #@param {type:\"number\"}\n",
        "\n",
        "# Escreva aqui\n",
        "a = l * l\n",
        "print('A área do quadrado é: ', a)"
      ],
      "execution_count": 0,
      "outputs": [
        {
          "output_type": "stream",
          "text": [
            "A área do quadrado é:  25\n"
          ],
          "name": "stdout"
        }
      ]
    },
    {
      "cell_type": "markdown",
      "metadata": {
        "id": "ZL78DzjQdjNP",
        "colab_type": "text"
      },
      "source": [
        "**Ex2.** Faça um código para calcular o volume de uma esfera. O volume $v$ de uma esfera é dado por $ v=\\frac{4}{3}\\pi r^3 $ onde $r$ é o raio da esfera. (utilize variáveis)"
      ]
    },
    {
      "cell_type": "code",
      "metadata": {
        "id": "l3otvhrJeuGU",
        "colab_type": "code",
        "outputId": "22fa94e7-e698-4170-e1a8-78cd2d0c19c1",
        "colab": {
          "base_uri": "https://localhost:8080/",
          "height": 74
        }
      },
      "source": [
        "pi = 3.14 #@param {type:\"number\"}\n",
        "raio = 3 #@param {type:\"number\"}\n",
        "\n",
        "# Escreva aqui\n",
        "v = (4/3)*pi*raio**3\n",
        "print('O volume de uma esfera de raio %d é %.2f'% (raio, v))"
      ],
      "execution_count": 0,
      "outputs": [
        {
          "output_type": "stream",
          "text": [
            "O volume de uma esfera de raio 3 é 113.04\n"
          ],
          "name": "stdout"
        }
      ]
    },
    {
      "cell_type": "markdown",
      "metadata": {
        "id": "sbFYSqWgfGJ7",
        "colab_type": "text"
      },
      "source": [
        "**Ex3.** Suponha que em uma gráfica, a capa de um livro custe $R\\$ 24,95$ reais, porém, a gráfica está dando $40\\%$ de desconto por capa. A primeira cópia do conteúdo do livro custa $R\\$ 3,00$ reais e as demais custam $R\\$0,75$ centavos cada. Qual o custo total de $60$ cópias do livro (incluindo as capas)? (utilize variáveis)"
      ]
    },
    {
      "cell_type": "code",
      "metadata": {
        "id": "gjF5TP5bfKyw",
        "colab_type": "code",
        "outputId": "630b08d7-8d9d-4a6f-a2c6-a7f4a04b29cb",
        "colab": {
          "base_uri": "https://localhost:8080/",
          "height": 74
        }
      },
      "source": [
        "#\n",
        "# Calculando o preço de uma capa com desconto, se o desconto é de 40%, pagamos 60% do valor\n",
        "#  \n",
        "#  %    R$\n",
        "# 100  24.95\n",
        "#  60    x\n",
        "#\n",
        "# Aplicação de regra de 3.\n",
        "#\n",
        "capa = 24.95*0.60\n",
        "\n",
        "# Primeira cópia\n",
        "primeira_copia = 3 + capa\n",
        "\n",
        "# Demais copias\n",
        "outras_copias = 0.75 + capa\n",
        "\n",
        "preco_copias = primeira_copia+(outras_copias*59)\n",
        "print('O preço total de 60 cópias é R$%.2f'% preco_copias)"
      ],
      "execution_count": 0,
      "outputs": [
        {
          "output_type": "stream",
          "text": [
            "O preço total de 60 cópias é R$945.45\n"
          ],
          "name": "stdout"
        }
      ]
    },
    {
      "cell_type": "markdown",
      "metadata": {
        "id": "QbWMx4KN6YN1",
        "colab_type": "text"
      },
      "source": [
        "**Ex4.** Como podemos alterar o código acima, para calcular o custo de $n$ cópias do livro?"
      ]
    },
    {
      "cell_type": "code",
      "metadata": {
        "id": "Bt52hZBH8Dqa",
        "colab_type": "code",
        "outputId": "0da78938-8f13-495d-c933-565e00b0c9c6",
        "colab": {
          "base_uri": "https://localhost:8080/",
          "height": 74
        }
      },
      "source": [
        "n = 60 #@param {type:\"number\"}\n",
        "\n",
        "# Escreva aqui\n",
        "capa = 24.95*0.60\n",
        "\n",
        "# Primeira cópia\n",
        "primeira_copia = 3 + capa\n",
        "\n",
        "# Demais copias\n",
        "outras_copias = 0.75 + capa\n",
        "\n",
        "preco_copias = primeira_copia+(outras_copias*(n-1))\n",
        "print('O preço total de n=%d cópias é R$%.2f'% (n, preco_copias))"
      ],
      "execution_count": 0,
      "outputs": [
        {
          "output_type": "stream",
          "text": [
            "O preço total de n=60 cópias é R$945.45\n"
          ],
          "name": "stdout"
        }
      ]
    },
    {
      "cell_type": "markdown",
      "metadata": {
        "id": "G5wZKtZe8oAs",
        "colab_type": "text"
      },
      "source": [
        "**Ex5.** Escreva um código que converte um valor em **reais** para as moedas **dolar**, **euro**, **Som uzbeque** e **Iene Japônes**.\n",
        "\n",
        "Considere que:<br>\n",
        "Um real equivale a $0.27$ dolar<br>\n",
        "Um real equivale a $0.23$ euro<br>\n",
        "Um real equivale a $2241.99$ Som uzbeque<br>\n",
        "Um real euqivale a $29.49$ Iene Japônes"
      ]
    },
    {
      "cell_type": "code",
      "metadata": {
        "id": "PohYUtgD89GN",
        "colab_type": "code",
        "cellView": "both",
        "outputId": "42f14e67-b2fd-473e-b0ef-ceb7450c9f0e",
        "colab": {
          "base_uri": "https://localhost:8080/",
          "height": 125
        }
      },
      "source": [
        "reais = 2 #@param {type:\"number\"}\n",
        "\n",
        "# Escreva aqui\n",
        "dolar = reais * 0.27\n",
        "euro = reais * 0.23\n",
        "som_uzbeque = reais * 2241.99\n",
        "iene_japones = reais * 29.49\n",
        "\n",
        "print('%.2f reais equivalem a %.2f Dolares' % (reais, dolar))\n",
        "print('%.2f reais equivalem a %.2f Euros' % (reais, euro))\n",
        "print('%.2f reais equivalem a %.2f Som Uzbeque' % (reais, som_uzbeque))\n",
        "print('%.2f reais equivalem a %.2f Iene Japônes' % (reais, iene_japones))"
      ],
      "execution_count": 0,
      "outputs": [
        {
          "output_type": "stream",
          "text": [
            "2.00 reais equivalem a 0.54 Dolares\n",
            "2.00 reais equivalem a 0.46 Euros\n",
            "2.00 reais equivalem a 4483.98 Som Uzbeque\n",
            "2.00 reais equivalem a 58.98 Iene Japônes\n"
          ],
          "name": "stdout"
        }
      ]
    },
    {
      "cell_type": "markdown",
      "metadata": {
        "id": "-aG5xG5v9jJi",
        "colab_type": "text"
      },
      "source": [
        "**Ex6.** Escreva um programa inverso ao anterior, ou seja converte **dolar**, **euro**, **Som uzbeque** e **Iene Japônes** para real.\n",
        "\n",
        "De acordo com o exercício acima, considere que:<br>\n",
        "Um dolar equivale a $\\frac{1}{0.27}$ real.<br>\n",
        "Pensem nos demais olhando o exercício anterior..."
      ]
    },
    {
      "cell_type": "code",
      "metadata": {
        "id": "diQHkKHZ99Zk",
        "colab_type": "code",
        "outputId": "22062f63-945a-48c5-cf24-870c3ea2d202",
        "colab": {
          "base_uri": "https://localhost:8080/",
          "height": 125
        }
      },
      "source": [
        "valor_monetario = 2 #@param {type:\"number\"}\n",
        "\n",
        "# Escreva aqui\n",
        "# Escreva aqui\n",
        "real_dolar = valor_monetario/0.27\n",
        "real_euro = valor_monetario/0.23\n",
        "real_som_uzbeque = valor_monetario/2241.99\n",
        "real_iene_japones = valor_monetario/29.49\n",
        "\n",
        "print('%.2f Dolares equivalem a %.2f reais' % (valor_monetario, real_dolar))\n",
        "print('%.2f Euros equivalem a %.2f reais' % (valor_monetario, real_euro))\n",
        "print('%.2f Som Uzbeque equivalem a %.2f reais' % (valor_monetario, real_som_uzbeque))\n",
        "print('%.2f Iene Japônes equivalem a %.2f reais' % (valor_monetario, real_iene_japones))"
      ],
      "execution_count": 0,
      "outputs": [
        {
          "output_type": "stream",
          "text": [
            "2.00 Dolares equivalem a 7.41 reais\n",
            "2.00 Euros equivalem a 8.70 reais\n",
            "2.00 Som Uzbeque equivalem a 0.00 reais\n",
            "2.00 Iene Japônes equivalem a 0.07 reais\n"
          ],
          "name": "stdout"
        }
      ]
    },
    {
      "cell_type": "markdown",
      "metadata": {
        "id": "bhthXf0k-Z2r",
        "colab_type": "text"
      },
      "source": [
        "**Ex7.** Faça um programa para converter graus em radianos, onde $1$ grau equivale a $\\frac{1}{57.3}$ radianos.\n"
      ]
    },
    {
      "cell_type": "code",
      "metadata": {
        "id": "pdMbG-HN_U-o",
        "colab_type": "code",
        "outputId": "c0f4933a-928f-42f7-c029-48072ec8ccbc",
        "colab": {
          "base_uri": "https://localhost:8080/",
          "height": 74
        }
      },
      "source": [
        "graus = 10 #@param {type:\"number\"}\n",
        "\n",
        "# Escreva aqui\n",
        "radianos = graus*(1/57.3)\n",
        "print('%.2f graus são %.2f radianos' % (graus, radianos))"
      ],
      "execution_count": 0,
      "outputs": [
        {
          "output_type": "stream",
          "text": [
            "10.00 graus são 0.17 radianos\n"
          ],
          "name": "stdout"
        }
      ]
    },
    {
      "cell_type": "markdown",
      "metadata": {
        "id": "H8Qgtr5cA5eI",
        "colab_type": "text"
      },
      "source": [
        "**Ex8.** Faça um programa para converter radianos em graus."
      ]
    },
    {
      "cell_type": "code",
      "metadata": {
        "id": "tJkCDyn7BAlg",
        "colab_type": "code",
        "outputId": "cc73f252-d7c9-40ff-a1cf-17297b8a9cdf",
        "colab": {
          "base_uri": "https://localhost:8080/",
          "height": 74
        }
      },
      "source": [
        "radianos = 0.17 #@param {type:\"number\"}\n",
        "\n",
        "# Escreva aqui\n",
        "graus= radianos/(1/57.3)\n",
        "print('%.2f radianos são %.2f graus' % (radianos, graus))"
      ],
      "execution_count": 0,
      "outputs": [
        {
          "output_type": "stream",
          "text": [
            "0.17 radianos são 9.74 graus\n"
          ],
          "name": "stdout"
        }
      ]
    },
    {
      "cell_type": "markdown",
      "metadata": {
        "id": "vFH2lJJGBCSP",
        "colab_type": "text"
      },
      "source": [
        "**Ex9.** Escreva um programa para fazer um *swap* entre duas variáveis inteiras (*swap* é uma operação que troca o valor em memória de uma variável pelo da outra)."
      ]
    },
    {
      "cell_type": "code",
      "metadata": {
        "id": "TMkeeSfnBSLh",
        "colab_type": "code",
        "outputId": "906cbd31-ae66-4a2f-9a57-66dd3f8ba69b",
        "colab": {
          "base_uri": "https://localhost:8080/",
          "height": 71
        }
      },
      "source": [
        "# Valores de a e b\n",
        "a = 20 #@param {type:\"number\"}\n",
        "b = 10 #@param {type:\"number\"}\n",
        "\n",
        "# Troque a por b utilizando uma\n",
        "# terceira variável para a troca.\n",
        "c = a\n",
        "a = b\n",
        "b = c\n",
        " \n",
        "# Ao imprimir a e b devem estar trocados \n",
        "print(a)\n",
        "print(b)"
      ],
      "execution_count": 0,
      "outputs": [
        {
          "output_type": "stream",
          "text": [
            "10\n",
            "20\n"
          ],
          "name": "stdout"
        }
      ]
    },
    {
      "cell_type": "markdown",
      "metadata": {
        "id": "-3LDQSjIC7Tw",
        "colab_type": "text"
      },
      "source": [
        "**Ex10.** Troque a por b sem usar nenhuma variável adicional."
      ]
    },
    {
      "cell_type": "code",
      "metadata": {
        "id": "2SxW8XWWDXAl",
        "colab_type": "code",
        "outputId": "cb9f6296-1fc2-4ea4-99a2-e8a2310b4564",
        "colab": {
          "base_uri": "https://localhost:8080/",
          "height": 71
        }
      },
      "source": [
        "# Valores de a e b\n",
        "a = 20 #@param {type:\"number\"}\n",
        "b = 10 #@param {type:\"number\"}\n",
        "\n",
        "# Para resolver use soma e subtração.\n",
        "a = a + b\n",
        "b = a - b\n",
        "a = a - b\n",
        "\n",
        "# Ao imprimir a e b devem estar trocados \n",
        "print(a)\n",
        "print(b)"
      ],
      "execution_count": 0,
      "outputs": [
        {
          "output_type": "stream",
          "text": [
            "10\n",
            "20\n"
          ],
          "name": "stdout"
        }
      ]
    },
    {
      "cell_type": "markdown",
      "metadata": {
        "id": "yTdjchRTDnCG",
        "colab_type": "text"
      },
      "source": [
        "**Ex11.** Escreva um programa que calcule o seguinte polinômio $ p=x^2+x^3+x^5 $."
      ]
    },
    {
      "cell_type": "code",
      "metadata": {
        "id": "iCvBBYAODrAx",
        "colab_type": "code",
        "outputId": "ee2c756c-3a9f-4e6e-ad04-7d1199d66afe",
        "colab": {
          "base_uri": "https://localhost:8080/",
          "height": 54
        }
      },
      "source": [
        "x = 2 #@param {type:\"number\"}\n",
        "\n",
        "# Escreva aqui\n",
        "p = x**2+x**3+x**5\n",
        "print('O polinômio vale: %.2f' % p)"
      ],
      "execution_count": 0,
      "outputs": [
        {
          "output_type": "stream",
          "text": [
            "O polinômio vale: 44.00\n"
          ],
          "name": "stdout"
        }
      ]
    },
    {
      "cell_type": "markdown",
      "metadata": {
        "id": "A0Zu7m436ynX",
        "colab_type": "text"
      },
      "source": [
        "**Ex12.** Escreva um programa que calcula o perímetro (circunferência) de um círculo $ p=2\\pi r^2 $ onde $r$ é o raio do círculo."
      ]
    },
    {
      "cell_type": "code",
      "metadata": {
        "id": "t0PJGoz47NHS",
        "colab_type": "code",
        "outputId": "1d092555-a515-4a3d-c631-c4563b666b89",
        "colab": {
          "base_uri": "https://localhost:8080/",
          "height": 74
        }
      },
      "source": [
        "pi = 3.14 #@param {type:\"number\"}\n",
        "r = 2 #@param {type:\"number\"}\n",
        "\n",
        "# Escreva aqui\n",
        "p = 2*pi*r**2\n",
        "print('O perímetro da circunferência vale: %.2f' % p)"
      ],
      "execution_count": 0,
      "outputs": [
        {
          "output_type": "stream",
          "text": [
            "O perímetro da circunferência vale: 25.12\n"
          ],
          "name": "stdout"
        }
      ]
    },
    {
      "cell_type": "markdown",
      "metadata": {
        "id": "nZ2DRCcf7-nJ",
        "colab_type": "text"
      },
      "source": [
        "**Ex13.** Podemos calcular o perímetro de um círculo a partir do seu diâmetro. Para isso, basta obter o raio a partir do diâmetro, isto é, dado um diâmetro $  d $ obtemos o raio $ r=\\frac{d}{2} $ e então aplicar a fórmula acima de perímetro. Reescreva nosso programa para calcular o perímetro de um círculo a partir do seu diâmetro."
      ]
    },
    {
      "cell_type": "code",
      "metadata": {
        "id": "VUddngjI8kf6",
        "colab_type": "code",
        "outputId": "94a728c0-f91f-43fb-8d97-bf69b0e5869b",
        "colab": {
          "base_uri": "https://localhost:8080/",
          "height": 54
        }
      },
      "source": [
        "pi = 3.14 #@param {type:\"number\"}\n",
        "d = 4 #@param {type:\"number\"}\n",
        "\n",
        "# Escreva aqui\n",
        "r = d/2\n",
        "p = 2*pi*r**2\n",
        "print('O perímetro da circunferência vale: %.2f' % p)"
      ],
      "execution_count": 0,
      "outputs": [
        {
          "output_type": "stream",
          "text": [
            "O perímetro da circunferência vale: 25.12\n"
          ],
          "name": "stdout"
        }
      ]
    },
    {
      "cell_type": "markdown",
      "metadata": {
        "id": "I2H_9Gw18vF7",
        "colab_type": "text"
      },
      "source": [
        "**Ex14.** O teorema de Pitágoras é um teorema muito importante que relaciona os lados de um triângulo retângulo. Matematicamente, o teorema é expresso pela fórmula $  h^2=b^2+c^2$, onde $ h $ é chamado de *hipotenusa* e $b, c$ são os *catetos* do triângulo. Escreva um programa que calcula o valor de $h$."
      ]
    },
    {
      "cell_type": "code",
      "metadata": {
        "id": "4pGfy-te-2mQ",
        "colab_type": "code",
        "outputId": "8b83e305-7254-4270-f3ac-34a3978e866d",
        "colab": {
          "base_uri": "https://localhost:8080/",
          "height": 74
        }
      },
      "source": [
        "b = 3 #@param {type:\"number\"}\n",
        "c = 4 #@param {type:\"number\"}\n",
        "\n",
        "# Escreva aqui\n",
        "h = (b**2+c**2)**(1/2)\n",
        "print('Hipotenusa: %.2f' % h)"
      ],
      "execution_count": 0,
      "outputs": [
        {
          "output_type": "stream",
          "text": [
            "Hipotenusa: 5.00\n"
          ],
          "name": "stdout"
        }
      ]
    }
  ]
}