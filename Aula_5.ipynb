{
  "nbformat": 4,
  "nbformat_minor": 0,
  "metadata": {
    "colab": {
      "name": "Aula-5.ipynb",
      "provenance": [],
      "collapsed_sections": [],
      "include_colab_link": true
    },
    "kernelspec": {
      "name": "python3",
      "display_name": "Python 3"
    }
  },
  "cells": [
    {
      "cell_type": "markdown",
      "metadata": {
        "id": "view-in-github",
        "colab_type": "text"
      },
      "source": [
        "<a href=\"https://colab.research.google.com/github/jmcava/Curso-PHP-Laravel-Completo-E-Total/blob/master/Aula_5.ipynb\" target=\"_parent\"><img src=\"https://colab.research.google.com/assets/colab-badge.svg\" alt=\"Open In Colab\"/></a>"
      ]
    },
    {
      "cell_type": "markdown",
      "metadata": {
        "id": "0u1tA6mo3v3I",
        "colab_type": "text"
      },
      "source": [
        "<p align=\"center\"> <img src=\"https://datascience.study/wp-content/uploads/2019/01/python-logo.png\"> </p>\n",
        "\n",
        "## Strings\n",
        "\n",
        "Strings são diferentes de tipos primitivos como o int, float ou bool. Uma string é uma sequência (ou cadeia) de caracteres. Saber trabalhar com strings contribui em diversas áreas da computação, tais como: mineração de dados, manipulação de tipos categóricos, processamento de linguagem natural, entre outras."
      ]
    },
    {
      "cell_type": "markdown",
      "metadata": {
        "id": "vtY8K3oXP07w",
        "colab_type": "text"
      },
      "source": [
        "### Uma string é uma sequência\n",
        "\n",
        "Em Python uma String é uma sequência imutável de caracteres. Podemos acessar uma posição (ou seja uma letra) de uma String por meio de colchetes [ ]. "
      ]
    },
    {
      "cell_type": "code",
      "metadata": {
        "id": "qjGVtHVZLxXh",
        "colab_type": "code",
        "outputId": "829a3e5e-c8be-4468-de05-a4becf5e427b",
        "colab": {
          "base_uri": "https://localhost:8080/",
          "height": 34
        }
      },
      "source": [
        "# Um exemplo de String\n",
        "nome = 'Marvel' #@param {type:\"string\"}\n",
        "\n",
        "# Acessando a primeira letra de nome\n",
        "letra = nome[0]\n",
        "print(letra)"
      ],
      "execution_count": 0,
      "outputs": [
        {
          "output_type": "stream",
          "text": [
            "M\n"
          ],
          "name": "stdout"
        }
      ]
    },
    {
      "cell_type": "markdown",
      "metadata": {
        "id": "Z3WdiXqPMmGb",
        "colab_type": "text"
      },
      "source": [
        "O que passamos entre colchetes [ ] é chamado de **índice** da string. Assim como na maioria das linguagens de programação, no Python uma string de $n$ caracteres é indexada de $[0, ..., n-1]$, isto é, o primeiro índice é o $0$ e o último é o $n-1$. Um índice pode ser acessado por meio de variáveis."
      ]
    },
    {
      "cell_type": "code",
      "metadata": {
        "id": "YhXNVqxLNK12",
        "colab_type": "code",
        "outputId": "67c6ce3a-51fe-4e8b-e92d-2109dc7cdeb5",
        "colab": {
          "base_uri": "https://localhost:8080/",
          "height": 34
        }
      },
      "source": [
        "# Índice que quero acessar\n",
        "i = 4\n",
        "letra = nome[i]\n",
        "print(letra)"
      ],
      "execution_count": 0,
      "outputs": [
        {
          "output_type": "stream",
          "text": [
            "e\n"
          ],
          "name": "stdout"
        }
      ]
    },
    {
      "cell_type": "markdown",
      "metadata": {
        "id": "esk5p5qlNVUv",
        "colab_type": "text"
      },
      "source": [
        "E se tentarmos acessar a posição $6$ o que acontece?"
      ]
    },
    {
      "cell_type": "code",
      "metadata": {
        "id": "Ws-y0UbbNbV4",
        "colab_type": "code",
        "outputId": "76dd7dc2-5672-4c4a-ac51-6f563468a31b",
        "colab": {
          "base_uri": "https://localhost:8080/",
          "height": 164
        }
      },
      "source": [
        "# Tentando acessar a posição 6 de nome\n",
        "print(nome[6])\n"
      ],
      "execution_count": 0,
      "outputs": [
        {
          "output_type": "error",
          "ename": "IndexError",
          "evalue": "ignored",
          "traceback": [
            "\u001b[0;31m---------------------------------------------------------------------------\u001b[0m",
            "\u001b[0;31mIndexError\u001b[0m                                Traceback (most recent call last)",
            "\u001b[0;32m<ipython-input-4-5d3bee44c118>\u001b[0m in \u001b[0;36m<module>\u001b[0;34m()\u001b[0m\n\u001b[0;32m----> 1\u001b[0;31m \u001b[0mprint\u001b[0m\u001b[0;34m(\u001b[0m\u001b[0mnome\u001b[0m\u001b[0;34m[\u001b[0m\u001b[0;36m6\u001b[0m\u001b[0;34m]\u001b[0m\u001b[0;34m)\u001b[0m\u001b[0;34m\u001b[0m\u001b[0;34m\u001b[0m\u001b[0m\n\u001b[0m",
            "\u001b[0;31mIndexError\u001b[0m: string index out of range"
          ]
        }
      ]
    },
    {
      "cell_type": "markdown",
      "metadata": {
        "id": "Zsvvuu-JNhuE",
        "colab_type": "text"
      },
      "source": [
        "Para evitar os problemas de índices errados é conveniente saber o limite (comprimento) da string. Para isso o Python fornece uma função chamada **len** que retorna o comprimento da string."
      ]
    },
    {
      "cell_type": "code",
      "metadata": {
        "id": "fexjk8qnNzHw",
        "colab_type": "code",
        "outputId": "fac208a0-89f8-4232-829a-dceee4c0a65e",
        "colab": {
          "base_uri": "https://localhost:8080/",
          "height": 34
        }
      },
      "source": [
        "# Pegando o comprimento de nome\n",
        "tamanho = len(nome)\n",
        "print('O nome tem tamanho', tamanho)"
      ],
      "execution_count": 0,
      "outputs": [
        {
          "output_type": "stream",
          "text": [
            "O nome tem tamanho 6\n"
          ],
          "name": "stdout"
        }
      ]
    },
    {
      "cell_type": "markdown",
      "metadata": {
        "id": "Vvin5uNCN9Vt",
        "colab_type": "text"
      },
      "source": [
        "Lembre-se que, as strings começam no índice por zero, portanto em Python, dada uma string $s$ seus índices válidos estão no intervalo $[0, ..., \\text{len}(s)-1]$. Também é possível acessar as posições da string de trás para frente usando índices negativos."
      ]
    },
    {
      "cell_type": "code",
      "metadata": {
        "id": "wDLu2LdZOavT",
        "colab_type": "code",
        "outputId": "bd1f5a91-1263-41b1-acf5-57f5cc2a971a",
        "colab": {
          "base_uri": "https://localhost:8080/",
          "height": 51
        }
      },
      "source": [
        "# Imprimindo a última letra, \n",
        "# note que nome[-1] = nome[len(nome)-1]\n",
        "print('A última letra do seu nome é', nome[-1])\n",
        "print('A última letra do seu nome é', nome[len(nome)-1])"
      ],
      "execution_count": 0,
      "outputs": [
        {
          "output_type": "stream",
          "text": [
            "A última letra do seu nome é l\n",
            "A última letra do seu nome é l\n"
          ],
          "name": "stdout"
        }
      ]
    },
    {
      "cell_type": "markdown",
      "metadata": {
        "id": "STGYg_OsOqHy",
        "colab_type": "text"
      },
      "source": [
        "### Iterando sobre uma string\n",
        "\n",
        "Como sabemos, o loop for do python é bem parecido com o foreach de outras linguagens de programação. O fato interessante e também útil, é que podemos percorrer uma string utilizando o for, pois as strings em python são iteráveis:"
      ]
    },
    {
      "cell_type": "code",
      "metadata": {
        "id": "vxQgS8YrPA9T",
        "colab_type": "code",
        "outputId": "ce51a5e3-849a-43e5-98e0-0545ede3e3f3",
        "colab": {
          "base_uri": "https://localhost:8080/",
          "height": 119
        }
      },
      "source": [
        "# Percorrendo uma string via for e imprimindo uma a uma\n",
        "for letra in nome:\n",
        "    print(letra)"
      ],
      "execution_count": 0,
      "outputs": [
        {
          "output_type": "stream",
          "text": [
            "M\n",
            "a\n",
            "r\n",
            "v\n",
            "e\n",
            "l\n"
          ],
          "name": "stdout"
        }
      ]
    },
    {
      "cell_type": "markdown",
      "metadata": {
        "id": "0v_bGAu8Po1I",
        "colab_type": "text"
      },
      "source": [
        "### Extraíndo substrings (slicing)\n",
        "\n",
        "No python um segmento de string, isto é, uma **substring** é chamada de fatia (do inglês *slice*). Para obter uma substring basta usar o operador : dentro dos [ ], especificando o intervalo desejado."
      ]
    },
    {
      "cell_type": "code",
      "metadata": {
        "id": "Apj1WtofQbys",
        "colab_type": "code",
        "outputId": "7e941650-15a0-4d0a-93d6-836d9f9d1e6b",
        "colab": {
          "base_uri": "https://localhost:8080/",
          "height": 51
        }
      },
      "source": [
        "# Pegando uma substring\n",
        "nome = 'Capitã Marvel' #@param {type:\"string\"}\n",
        "\n",
        "# Pegando o primeiro nome como subtring\n",
        "print(nome[0:6])\n",
        "\n",
        "# Pegando o último nome como subtring (não esqueça que contém o espaço!)\n",
        "print(nome[6:])"
      ],
      "execution_count": 0,
      "outputs": [
        {
          "output_type": "stream",
          "text": [
            "Capitã\n",
            " Marvel\n"
          ],
          "name": "stdout"
        }
      ]
    },
    {
      "cell_type": "markdown",
      "metadata": {
        "id": "BnhH3YQdQxY_",
        "colab_type": "text"
      },
      "source": [
        "O operador $[m:n]$ retorna a substring que começa no índice $m$ e termina em $n$. Note que, também é possível omitir o limite superior $n$, isso implica que se $s$ é uma string será retornado $[m:len(s)-1]$. E o que acontece se chamarmos $[:]$? "
      ]
    },
    {
      "cell_type": "code",
      "metadata": {
        "id": "jJDE3gYdRXQd",
        "colab_type": "code",
        "colab": {}
      },
      "source": [
        "# Escreva aqui\n"
      ],
      "execution_count": 0,
      "outputs": []
    },
    {
      "cell_type": "markdown",
      "metadata": {
        "id": "uBy_7tEWRn9y",
        "colab_type": "text"
      },
      "source": [
        "### Strings são imutáveis\n",
        "\n",
        "Naturalmente, podemos pensar em utilizar os [ ] para modificar o valor de uma posição da string."
      ]
    },
    {
      "cell_type": "code",
      "metadata": {
        "id": "6pYr-q9mRzo2",
        "colab_type": "code",
        "outputId": "ce186715-fe82-45eb-c566-ba8d8ac61744",
        "colab": {
          "base_uri": "https://localhost:8080/",
          "height": 198
        }
      },
      "source": [
        "# String de entrada\n",
        "nome = 'Hulk' #@param {type:\"string\"}\n",
        "\n",
        "# Modificando a primeira letra\n",
        "nome[0] = 'M'"
      ],
      "execution_count": 0,
      "outputs": [
        {
          "output_type": "error",
          "ename": "TypeError",
          "evalue": "ignored",
          "traceback": [
            "\u001b[0;31m---------------------------------------------------------------------------\u001b[0m",
            "\u001b[0;31mTypeError\u001b[0m                                 Traceback (most recent call last)",
            "\u001b[0;32m<ipython-input-9-f85220414b47>\u001b[0m in \u001b[0;36m<module>\u001b[0;34m()\u001b[0m\n\u001b[1;32m      2\u001b[0m \u001b[0;34m\u001b[0m\u001b[0m\n\u001b[1;32m      3\u001b[0m \u001b[0;31m# Modificando a primeira letra\u001b[0m\u001b[0;34m\u001b[0m\u001b[0;34m\u001b[0m\u001b[0;34m\u001b[0m\u001b[0m\n\u001b[0;32m----> 4\u001b[0;31m \u001b[0mnome\u001b[0m\u001b[0;34m[\u001b[0m\u001b[0;36m0\u001b[0m\u001b[0;34m]\u001b[0m \u001b[0;34m=\u001b[0m \u001b[0;34m'M'\u001b[0m\u001b[0;34m\u001b[0m\u001b[0;34m\u001b[0m\u001b[0m\n\u001b[0m",
            "\u001b[0;31mTypeError\u001b[0m: 'str' object does not support item assignment"
          ]
        }
      ]
    },
    {
      "cell_type": "markdown",
      "metadata": {
        "id": "oCl66uvtR-mR",
        "colab_type": "text"
      },
      "source": [
        "A operação acima vai retornar um erro, porque strings em python são **imutáveis**, o que significa que não podemos alterar o seu conteúdo após sua declaração. Uma forma de resolver isso é criando uma nova string e usando a concatenação:"
      ]
    },
    {
      "cell_type": "code",
      "metadata": {
        "id": "-Zu5RR-tSTPd",
        "colab_type": "code",
        "outputId": "e4bf6af5-0d75-4b68-b8b8-a2e55f22939b",
        "colab": {
          "base_uri": "https://localhost:8080/",
          "height": 34
        }
      },
      "source": [
        "# String de entrada\n",
        "nome = 'Hulk' #@param {type:\"string\"}\n",
        "\n",
        "# Novo nome\n",
        "# note que, nome[1:] = nome[1:len(nome)-1]\n",
        "novo_nome = 'M' + nome[1:]\n",
        "print('Seu novo nome é', novo_nome)"
      ],
      "execution_count": 0,
      "outputs": [
        {
          "output_type": "stream",
          "text": [
            "Seu novo nome é Mulk\n"
          ],
          "name": "stdout"
        }
      ]
    },
    {
      "cell_type": "markdown",
      "metadata": {
        "id": "j7oyEg8KSiFk",
        "colab_type": "text"
      },
      "source": [
        "### Busca em strings\n",
        "\n",
        "É muito comum queremos buscar alguma letra dentro de uma string. Nesse caso, podemos escrever uma função como:"
      ]
    },
    {
      "cell_type": "code",
      "metadata": {
        "id": "7SPr0izWSv3F",
        "colab_type": "code",
        "outputId": "f2dedbb1-c71a-4e98-94b9-6d419084f4d0",
        "colab": {
          "base_uri": "https://localhost:8080/",
          "height": 34
        }
      },
      "source": [
        "#\n",
        "# Função find que encontra a primeira posição \n",
        "# de letra ou -1 caso não encontre.\n",
        "#\n",
        "def find(palavra, letra):\n",
        "    index = 0\n",
        "    while index < len(palavra):\n",
        "        if palavra[index] == letra:\n",
        "            return index\n",
        "        index = index + 1\n",
        "    return -1\n",
        "\n",
        "palavra = 'Hulk' #@param {type:\"string\"}\n",
        "letra = 'H' #@param {type:\"string\"}\n",
        "print(find(palavra, letra))"
      ],
      "execution_count": 0,
      "outputs": [
        {
          "output_type": "stream",
          "text": [
            "0\n"
          ],
          "name": "stdout"
        }
      ]
    },
    {
      "cell_type": "markdown",
      "metadata": {
        "id": "ed7fMzOzTTjw",
        "colab_type": "text"
      },
      "source": [
        "Utilizamos o while por conveniência, pois, o for não fornece acesso direto aos índices (ele itera o objeto string). O algoritmo de busca é simples, caso ele encontre **letra** em **palavra** ele retorna a posição. Se o loop terminar, então significa que a letra não existe em palavra e ele retorna o valor -1.\n",
        "\n",
        "**Ex1.** Algumas vezes é conveniente receber o índice por onde começamos e terminamos a busca. Refaça a função find para receber dois argumentos, **inicio** e **fim** que indicam onde a busca deve começar e onde deve acabar. Os parâmetros **inicio** e **fim** devem ser opcionais."
      ]
    },
    {
      "cell_type": "code",
      "metadata": {
        "id": "dzrQU1rhT9gS",
        "colab_type": "code",
        "colab": {}
      },
      "source": [
        "palavra = 'Hulk' #@param {type:\"string\"}\n",
        "letra = 'H' #@param {type:\"string\"}\n",
        "inicio = 0 #@param {type:\"integer\"}\n",
        "fim = 0 #@param {type:\"integer\"}\n",
        "\n",
        "# Escreva aqui\n"
      ],
      "execution_count": 0,
      "outputs": []
    },
    {
      "cell_type": "markdown",
      "metadata": {
        "id": "jkdkZ5BrVQjs",
        "colab_type": "text"
      },
      "source": [
        "### Métodos de Strings\n",
        "\n",
        "O python fornece métodos (funções) de strings que podem ser acessados diretamente pelo objeto string. Por exemplo, se quissermos fazer todas as letras ficarem maiúsculas, podemos usar o método **upper()**."
      ]
    },
    {
      "cell_type": "code",
      "metadata": {
        "id": "kxZerbpVV5f4",
        "colab_type": "code",
        "outputId": "698c376b-4c4b-4a5e-d15d-d9784d027fc8",
        "colab": {
          "base_uri": "https://localhost:8080/",
          "height": 34
        }
      },
      "source": [
        "# Recebendo uma string\n",
        "nome = 'Viúva Negra' #@param {type:\"string\"}\n",
        "\n",
        "# Fazendo o nome maiúsculo\n",
        "print('Seu nome maiúsculo é', nome.upper())"
      ],
      "execution_count": 0,
      "outputs": [
        {
          "output_type": "stream",
          "text": [
            "Seu nome maiúsculo é VIÚVA NEGRA\n"
          ],
          "name": "stdout"
        }
      ]
    },
    {
      "cell_type": "markdown",
      "metadata": {
        "id": "tAZs7XJGWPl2",
        "colab_type": "text"
      },
      "source": [
        "O pyhton também fornece um método find, que produz um resultado semelhante ao nosso:"
      ]
    },
    {
      "cell_type": "code",
      "metadata": {
        "id": "dbfkEqoOWXDS",
        "colab_type": "code",
        "outputId": "2c124d90-97f4-4800-cf90-cc64e0e9423a",
        "colab": {
          "base_uri": "https://localhost:8080/",
          "height": 34
        }
      },
      "source": [
        "palavra = 'Hulk' #@param {type:\"string\"}\n",
        "letra = 'H' #@param {type:\"string\"}\n",
        "\n",
        "print(palavra.find(letra))"
      ],
      "execution_count": 0,
      "outputs": [
        {
          "output_type": "stream",
          "text": [
            "0\n"
          ],
          "name": "stdout"
        }
      ]
    },
    {
      "cell_type": "markdown",
      "metadata": {
        "id": "8y9Y3WMlWdjc",
        "colab_type": "text"
      },
      "source": [
        "Contudo, o método find do python é mais poderoso e permite buscar substrings também:"
      ]
    },
    {
      "cell_type": "code",
      "metadata": {
        "id": "j_uxsvkAWpKb",
        "colab_type": "code",
        "outputId": "31c27b00-7e90-4443-b35f-cdec60c67c1c",
        "colab": {
          "base_uri": "https://localhost:8080/",
          "height": 34
        }
      },
      "source": [
        "palavra   = 'Hulk' #@param {type:\"string\"}\n",
        "substring = 'ulk' #@param {type:\"string\"}\n",
        "\n",
        "print(palavra.find(substring))"
      ],
      "execution_count": 0,
      "outputs": [
        {
          "output_type": "stream",
          "text": [
            "1\n"
          ],
          "name": "stdout"
        }
      ]
    },
    {
      "cell_type": "markdown",
      "metadata": {
        "id": "Bxok-e6GWvOZ",
        "colab_type": "text"
      },
      "source": [
        "No caso acima, o método find retorna o primeiro índice da substring encontrada em palavra. O operador **in** pode ser utilizado para testar se uma string é substring de outra.\n",
        "\n"
      ]
    },
    {
      "cell_type": "code",
      "metadata": {
        "id": "pZauvBiyXwid",
        "colab_type": "code",
        "outputId": "940241ad-f792-447e-d70a-7c3af88a5690",
        "colab": {
          "base_uri": "https://localhost:8080/",
          "height": 34
        }
      },
      "source": [
        "palavra   = 'Hulk' #@param {type:\"string\"}\n",
        "substring = 'ulk' #@param {type:\"string\"}\n",
        "\n",
        "# Testando se susbtring está em palavra\n",
        "print(substring in palavra)"
      ],
      "execution_count": 0,
      "outputs": [
        {
          "output_type": "stream",
          "text": [
            "True\n"
          ],
          "name": "stdout"
        }
      ]
    },
    {
      "cell_type": "markdown",
      "metadata": {
        "id": "Xu9kpa83X-mH",
        "colab_type": "text"
      },
      "source": [
        "Podemos usar o **in** por exemplo para dadas duas quaiquer strings saber quais letras da primeira aparecem na segunda."
      ]
    },
    {
      "cell_type": "code",
      "metadata": {
        "id": "4y7TXXT2YI__",
        "colab_type": "code",
        "outputId": "34952106-76e5-4dac-d59f-bcabe33f63b2",
        "colab": {
          "base_uri": "https://localhost:8080/",
          "height": 34
        }
      },
      "source": [
        "#\n",
        "# Função que verifica quais letras da primeira string aparecem\n",
        "# na segunda string e retorna uma string contendo ambas\n",
        "#\n",
        "def em_ambas(palavra1, palavra2):\n",
        "    ambas = \"\"\n",
        "    for letra in palavra1:\n",
        "        if letra in palavra2:\n",
        "            ambas = ambas + letra\n",
        "    return ambas\n",
        "\n",
        "# Duas strings quaisquer\n",
        "palavra1 = 'Hulk' #@param {type:\"string\"}\n",
        "palavra2 = 'uk' #@param {type:\"string\"}\n",
        "print(em_ambas(palavra1, palavra2))"
      ],
      "execution_count": 0,
      "outputs": [
        {
          "output_type": "stream",
          "text": [
            "uk\n"
          ],
          "name": "stdout"
        }
      ]
    },
    {
      "cell_type": "markdown",
      "metadata": {
        "id": "TMZpG-HNZIcp",
        "colab_type": "text"
      },
      "source": [
        "### Comparando strings\n",
        "\n",
        "No python podemos comparar strings utilizando operadores relacionais."
      ]
    },
    {
      "cell_type": "code",
      "metadata": {
        "id": "lODT9iTpZRoi",
        "colab_type": "code",
        "outputId": "ae391b83-cb93-402b-9062-63dd03ba8ae0",
        "colab": {
          "base_uri": "https://localhost:8080/",
          "height": 34
        }
      },
      "source": [
        "# Uma string qualquer\n",
        "nome = 'Ronin' #@param {type:\"string\"}\n",
        "\n",
        "# Verificando se duas strings são iguais\n",
        "if nome == 'Ronin':\n",
        "    print('Você já foi o gavião arqueiro')"
      ],
      "execution_count": 0,
      "outputs": [
        {
          "output_type": "stream",
          "text": [
            "Você já foi o gavião arqueiro\n"
          ],
          "name": "stdout"
        }
      ]
    },
    {
      "cell_type": "markdown",
      "metadata": {
        "id": "Czd3ZZYdZkbp",
        "colab_type": "text"
      },
      "source": [
        "Também é possível comparar se uma string é maior que a outra (ordem alfabética ou lexicográfica). "
      ]
    },
    {
      "cell_type": "code",
      "metadata": {
        "id": "ZJn4aaT8Z06z",
        "colab_type": "code",
        "outputId": "317cc83b-129d-4e42-94f9-86e1e5ed1cd5",
        "colab": {
          "base_uri": "https://localhost:8080/",
          "height": 34
        }
      },
      "source": [
        "# Duas strings quaisquer\n",
        "palavra1 = 'abc' #@param {type:\"string\"}\n",
        "palavra2 = 'def' #@param {type:\"string\"}\n",
        "\n",
        "if palavra1 < palavra2:\n",
        "    print(palavra1, 'vem antes de', palavra2)"
      ],
      "execution_count": 0,
      "outputs": [
        {
          "output_type": "stream",
          "text": [
            "abc vem antes de def\n"
          ],
          "name": "stdout"
        }
      ]
    },
    {
      "cell_type": "markdown",
      "metadata": {
        "id": "z8VevwIJaKO5",
        "colab_type": "text"
      },
      "source": [
        "No python as letras maiúsculas vem antes das minúsculas, isso implica que há precedência das maiúsculas, podemos resolver isso usando os métodos **upper()** ou **lower()**. O python possui muitas outras funções de strings que estão fora do escopo da aula, a [documentação oficial](https://docs.python.org/3/library/stdtypes.html#string-methods) fornece um bom guia dos métodos.\n",
        "\n",
        "### Exercícios\n",
        "\n",
        "**Ex1.** Escreva uma função que recebe uma strings e diz se ela é um palíndromo, isto é, se quando lemos a palavra da direta para a esquerda ou da esquerda para a direita ela é a mesma. Por exemplo, a palavra 'arara' é um palíndromo."
      ]
    },
    {
      "cell_type": "code",
      "metadata": {
        "id": "xOlol__KcatM",
        "colab_type": "code",
        "colab": {}
      },
      "source": [
        "# Uma string qualquer\n",
        "palavra = 'arara' #@param {type:\"string\"}\n"
      ],
      "execution_count": 0,
      "outputs": []
    },
    {
      "cell_type": "markdown",
      "metadata": {
        "id": "Kx4nHNepcyMc",
        "colab_type": "text"
      },
      "source": [
        "**Ex2.** Altere a função acima para receber frases inteiras que são palíndromos, nesse caso os espaços devem ser ignorados."
      ]
    },
    {
      "cell_type": "code",
      "metadata": {
        "id": "O6tUEUDnc-qV",
        "colab_type": "code",
        "colab": {}
      },
      "source": [
        "# Uma string qualquer\n",
        "frase = 'subi no onibus' #@param {type:\"string\"}\n"
      ],
      "execution_count": 0,
      "outputs": []
    },
    {
      "cell_type": "markdown",
      "metadata": {
        "id": "Mz-m6G3QdYoi",
        "colab_type": "text"
      },
      "source": [
        "**Ex3.** Escreva uma função que recebe uma frase e conta a quantidade de espaços e vogais que existem na frase."
      ]
    },
    {
      "cell_type": "code",
      "metadata": {
        "id": "KuJor5ZWdfDq",
        "colab_type": "code",
        "colab": {}
      },
      "source": [
        "# Uma string qualquer\n",
        "frase = 'the winter is comming' #@param {type:\"string\"}\n"
      ],
      "execution_count": 0,
      "outputs": []
    },
    {
      "cell_type": "markdown",
      "metadata": {
        "id": "RVxEGGjaebz3",
        "colab_type": "text"
      },
      "source": [
        "**Ex4.** Escreva uma função que indique quantas letras maiúsculas e minúsculas tem em uma dada palavra. **Dica:** use os métodos islower() e isupper()."
      ]
    },
    {
      "cell_type": "code",
      "metadata": {
        "id": "C8jAl9z6exOt",
        "colab_type": "code",
        "colab": {}
      },
      "source": [
        "# Uma string qualquer\n",
        "frase = 'AbAcAXi' #@param {type:\"string\"}"
      ],
      "execution_count": 0,
      "outputs": []
    },
    {
      "cell_type": "markdown",
      "metadata": {
        "id": "y_wJQlbZe4cV",
        "colab_type": "text"
      },
      "source": [
        "**Ex5.** A Cifra de César é provavelmente um dos métodos mais antigos e simples de criptografia. A ideia é \"rotacionar\" as letras de uma palavra por um certo número de lugares. Por exemplo, se a letra é 'A' e rotacionamos por 3, então a letra cifrada é 'D', se a letra é 'Z' e rotacionamos por um a letra cifrada é 'A'. Esse processo pode ser descrito por meio de operações de aritmética modular. A ideia é assimilar a letra do alfabeto com a sua representação numérica, isto é, $A=1, B=2, ..., Z=25$. Dessa forma, a criptografia pode ser descrita como: \n",
        "\n",
        "$$ C_n(x) = (x + n) \\bmod 26 $$\n",
        "\n",
        "e a descriptografia como:\n",
        "\n",
        "$$ D_n(x) = (x-n) \\bmod 26 $$\n",
        "\n",
        "onde $x$ é a representação numérica de uma dada letra do alfabeto. Para obter $x$ podemos fazer uso das funções **string.ascii_lowercase** e **string.ascii_uppercase** da biblioteca string do python. Note que, as funções não vão funcionar com letras acentuadas, caracteres especiais, espaços, cedilhas ou números. Escreva funções criptografa e descriptografa que implementam as funções $C_n$ e $ D_n $."
      ]
    },
    {
      "cell_type": "code",
      "metadata": {
        "id": "3v-vyAuIjMWh",
        "colab_type": "code",
        "colab": {}
      },
      "source": [
        "import string\n",
        "\n",
        "def criptografa(mensagem, n, maiusculas, minusculas):\n",
        "    # Escreva aqui\n",
        "\n",
        "def descriptografa(mensagem, n, maiusculas, minusculas):\n",
        "    # Escreva aqui\n",
        "\n",
        "# Strings com letras maisculas e minusculas\n",
        "minusculas = string.ascii_lowercase\n",
        "maiusculas = string.ascii_uppercase\n",
        "\n",
        "# Testando\n",
        "n = 5 #@param {type:\"integer\"}\n",
        "mensagem = \"MensagemSecreta\" #@param {type:\"string\"}\n",
        "\n",
        "# Criptografa\n",
        "criptografada = criptografa(mensagem, n, maiusculas, minusculas)\n",
        "print('A mensagem criptografada é', criptografada)\n",
        "\n",
        "# Descriptografa\n",
        "descriptografada = descriptografa(criptografada, n, maiusculas, minusculas)\n",
        "print('A mensagem descriptografada é', descriptografada)\n"
      ],
      "execution_count": 0,
      "outputs": []
    },
    {
      "cell_type": "markdown",
      "metadata": {
        "id": "FtpSezp4ppb2",
        "colab_type": "text"
      },
      "source": [
        "**Ex6.** Escreva uma função que recebe uma string e troca as letras maiúsculas por minúsculas. Por exemplo, se você receber \"AbAcAXi\" deve devolver \"aBaCaXi\"."
      ]
    },
    {
      "cell_type": "code",
      "metadata": {
        "id": "ch3YKvPeqRum",
        "colab_type": "code",
        "colab": {}
      },
      "source": [
        "palavra = \"AbAcAXi\" #@param {type:\"string\"}\n",
        "\n",
        "# Escreva aqui\n"
      ],
      "execution_count": 0,
      "outputs": []
    }
  ]
}