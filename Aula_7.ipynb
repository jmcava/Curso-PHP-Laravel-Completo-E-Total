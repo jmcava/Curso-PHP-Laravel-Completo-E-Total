{
  "nbformat": 4,
  "nbformat_minor": 0,
  "metadata": {
    "colab": {
      "name": "Aula-7.ipynb",
      "provenance": [],
      "collapsed_sections": [],
      "include_colab_link": true
    },
    "kernelspec": {
      "name": "python3",
      "display_name": "Python 3"
    }
  },
  "cells": [
    {
      "cell_type": "markdown",
      "metadata": {
        "id": "view-in-github",
        "colab_type": "text"
      },
      "source": [
        "<a href=\"https://colab.research.google.com/github/jmcava/Curso-PHP-Laravel-Completo-E-Total/blob/master/Aula_7.ipynb\" target=\"_parent\"><img src=\"https://colab.research.google.com/assets/colab-badge.svg\" alt=\"Open In Colab\"/></a>"
      ]
    },
    {
      "cell_type": "markdown",
      "metadata": {
        "id": "0u1tA6mo3v3I",
        "colab_type": "text"
      },
      "source": [
        "<p align=\"center\"> <img src=\"https://datascience.study/wp-content/uploads/2019/01/python-logo.png\"> </p>\n",
        "\n",
        "## Bibliotecas para Machine Learning\n",
        "\n",
        "Quando falamos a respeito de Machine Learning (em português, Aprendizagem de Máquinas) algumas tarefas rotineiras começam a surgir: leitura e manipulação de dados; pré-processamento de dados; escolha de técnicas para aprendizagem e visualização de dados. Nessa aula vamos estudar bibliotecas Python que nos auxiliam em tais tarefas, mas nosso foco não vai ser em técnicas de Machine Learning (isso será visto mais a frente em uma disciplina específica). Vamos estudar três bibliotecas: **pandas**, para manipulação de dados; **numpy**, para álgebra linear, cálculo e estatística e **matplotlib** para visualização de dados.\n",
        "\n"
      ]
    },
    {
      "cell_type": "code",
      "metadata": {
        "id": "N4qJh7hTz7YA",
        "colab_type": "code",
        "colab": {}
      },
      "source": [
        "# Bibliotecas que vamos estudar\n",
        "import numpy as np\n",
        "import pandas as pd\n",
        "import matplotlib.pyplot as plt\n",
        "from google.colab import files"
      ],
      "execution_count": 0,
      "outputs": []
    },
    {
      "cell_type": "markdown",
      "metadata": {
        "id": "H5i80Nkrzmpk",
        "colab_type": "text"
      },
      "source": [
        "### Numpy\n",
        "\n",
        "A biblioteca [Numpy](https://numpy.org/) do python é fundamental na área de ciência de dados e em específico também para Machine Learning. É uma biblioteca que possui implementações matemáticas eficientes: \n",
        "\n",
        "\n",
        "\n",
        "1. **ndarray**, uma estrutura eficiente para armazenar arrays (vetores, matrizes,...) multidimensionais contendo operações aritméticas vetorizadas e capacidades sofisticadas de *broadcasting*.\n",
        "2. Diversas operações matemáticas para operações eficientes.\n",
        "3. Ferramentas para leitura e escrita de dados (bem simples em comparação ao pandas).\n",
        "4. Implementações de álgebra linear, geração de números aleatórios e muitas outras. \n",
        "5. Ferramentas para integração de código em outras linguagens (C, C++, Fortran).\n",
        "\n",
        "A biblioteca numpy é usada largamente no universo Python. Isso é tão verdade que, bibliotecas como o **pandas** e o **matplotlib** foram construídas para manipilar estruturas numpy e por isso é importante estudar a numpy primeiro.\n",
        "\n"
      ]
    },
    {
      "cell_type": "markdown",
      "metadata": {
        "id": "hmLjhG-V5Pbc",
        "colab_type": "text"
      },
      "source": [
        "### Numpy ndarray\n",
        "\n",
        "Uma das melhores ferramentas da numpy certamente são os seus arrays multidimensionais. No uso diário de um cientista de dados estão mais presentes os arrays 1D e 2D, por isso esses serão nosso foco. Essas estruturas são tão flexíveis que nos permitem escrever operações entre matrizes, vetores e escalares de forma muito próxima a matemática."
      ]
    },
    {
      "cell_type": "code",
      "metadata": {
        "id": "0jFUEH0J5i0e",
        "colab_type": "code",
        "colab": {}
      },
      "source": [
        "# Criando um array (matriz) com 2 linhas e 3 colunas\n",
        "X = np.array([[0.9526, -0.246, -0.8856],\n",
        "              [0.5639, 0.2379, 0.9104]])\n",
        "\n",
        "# Imprimindo nossos dados\n",
        "print(X)"
      ],
      "execution_count": 0,
      "outputs": []
    },
    {
      "cell_type": "markdown",
      "metadata": {
        "id": "bEc7NhEc6pzv",
        "colab_type": "text"
      },
      "source": [
        "O método **array** cria um objeto array da numpy a partir de uma lista aninhada, no nosso caso essa lista representa uma matriz com 2 linhas e 3 colunas. Agora podemos executar diversas operações sobre os arrays da numpy. Por exemplo operações com escalares:"
      ]
    },
    {
      "cell_type": "code",
      "metadata": {
        "id": "iIw7zncU6xu5",
        "colab_type": "code",
        "colab": {}
      },
      "source": [
        "# Um número qualquer\n",
        "n = 1 #@param {type:\"number\"}\n",
        "\n",
        "# Multiplicando o array por n\n",
        "print('Operação X * n')\n",
        "print(X * n)\n",
        "\n",
        "# A multiplicação não modifica o conteúdo de X\n",
        "print('\\nO array X não é alterado pela operação')\n",
        "print(X)"
      ],
      "execution_count": 0,
      "outputs": []
    },
    {
      "cell_type": "markdown",
      "metadata": {
        "id": "EJQM57ef7Xfu",
        "colab_type": "text"
      },
      "source": [
        "Para saber o tamanho de um array em numpy nós fazemos uso do atributo **shape** que retorna uma tupla (praticamente uma lista imutável) com o tamanho de cada dimensão."
      ]
    },
    {
      "cell_type": "code",
      "metadata": {
        "id": "fibjcJ_T7tt0",
        "colab_type": "code",
        "colab": {}
      },
      "source": [
        "# Qual o tamanho do meu array (linhas e colunas)?\n",
        "(linhas, colunas) = X.shape\n",
        "print('Meu array tem %d linhas e %d colunas' % (linhas, colunas))"
      ],
      "execution_count": 0,
      "outputs": []
    },
    {
      "cell_type": "markdown",
      "metadata": {
        "id": "8y1oZAXF7_jw",
        "colab_type": "text"
      },
      "source": [
        "A numpy fornece um atributo **dtype** para informar o tipo de dado que estamos lidando (similar ao type do Python):"
      ]
    },
    {
      "cell_type": "code",
      "metadata": {
        "id": "WgTVb09u9GOJ",
        "colab_type": "code",
        "colab": {}
      },
      "source": [
        "# Se usarmos o operador type convencional ele vai retornar o tipo de ndarray e não do conteúdo\n",
        "print('O tipo do array é', type(X))\n",
        "\n",
        "# Vamos ver qual o tipo de dados do meu array\n",
        "print('O tipo de dados do array é',X.dtype)"
      ],
      "execution_count": 0,
      "outputs": []
    },
    {
      "cell_type": "markdown",
      "metadata": {
        "id": "zcBDFvtv9pRZ",
        "colab_type": "text"
      },
      "source": [
        "O termo array, ndarray e Numpy Array podem ser usados como sinônimos, portanto sempre que uma das expressões surgir será relacionada a estrutura ndarray da Numpy.\n",
        "\n",
        "### Criando arrays\n",
        "\n",
        "A forma mais simples de criar novos arrays numpy é a partir do método **array**. Conforme o exemplo acima, podemos criar arrays a partir de listas aninhadas, mas também é possível utilizar listas comuns.\n"
      ]
    },
    {
      "cell_type": "code",
      "metadata": {
        "id": "nWWPg_USCh_m",
        "colab_type": "code",
        "colab": {}
      },
      "source": [
        "# Lista de dados\n",
        "lista = [1, 5, 7, 9.6, 0]\n",
        "\n",
        "# Criando um array numpy a partir de lista\n",
        "y = np.array(lista)\n",
        "print('Minha lista agora é um numpy array\\n', y)\n",
        "print('\\nTamanho do array', y.shape)"
      ],
      "execution_count": 0,
      "outputs": []
    },
    {
      "cell_type": "markdown",
      "metadata": {
        "id": "mhJFGMAjDRwg",
        "colab_type": "text"
      },
      "source": [
        "No primeiro exemplo, nós convertemos implicitamente uma lista aninhada em um numpy array. No geral as listas aninhadas (de igual tamanho) serão convertidas em arrays multidimensionais:"
      ]
    },
    {
      "cell_type": "code",
      "metadata": {
        "id": "0WrVH5htDfC-",
        "colab_type": "code",
        "colab": {}
      },
      "source": [
        "# Uma lista aninhada de dados\n",
        "listaaninhada = [[0, 1, 5], [4, 9, 3]]\n",
        "\n",
        "# Criando um array de lista aninhada\n",
        "X = np.array(listaaninhada)\n",
        "print('Minha lista agora é um numpy array\\n', X)\n",
        "print('\\nTamanho do array', X.shape)"
      ],
      "execution_count": 0,
      "outputs": []
    },
    {
      "cell_type": "markdown",
      "metadata": {
        "id": "5aGn4vpIDExE",
        "colab_type": "text"
      },
      "source": [
        "Sem especificar o tipo de dados a numpy vai sempre buscar um tipo de dados mais adequado. Por exemplo nos casos acima:"
      ]
    },
    {
      "cell_type": "code",
      "metadata": {
        "id": "GmApmtc-ENzW",
        "colab_type": "code",
        "colab": {}
      },
      "source": [
        "# Tipo de dados de y\n",
        "print('O array y é do tipo:', y.dtype)\n",
        "\n",
        "# Tipo de dados de X\n",
        "print('O array X é do tipo:', X.dtype)"
      ],
      "execution_count": 0,
      "outputs": []
    },
    {
      "cell_type": "markdown",
      "metadata": {
        "id": "hjO4MEJ6EbMm",
        "colab_type": "text"
      },
      "source": [
        "Note que, no exemplo acima o array X é do tipo **int64**, pois, nós passamos uma lista aninhada apenas com valores inteiros, contudo muitas vezes vamos trabalhar com valores float, caso contrário as computações seriam sempre arredondadas!!! Portanto, é sempre útil informar o tipo de dados que você quer que seja utilizado, em nosso caso quase sempre será do tipo **float64** (quando tivermos apenas números) e **strings** em outros casos (quando possuímos dados categóricos)."
      ]
    },
    {
      "cell_type": "code",
      "metadata": {
        "id": "8zgvYsVcE94-",
        "colab_type": "code",
        "colab": {}
      },
      "source": [
        "# Forçando os dados a serem usados como float64\n",
        "X = np.array(listaaninhada, dtype=np.float64)\n",
        "\n",
        "# Tipo de dados de X\n",
        "print('O array X é do tipo:', X.dtype)"
      ],
      "execution_count": 0,
      "outputs": []
    },
    {
      "cell_type": "markdown",
      "metadata": {
        "id": "Av9_UzneGyhz",
        "colab_type": "text"
      },
      "source": [
        "A numpy também fornece métodos para criar arrays com conteúdo específico. Por exemplo, os métodos **zeros**, **ones** e **empty**, respectivamente iniciam um array com zeros, uns e vazio. Para criar um array com qualquer desses tipos de dados, passamos uma tupla com as dimensões:"
      ]
    },
    {
      "cell_type": "code",
      "metadata": {
        "id": "kt0I3H5ZHVHP",
        "colab_type": "code",
        "colab": {}
      },
      "source": [
        "# Criando um array 1D de zeros\n",
        "array1D = np.zeros(10)\n",
        "print('Array 1d de zeros\\n', array1D)\n",
        "\n",
        "# Criando um array 2D de uns\n",
        "array2D = np.ones((4, 5))\n",
        "print('\\nArray 2d de uns\\n', array2D)\n",
        "\n",
        "# Criando um array 1D vazio\n",
        "array1Dvazio = np.empty(6)\n",
        "print('\\nArray 1d vazio\\n', array1Dvazio)"
      ],
      "execution_count": 0,
      "outputs": []
    },
    {
      "cell_type": "markdown",
      "metadata": {
        "id": "cqK5Ert4IBWE",
        "colab_type": "text"
      },
      "source": [
        "Verifique abaixo os tipos de dados de cada um deles (atributo **dtype**) e o tamanho de cada um deles (atributo **shape**):"
      ]
    },
    {
      "cell_type": "code",
      "metadata": {
        "id": "IPxVEtNdIEd8",
        "colab_type": "code",
        "colab": {}
      },
      "source": [
        "# Escreva aqui\n"
      ],
      "execution_count": 0,
      "outputs": []
    },
    {
      "cell_type": "markdown",
      "metadata": {
        "id": "vgaV2TkuI78o",
        "colab_type": "text"
      },
      "source": [
        "A numpy fornece um outro método chamado **arange** que cria um array numpy similar a função **range** do Python."
      ]
    },
    {
      "cell_type": "code",
      "metadata": {
        "id": "oi-xyXruJKez",
        "colab_type": "code",
        "colab": {}
      },
      "source": [
        "# Criando um array de valores similar ao range do Python\n",
        "arraydevalores = np.arange(10)\n",
        "\n",
        "# O resultado é similar ao que a função range faz, mas nesse caso é um array numpy\n",
        "print('A arange da numpy parece com a range do python\\n', arraydevalores)"
      ],
      "execution_count": 0,
      "outputs": []
    },
    {
      "cell_type": "markdown",
      "metadata": {
        "id": "zzBHX7OkOKLC",
        "colab_type": "text"
      },
      "source": [
        "### Numpy arrays e álgebra linear\n",
        "\n",
        "Em Machine Learning (ML) é essencial trabalharmos com álgebra linear, pois, as bibliotecas de ML fazem uso de extensas rotinas matemáticas, que sem álgebra linear dificilmente seriam resolvidas de forma eficiente. No caso do Python a numpy é certamente a biblioteca mais utilizada para álgebra linear. Bibliotecas de ML como a [scikit-learn](https://scikit-learn.org/stable/) implementam grande parte de seus algoritmos utilizando a numpy. Quando falamos sobre álgebra linear estamos interessados em um tipo de estrutura matemática chamada **matriz**. Vamos ver alguns conceitos de álgebra linear e depois veremos a relação com numpy arrays."
      ]
    },
    {
      "cell_type": "markdown",
      "metadata": {
        "id": "suzRPtbIKhDZ",
        "colab_type": "text"
      },
      "source": [
        "### Conceitos básicos de álgebra linear\n",
        "\n",
        "Nesta sessão são apresentadas algumas notações e conceitos básicos úteis para o entendimento dos algoritmos de Machine Learning. Primeiro, denotamos por $A \\in \\mathbb{R}^{m\\times n}$ uma matriz de $m$ linhas e $n$ colunas de números reais. Um elemento $i, j$ da matriz é acessado por suas coordenadas linha e coluna, isto é, $A_{i,j}$. Por exemplo, uma matriz $A$ de $4 \\times 8$: \n",
        "\n",
        "$$A=\\begin{bmatrix} 3 & 4 & 10 & 28 & 99 & 59 & 8 & 9\\\\ 8 & 4 & 6 & 45 & 6 & 9 & 0 & 3\\\\ 9 & 2 & 3 & 4 & 6 & 7 & 89 & 10\\\\ 9 & 5 & 45 & 7 & 8 & 10 & 23 & 6 \\end{bmatrix}$$\n",
        "\n",
        "Nesse exemplo, o elemento $A_{1,4}=28$. Também, denotamos por $x \\in \\mathbb{R}^n$ um vetor de $n$ elementos. Em matemática um vetor com $n$ elementos é normalmente definido como um vetor coluna com dimensão $n \\times 1$, também dizemos que um vetor é um vetor linha se ele tem dimensão $1\\times n$. Um dado elemento $i$ de um vetor qualquer $x$ é acessado por $x_i$. Por exemplo, um vetor linha $1\\times 5$ e um vetor coluna $5\\times 1$: \n",
        "\n",
        "$$b=\\begin{bmatrix} 50 & 70 & 30 & 7 & 10 \\end{bmatrix}, ~c=\\begin{bmatrix} 50 \\\\ 70 \\\\ 30 \\\\ 7 \\\\ 10 \\end{bmatrix}$$\n",
        "\n",
        "Para esses vetores, os elementos $b_2=70$ e $c_3=30$. Note que, por convenção os vetores são denotados por letras minúsculas enquanto as matrizes são denotadas por letras maiúsculas, outro fato importante é que vetores são um caso especial de matrizes que tem ou uma linha, ou uma coluna. Matrizes são interessantes para lidar com problemas de álgebra linear, pois, é possível desenvolver algoritmos eficientes utilizando essas estruturas. Além do mais, muitas linguagens como Python, MATLAB e R possuem implementações eficientes de operações com matrizes, portanto é muito importante estudar essa área. Dessa forma, vamos definir algumas operações com matrizes. A primeira delas é a adição: \n",
        "\n",
        "$$A+B=\\begin{bmatrix}3 & 7 \\\\ 10 & 3 \\\\ 4 & 8 \\end{bmatrix}+\\begin{bmatrix}5 & 6 \\\\ 8 & 3 \\\\ 0 & 9 \\end{bmatrix}=\\begin{bmatrix}8 & 13 \\\\ 18 & 6 \\\\ 4 & 17 \\end{bmatrix}$$\n",
        "\n",
        "Prosseguimos com a inversa da adição, a subtração: \n",
        "\n",
        "$$A-B=\\begin{bmatrix}3 & 7 \\\\ 10 & 3 \\\\ 4 & 8 \\end{bmatrix}-\\begin{bmatrix}5 & 6 \\\\ 8 & 3 \\\\ 0 & 9 \\end{bmatrix}=\\begin{bmatrix}-2 & 1 \\\\ 2 & 0 \\\\ 4 & -1 \\end{bmatrix}$$\n",
        "\n",
        "Note que somar ou subtrair matrizes só é possível dado que ambas tenham as mesmas dimensões. Também é possível fazer operações entre matrizes e escalares. Nesse caso, todos os elementos da matriz fazem operação com o escalar. Por exemplo, multiplicação escalar: \n",
        "\n",
        "$$100\\times C = 100\\times \\begin{bmatrix}5 & 6 \\\\ 8 & 3 \\\\ 0 & 9 \\end{bmatrix}=\\begin{bmatrix}500 & 600 \\\\ 800 & 300 \\\\ 0 & 900 \\end{bmatrix}$$\n",
        "\n",
        "Multiplicações de matrizes podem ser feitas de mais de uma forma. A mais comum é definida sobre duas matrizes, onde o número de colunas da primeira matriz deve ser igual ao de linhas da segunda, caso contrário a operação não existe. Nesse caso, a matriz resultante tem o mesmo número de linhas da primeira matriz e o mesmo número de colunas da segunda matriz. Considere por exemplo, a multiplicação de uma matriz e um vetor: \n",
        "\n",
        "$$Ab=\\begin{bmatrix}5 & 6 \\\\ 8 & 3 \\\\ 0 & 9 \\end{bmatrix}\\times \\begin{bmatrix}5 \\\\ 2\\end{bmatrix}=\\begin{bmatrix}(5\\times 5) + (6\\times 2) \\\\ (8\\times 5) + (3\\times 2) \\\\ (0\\times 5) + (9\\times 2) \\end{bmatrix}=\\begin{bmatrix} 37 \\\\ 46 \\\\ 18 \\end{bmatrix}$$\n",
        "\n",
        "A operação $Ab$ resulta em um vetor que é também chamada de combinação linear. Finalmente, outra operação importante é a transposição. Transpor uma matriz é trocar suas linhas pelas suas colunas. Se $A$ é uma matriz então sua transposta é $A^T$. Exemplo: \n",
        "\n",
        "$$A=\\begin{bmatrix}8 & 68 & 6 & 5 \\\\ 8 & 4 & 6 & 12 \\\\ 9 & 12 & 67 & 7 \\end{bmatrix},~~ A^T=\\begin{bmatrix} 8 & 8 & 9 \\\\ 68 & 4 & 12 \\\\ 6 & 6 & 67 \\\\ 5 & 12 & 7\\end{bmatrix}$$\n",
        "\n",
        "Existem muitas outras operações de matrizes, contudo o conteúdo que vamos abordar se limita ao que foi apresentado. Existe um [material](http://cs229.stanford.edu/section/cs229-linalg.pdf) excelente de álgebra linear disponibilizado na internet pelo professor Andrew Ng, contendo uma revisão aprofundada em outros conceitos de álgebra linear.\n"
      ]
    },
    {
      "cell_type": "markdown",
      "metadata": {
        "id": "VRu-cpFJPQcs",
        "colab_type": "text"
      },
      "source": [
        "### Matrizes e vetores com numpy arrays\n",
        "\n",
        "A relação entre os numpy arrays e matrizes e vetores de álgebra linear são diretas. Basta associarmos as listas com vetores e as listas aninhadas com matrizes. Pode surgir a dúvida de porque não usar as listas em vez dos arrays da numpy? A resposta é simples: **listas em Python não possuem operações matemáticas por default**, lembre-se do operador + que concatena e do operador * que repete a lista. Por exemplo, considere o seguinte vetor:\n",
        "$$x= \\begin{bmatrix}\n",
        "50\\\\\n",
        "70\\\\\n",
        "30\\\\\n",
        "7\\\\\n",
        "10\n",
        "\\end{bmatrix} $$\n",
        "\n",
        "Vamos criar uma lista que tem os valores de $x$ e em seguida passar para a numpy criar um array e pronto nós temos o nosso vetor:"
      ]
    },
    {
      "cell_type": "code",
      "metadata": {
        "id": "8tPXANmdQFv2",
        "colab_type": "code",
        "colab": {}
      },
      "source": [
        "# Lista de valores do vetor x\n",
        "listax = [50, 70, 30, 7, 10]\n",
        "\n",
        "# Criando um vetor com a numpy\n",
        "x = np.array(listax)\n",
        "\n",
        "# Agora temos um vetor implementado com a numpy\n",
        "print('Meu vetor é\\n', x)"
      ],
      "execution_count": 0,
      "outputs": []
    },
    {
      "cell_type": "markdown",
      "metadata": {
        "id": "u1P_8iLlQsuP",
        "colab_type": "text"
      },
      "source": [
        "A associação com as matrizes e as listas aninhadas segue a mesma regra. Suponha que temos a seguinte matriz:\n",
        "\n",
        "$$A=\\begin{bmatrix}8 & 68 & 6 & 5 \\\\ 8 & 4 & 6 & 12 \\\\ 9 & 12 & 67 & 7 \\end{bmatrix}$$\n",
        "\n",
        "Passando ela para uma lista aninhada e depois para um numpy array temos então nossa matriz:"
      ]
    },
    {
      "cell_type": "code",
      "metadata": {
        "id": "D-flUV9aTBsc",
        "colab_type": "code",
        "colab": {}
      },
      "source": [
        "# Lista aninhada de A\n",
        "listaA = [[8, 68, 6, 5],\n",
        "          [8, 4, 6, 12],\n",
        "          [9, 12, 67, 7]]\n",
        "\n",
        "# Criando uma matriz com a numpy\n",
        "A = np.array(listaA)\n",
        "\n",
        "# Agora temos uma matriz implementada com a numpy\n",
        "print('Minha matriz é\\n', A)"
      ],
      "execution_count": 0,
      "outputs": []
    },
    {
      "cell_type": "markdown",
      "metadata": {
        "id": "u3aUcwF6Tbw6",
        "colab_type": "text"
      },
      "source": [
        "Agora que sabemos como implementar matrizes e vetores com a numpy array, podemos utilizar operações de álbegra linear. Daqui para frente vamos nos referir como array numpy, quando for 1D estamos falando de um vetor e quando for 2D estamos falando de uma matriz. A lista e a lista aninhada são úteis para entender a relação entre as estruturas, porém, o código fica mais simples passando diretamente a estrutura para o numpy array, portanto vamos adotar esse comportamento a partir de agora."
      ]
    },
    {
      "cell_type": "markdown",
      "metadata": {
        "id": "F-yn-r5zTpdz",
        "colab_type": "text"
      },
      "source": [
        "### Operações entre arrays e escalares\n",
        "\n",
        "Operações entre arrays (matrizes e vetores) com escalares geralmente são implementadas via loops. Contudo, quando utilizamos bibliotecas de álgebra linear esperamos que essas operações sejam feitas sem uso de loops, esse comportamento é chamado de **vetorização**. Qualquer operação entre arrays numpy e escalares é uma operação elemento a elemento:"
      ]
    },
    {
      "cell_type": "code",
      "metadata": {
        "id": "ky_rTF1qVwEs",
        "colab_type": "code",
        "colab": {}
      },
      "source": [
        "# Criando um vetor com a numpy\n",
        "x = np.array([50, 70, 30, 7, 10])\n",
        "\n",
        "# Vamos dividir o vetor por algum valor\n",
        "valor = 6 #@param {type:\"number\"}\n",
        "\n",
        "# Operação de divisão de \n",
        "# um vetor por um escalar\n",
        "print(x / valor)"
      ],
      "execution_count": 0,
      "outputs": []
    },
    {
      "cell_type": "markdown",
      "metadata": {
        "id": "IefjRlqqWm4R",
        "colab_type": "text"
      },
      "source": [
        "Podemos fazer operações mais complexas como por exemplo elevar todo o array para algum expoente:"
      ]
    },
    {
      "cell_type": "code",
      "metadata": {
        "id": "dstH5RY7WyGe",
        "colab_type": "code",
        "colab": {}
      },
      "source": [
        "# Criando uma matriz com a numpy\n",
        "A = np.array([[8, 68, 6, 5],\n",
        "              [8, 4, 6, 12],\n",
        "              [9, 12, 67, 7]])\n",
        "\n",
        "# Vamos elevar a matriz por algum expoente\n",
        "expoente = 2 #@param {type:\"number\"}\n",
        "\n",
        "# Operação de potência \n",
        "# da matriz por um expoente\n",
        "print(A**expoente)"
      ],
      "execution_count": 0,
      "outputs": []
    },
    {
      "cell_type": "markdown",
      "metadata": {
        "id": "sLSoQZj3Xfgl",
        "colab_type": "text"
      },
      "source": [
        "E certamente as operações mais interessantes são entre arrays:"
      ]
    },
    {
      "cell_type": "code",
      "metadata": {
        "id": "pAnB1Vb1Xl6i",
        "colab_type": "code",
        "colab": {}
      },
      "source": [
        "# Um vetor e uma matriz\n",
        "A = np.array([[8, 68, 6, 5],\n",
        "              [8, 4, 6, 12],\n",
        "              [9, 12, 67, 7]])\n",
        "\n",
        "x = np.array([50, 70, 30, 7])\n",
        "\n",
        "# Transposição de A\n",
        "print('A transposição é feita pelo atributo T, ou seja, \\nAˆT=\\n', A.T)\n",
        "\n",
        "# Somando A com A (elemento a elemento)\n",
        "print('\\nA+A=\\n', A + A)\n",
        "\n",
        "# Subtraindo A com A (elemento a elemento)\n",
        "print('\\nA-A=\\n', A - A)\n",
        "\n",
        "# Multiplicando A por A (elemento a elemento)\n",
        "print('\\nA*A=\\n', A * A)\n",
        "\n",
        "# Dividindo A por A (elemento a elemento)\n",
        "print('\\nA/A=\\n', A / A)\n",
        "\n",
        "# Combinação linear entre A e x é feita pelo método dot\n",
        "print('\\nAx\\n', A.dot(x))\n",
        "\n",
        "# Fazendo a combinação linear de x com x\n",
        "print('\\nx^Tx=\\n', x.T.dot(x))"
      ],
      "execution_count": 0,
      "outputs": []
    },
    {
      "cell_type": "markdown",
      "metadata": {
        "id": "9aQFp0zJZ_cu",
        "colab_type": "text"
      },
      "source": [
        "### Índices e Slice\n",
        "\n",
        "Os arrays numpy permitem fazer operações de **índices** e **slicing**. Quando falamos de arrays 1D as operações de acesso a índices e de slicing são muito similares as de lista, utilizando o operador [ ]. Claramente os arrays numpy são **mutáveis**."
      ]
    },
    {
      "cell_type": "code",
      "metadata": {
        "id": "FSoyU19Zak6O",
        "colab_type": "code",
        "colab": {}
      },
      "source": [
        "# Criando um array 1D\n",
        "x = np.array([50, 70, 30, 7])\n",
        "\n",
        "# Acessando uma posição\n",
        "print('O primeiro elemento de x é', x[0])\n",
        "\n",
        "# Extraindo um subarray, parecido com sublista\n",
        "print('Os primeiros 3 elementos de x são', x[0:3])\n",
        "\n",
        "# Também suporta atribuição multipla\n",
        "x[0:3] = [7, 9, 100]\n",
        "print('Agora os primeiros 3 elementos de x são', x[0:3])"
      ],
      "execution_count": 0,
      "outputs": []
    },
    {
      "cell_type": "markdown",
      "metadata": {
        "id": "PwKXfHEDc4sO",
        "colab_type": "text"
      },
      "source": [
        "Uma diferença importante entre as listas e os arrays da numpy é que as operações de slicing não realizam cópias como no caso das listas. Esse comportamento é para evitar problemas de eficiência de memória."
      ]
    },
    {
      "cell_type": "code",
      "metadata": {
        "id": "OGwzn5GldHd3",
        "colab_type": "code",
        "colab": {}
      },
      "source": [
        "# Criando um array 1D\n",
        "x = np.array([50, 70, 30, 7])\n",
        "\n",
        "# Atribuindo uma referência aos valores de x\n",
        "y = x[0:2]\n",
        "print('Valores em y\\n', y)\n",
        "\n",
        "# Se alterarmos x y também será alterado\n",
        "x[0:2] = [29, 80]\n",
        "print('\\nValores em y alterados\\n', y)"
      ],
      "execution_count": 0,
      "outputs": []
    },
    {
      "cell_type": "markdown",
      "metadata": {
        "id": "lTL_wbGydecK",
        "colab_type": "text"
      },
      "source": [
        "Se você realmente quer copiar os valores entre os arrays, você pode fazer uso do método **copy()**."
      ]
    },
    {
      "cell_type": "code",
      "metadata": {
        "id": "Dtpy51jvdpQ_",
        "colab_type": "code",
        "colab": {}
      },
      "source": [
        "# Criando um array 1D\n",
        "x = np.array([50, 70, 30, 7])\n",
        "\n",
        "# Agora x será copiado para y\n",
        "y = x[0:2].copy()\n",
        "print('Valores em y\\n', y)\n",
        "\n",
        "# Se alterarmos x y também será alterado\n",
        "x[0:2] = [29, 80]\n",
        "print('\\nValores em y não são alterados\\n', y)"
      ],
      "execution_count": 0,
      "outputs": []
    },
    {
      "cell_type": "markdown",
      "metadata": {
        "id": "v4BFG4ibfS-v",
        "colab_type": "text"
      },
      "source": [
        "Quando se trata de arrays 2D as indexações e slicing são um pouco diferentes e igualmente mais poderosas. Continuamos com o uso dos colchetes [ ], mas agora podemos usar os : em ambas as dimensões (também chamados de eixos, ou **axis**), o que vai significar que podemos obter slicing de linhas e de colunas."
      ]
    },
    {
      "cell_type": "code",
      "metadata": {
        "id": "HkgXvPDBg_Z2",
        "colab_type": "code",
        "colab": {}
      },
      "source": [
        "# Um array 2D\n",
        "A = np.array([[8, 68, 6],\n",
        "              [8, 4, 6],\n",
        "              [9, 12, 67]])\n",
        "\n",
        "# Podemos acessar as posições com apenas um colchete []\n",
        "# ou com dois colchetes [][] essas operações são equivalentes em 2D\n",
        "print('O primeiro valor de A é', A[0,0])\n",
        "print('O primeiro valor de A é', A[0][0])"
      ],
      "execution_count": 0,
      "outputs": []
    },
    {
      "cell_type": "markdown",
      "metadata": {
        "id": "X4Xix1quhnEl",
        "colab_type": "text"
      },
      "source": [
        "Para termos em mente o que ocorre quando acessamos as posições de um array 2D da numpy, podemos fazer uma figura representando as posições na memória do array:\n",
        "\n",
        "<p align=\"center\">\n",
        "    <img width=270px src=\"https://i.imgur.com/x76KKku.jpg\"/>\n",
        "</p>\n",
        "<center><b>Fig-1.</b> Exemplo de um array numpy 2D com 3 linhas e 3 colunas na memória.</center>\n",
        "\n",
        "Se passarmos apenas um índice para o array 2D ele vai retornar uma linha do array, se passarmos um intervalo ele vai retornar multiplas linhas. Por exemplo, retornar a primeira linha do array:"
      ]
    },
    {
      "cell_type": "code",
      "metadata": {
        "id": "AdEKRjowi8jU",
        "colab_type": "code",
        "colab": {}
      },
      "source": [
        "# Um array qualquer\n",
        "A = np.array([[8, 68, 6],\n",
        "              [8, 4, 6],\n",
        "              [9, 12, 67]])\n",
        "\n",
        "# Acessando a primeira linha de duas formas equivalentes\n",
        "print('Primeira linha de A é', A[0])\n",
        "print('Primeira linha de A é', A[0, :])"
      ],
      "execution_count": 0,
      "outputs": []
    },
    {
      "cell_type": "markdown",
      "metadata": {
        "id": "VMXO1vGTjii5",
        "colab_type": "text"
      },
      "source": [
        "A segunda operação $A[0, :]$ indica para a numpy que ela deve retornar a primeira linha (ou seja, linha 0) e todas as colunas (ou seja, operador :). Claro que isso é útil para pegarmos intervalos e não apenas a primeira linha. Por exemplo, fazendo slicing em linhas:"
      ]
    },
    {
      "cell_type": "code",
      "metadata": {
        "id": "dc_bNP1hkEih",
        "colab_type": "code",
        "colab": {}
      },
      "source": [
        "# Um array qualquer\n",
        "A = np.array([[8, 68, 6],\n",
        "              [8, 4, 6],\n",
        "              [9, 12, 67]])\n",
        "\n",
        "# Pegar as duas primeiras linhas e todas as suas colunas\n",
        "print('As duas primeiras linhas são \\n', A[0:2, :])"
      ],
      "execution_count": 0,
      "outputs": []
    },
    {
      "cell_type": "markdown",
      "metadata": {
        "id": "9C6E1klDkT9w",
        "colab_type": "text"
      },
      "source": [
        "Podemos fazer também o slicing em colunas:"
      ]
    },
    {
      "cell_type": "code",
      "metadata": {
        "id": "xcb3nA4nkWiV",
        "colab_type": "code",
        "colab": {}
      },
      "source": [
        "# Um array qualquer\n",
        "A = np.array([[8, 68, 6],\n",
        "              [8, 4, 6],\n",
        "              [9, 12, 67]])\n",
        "\n",
        "# Pegar todas as linhas e as 2 primeiras colunas\n",
        "print('As duas primeiras colunas são \\n', A[:, 0:2])"
      ],
      "execution_count": 0,
      "outputs": []
    },
    {
      "cell_type": "markdown",
      "metadata": {
        "id": "NHEhe4_Ekfp6",
        "colab_type": "text"
      },
      "source": [
        "Podemos combinar em ambas as dimensões:"
      ]
    },
    {
      "cell_type": "code",
      "metadata": {
        "id": "xXjTjNlDkkaz",
        "colab_type": "code",
        "colab": {}
      },
      "source": [
        "# Um array qualquer\n",
        "A = np.array([[8, 68, 6],\n",
        "              [8, 4, 6],\n",
        "              [9, 12, 67]])\n",
        "\n",
        "# Pegar todas as 2 primeiras linhas e colunas\n",
        "print('As duas linhas/colunas são \\n', A[0:2, 0:2])"
      ],
      "execution_count": 0,
      "outputs": []
    },
    {
      "cell_type": "markdown",
      "metadata": {
        "id": "5Oidxgbdkv7L",
        "colab_type": "text"
      },
      "source": [
        "Os slicings também suportam índices negativos como nas listas:"
      ]
    },
    {
      "cell_type": "code",
      "metadata": {
        "id": "gDFMhljTk3Zs",
        "colab_type": "code",
        "colab": {}
      },
      "source": [
        "# Um array qualquer\n",
        "A = np.array([[8, 68, 6],\n",
        "              [8, 4, 6],\n",
        "              [9, 12, 67]])\n",
        "\n",
        "# Pegar todas as linhas da última coluna\n",
        "print('A última coluna é \\n', A[:, -1])"
      ],
      "execution_count": 0,
      "outputs": []
    },
    {
      "cell_type": "markdown",
      "metadata": {
        "id": "jOkrDoqumCAS",
        "colab_type": "text"
      },
      "source": [
        "### Métodos úteis\n",
        "\n",
        "Vamos considerar a aplicação desses métodos em arrays 2D, pois, em 1D é muito similar considerando que temos apenas uma dimensão (eixo). A numpy fornece alguns métodos muito úteis para estatística e algumas outras operações. Por exemplo é fácil calcular a média de um array a partir do método **mean()**:"
      ]
    },
    {
      "cell_type": "code",
      "metadata": {
        "id": "xRUtWu8emb3g",
        "colab_type": "code",
        "colab": {}
      },
      "source": [
        "# Um array 2D\n",
        "A = np.array([[8, 68, 6],\n",
        "              [8, 4, 6],\n",
        "              [9, 12, 67]])\n",
        "\n",
        "# Calculando a média de A\n",
        "print('A média de A é', A.mean())"
      ],
      "execution_count": 0,
      "outputs": []
    },
    {
      "cell_type": "markdown",
      "metadata": {
        "id": "i0JEiNdaxnO3",
        "colab_type": "text"
      },
      "source": [
        "Outro método útil é para calcular o desvio padrão, pelo método **std()**:"
      ]
    },
    {
      "cell_type": "code",
      "metadata": {
        "id": "C9ekz5oOxwzP",
        "colab_type": "code",
        "colab": {}
      },
      "source": [
        "# Um array 2D\n",
        "A = np.array([[8, 68, 6],\n",
        "              [8, 4, 6],\n",
        "              [9, 12, 67]])\n",
        "\n",
        "# Calculando o desvio padrão de A\n",
        "print('A desvio padrão de A é', A.std())"
      ],
      "execution_count": 0,
      "outputs": []
    },
    {
      "cell_type": "markdown",
      "metadata": {
        "id": "pRwBHQ9bx5EV",
        "colab_type": "text"
      },
      "source": [
        "Podemos calcular também a soma dos elementos com **sum()**:"
      ]
    },
    {
      "cell_type": "code",
      "metadata": {
        "id": "PyFampdMx4TT",
        "colab_type": "code",
        "colab": {}
      },
      "source": [
        "# Um array 2D\n",
        "A = np.array([[8, 68, 6],\n",
        "              [8, 4, 6],\n",
        "              [9, 12, 67]])\n",
        "\n",
        "# Calculando o desvio padrão de A\n",
        "print('A soma dos elementos de A é', A.sum())"
      ],
      "execution_count": 0,
      "outputs": []
    },
    {
      "cell_type": "markdown",
      "metadata": {
        "id": "3lMl6FZDygAT",
        "colab_type": "text"
      },
      "source": [
        "Podemos também encontrar o mínimo e o máximo com **min()** e **max()**:"
      ]
    },
    {
      "cell_type": "code",
      "metadata": {
        "id": "6dXeklR6y4Hw",
        "colab_type": "code",
        "colab": {}
      },
      "source": [
        "# Um array 2D\n",
        "A = np.array([[8, 68, 6],\n",
        "              [8, 4, 6],\n",
        "              [9, 12, 67]])\n",
        "\n",
        "# Encontrando o mínimo\n",
        "print('O menor elemento de A é', A.min())\n",
        "# Encontrando o máximo\n",
        "print('O maior elemento de A é', A.max())"
      ],
      "execution_count": 0,
      "outputs": []
    },
    {
      "cell_type": "markdown",
      "metadata": {
        "id": "Ngs04mMGzDL-",
        "colab_type": "text"
      },
      "source": [
        "O mais interessante é que, essas operações podem ser aplicadas sobre os eixos do array. Por exemplo, é possível calcular a média do array por linha ou por coluna passando a opção **axis**:"
      ]
    },
    {
      "cell_type": "code",
      "metadata": {
        "id": "3Bdt8dgNzXHq",
        "colab_type": "code",
        "colab": {}
      },
      "source": [
        "# Um array 2D\n",
        "A = np.array([[8, 68, 6],\n",
        "              [8, 4, 6],\n",
        "              [9, 12, 67]])\n",
        "\n",
        "# Computa a média por coluna de A\n",
        "print('A média por coluna é', A.mean(axis=0))\n",
        "\n",
        "# Computa a média por linha de A\n",
        "print('A média por linha é', A.mean(axis=1))"
      ],
      "execution_count": 0,
      "outputs": []
    },
    {
      "cell_type": "markdown",
      "metadata": {
        "id": "ASKszuMCz4UF",
        "colab_type": "text"
      },
      "source": [
        "### Salvando um array numpy\n",
        "\n",
        "Vamos utilizar na maioria dos casos uma biblioteca como o **pandas** para leitura de dados. Contudo, é comum nós salvarmos os arrays numpy separadamente, pois, os modelos de ML geralmente fornecem arrays de **pesos**. Para salvar um array numpy é muito simples, basta usar o método **np.savetxt**, que apesar do nome salva em outros formatos além do txt. O **np.savetxt** recebe como primeiro argumento o nome do arquivo, o segundo ele recebe o array e se necessário um delimitador no parâmetro default **delimiter**:"
      ]
    },
    {
      "cell_type": "code",
      "metadata": {
        "id": "kss9MhFz0hcK",
        "colab_type": "code",
        "colab": {}
      },
      "source": [
        "# Um array 2D\n",
        "A = np.array([[8, 68, 6],\n",
        "              [8, 4, 6],\n",
        "              [9, 12, 67]])\n",
        "\n",
        "# Salvando A\n",
        "np.savetxt(\"A.csv\", A, delimiter=\",\")"
      ],
      "execution_count": 0,
      "outputs": []
    },
    {
      "cell_type": "markdown",
      "metadata": {
        "id": "XFBMTMHx1HSI",
        "colab_type": "text"
      },
      "source": [
        "Para carregar podemos usar o pandas (veremos mais a frente) e a própria numpy fornece o método **np.loadtxt**. O método **np.loadtxt** recebe como primeiro argumento o nome do arquivo como extensão e geralmente recebe o parâmetro **delimiter**. É importante frisar que o delimiter deve ser o **mesmo que foi utilizado para salvar o arquivo**, caso contrário vai ocasionar um erro."
      ]
    },
    {
      "cell_type": "code",
      "metadata": {
        "id": "wWI9smX21PZl",
        "colab_type": "code",
        "colab": {}
      },
      "source": [
        "# Carregando um array do arquivo A.csv\n",
        "B = np.loadtxt('A.csv', delimiter=',')\n",
        "\n",
        "# A matriz foi carregada\n",
        "print('Array carregado de A.csv\\n', B)"
      ],
      "execution_count": 0,
      "outputs": []
    },
    {
      "cell_type": "markdown",
      "metadata": {
        "id": "FNzf-9FN2FTk",
        "colab_type": "text"
      },
      "source": [
        "Mude os delimitadores para '\\t' e ';' e veja o que acontece ao tentar carregar com o ',':"
      ]
    },
    {
      "cell_type": "code",
      "metadata": {
        "id": "_8Wucj4X2NBf",
        "colab_type": "code",
        "colab": {}
      },
      "source": [
        "# Escreva aqui\n"
      ],
      "execution_count": 0,
      "outputs": []
    },
    {
      "cell_type": "markdown",
      "metadata": {
        "id": "eSScSKNP2OfB",
        "colab_type": "text"
      },
      "source": [
        "O que é interessante de usar numpy arrays é que podemos implementar de forma direta muitas equações matemáticas de álgebra linear e principalmente as de ML. Considere por exemplo a seguinte equação:\n",
        "\n",
        "$$ Z = \\frac{X-\\min(X)}{\\max(X)-\\min(X)} $$\n",
        "\n",
        "onde, $ \\max(X) $ é o vetor de máximos do eixo 0 e $ \\min(X) $ é o vetor de mínimos do eixo 0. Esse método é chamado na literatura de normalização **maxmin** e é usado como pré-processamento nos modelos de ML. Para implementar com a numpy é muito simples:"
      ]
    },
    {
      "cell_type": "code",
      "metadata": {
        "id": "QvKyYQEq4Qjr",
        "colab_type": "code",
        "colab": {}
      },
      "source": [
        "# Um array 2D\n",
        "A = np.array([[8, 68, 6],\n",
        "              [8, 4, 6],\n",
        "              [9, 12, 67]])\n",
        "\n",
        "# Normalização maxmin\n",
        "Z = (A-A.min(axis=0))/(A.max(axis=0)-A.min(axis=0))\n",
        "\n",
        "# Imprimindo X normalizado por maxmin\n",
        "print('O array X normalizado por maxmin é\\n', Z)"
      ],
      "execution_count": 0,
      "outputs": []
    },
    {
      "cell_type": "markdown",
      "metadata": {
        "id": "PtcgVsC25dgc",
        "colab_type": "text"
      },
      "source": [
        "### Exercícios\n",
        "\n",
        "Considere as seguintes matrizes / vetores:\n",
        "$$ X = \\begin{bmatrix}\n",
        "1 & 34.62365962 & 78.02469282\\\\\n",
        "1 & 30.28671077 & 43.89499752\\\\\n",
        "1 & 35.84740877 & 72.90219803\\\\\n",
        "1 & 60.18259939 & 86.3085521 \\\\\n",
        "1 & 79.03273605 & 75.34437644\\\\\n",
        "\\end{bmatrix}, Y=\\begin{bmatrix}\n",
        "0\\\\\n",
        "0\\\\\n",
        "0\\\\\n",
        "1\\\\\n",
        "1\\\\\n",
        "\\end{bmatrix}, \\theta = \\begin{bmatrix}-0.04730813\\\\  0.21502388\\\\  0.11895605\\\\\\end{bmatrix} $$\n",
        "\n",
        "**Ex1.** Crie numpy arrays para representar todas as estruturas acima."
      ]
    },
    {
      "cell_type": "code",
      "metadata": {
        "id": "PFLHqRJn7K5C",
        "colab_type": "code",
        "colab": {}
      },
      "source": [
        "# Escreva aqui\n"
      ],
      "execution_count": 0,
      "outputs": []
    },
    {
      "cell_type": "markdown",
      "metadata": {
        "id": "UPttA7268YJw",
        "colab_type": "text"
      },
      "source": [
        "**Ex2.** Implemente a operação $ X\\theta $."
      ]
    },
    {
      "cell_type": "code",
      "metadata": {
        "id": "6W0rCA1S8lDL",
        "colab_type": "code",
        "colab": {}
      },
      "source": [
        "# Escreva aqui\n",
        ")"
      ],
      "execution_count": 0,
      "outputs": []
    },
    {
      "cell_type": "markdown",
      "metadata": {
        "id": "SYRJf1rP8mzu",
        "colab_type": "text"
      },
      "source": [
        "**Ex3.** Implemente as seguintes operações: \n",
        "\n",
        "$X\\theta - Y$ <br>\n",
        "$X\\theta + Y$ <br>\n",
        "$X\\theta * Y$ <br>\n",
        "$X\\theta ~/~ Y$"
      ]
    },
    {
      "cell_type": "code",
      "metadata": {
        "id": "JL-wfydt9LTe",
        "colab_type": "code",
        "colab": {}
      },
      "source": [
        "# Escreva aqui\n"
      ],
      "execution_count": 0,
      "outputs": []
    },
    {
      "cell_type": "markdown",
      "metadata": {
        "id": "frAE9L-a9OSP",
        "colab_type": "text"
      },
      "source": [
        "**Ex4.** Implemente a seguinte operação: \n",
        "\n",
        "$$c = \\frac{1}{2m} (X\\theta-Y)^T(X\\theta-Y) $$\n",
        "\n",
        "onde $m$ é o número de linhas de $X$."
      ]
    },
    {
      "cell_type": "code",
      "metadata": {
        "id": "VhMAejDs-E43",
        "colab_type": "code",
        "colab": {}
      },
      "source": [
        "# Escreva aqui\n"
      ],
      "execution_count": 0,
      "outputs": []
    },
    {
      "cell_type": "markdown",
      "metadata": {
        "id": "KzSRej4P-ZP_",
        "colab_type": "text"
      },
      "source": [
        "**Ex5.** Implemente a seguinte operação: \n",
        "\n",
        "$$d = \\frac{1}{m}(X\\theta-Y)(X) $$ \n",
        "\n",
        "onde $m$ é o número de linhas de $X$."
      ]
    },
    {
      "cell_type": "code",
      "metadata": {
        "id": "Vh9jyfHO-5o-",
        "colab_type": "code",
        "colab": {}
      },
      "source": [
        "# Escreva aqui\n"
      ],
      "execution_count": 0,
      "outputs": []
    },
    {
      "cell_type": "markdown",
      "metadata": {
        "id": "ZdMXPmTX_eBG",
        "colab_type": "text"
      },
      "source": [
        "**Ex6.** Acima nós falamos de uma aplicação de numpy arrays chamada de normalização. Especificamente falamos sobre o maxmin. Existe uma outra chamada de zscore que é utilizada para normalizar dados e em outras aplições também. A normalização zscore é definida da seguinte forma:\n",
        "\n",
        "$$ Z = \\frac{X-\\mu(X)}{\\sigma(X)} $$\n",
        "\n",
        "onde, $ \\mu(X) $ é o vetor de média do eixo 0 e $ \\sigma(X) $ é o vetor de desvio padrão do eixo 0. Implemente uma função chamada **zscore** que recebe um numpy array 2D chamado $X$ e retorna o valor normalizado pela equação acima."
      ]
    },
    {
      "cell_type": "code",
      "metadata": {
        "id": "V2LmOHs8AMCv",
        "colab_type": "code",
        "colab": {}
      },
      "source": [
        "# Escreva aqui\n"
      ],
      "execution_count": 0,
      "outputs": []
    },
    {
      "cell_type": "markdown",
      "metadata": {
        "id": "G-zK-9d2A05a",
        "colab_type": "text"
      },
      "source": [
        "### Pandas\n",
        "\n",
        "O [pandas](https://pandas.pydata.org/pandas-docs/stable/) é uma biblioteca Python muito utilizada para leitura e manipulação de dados provenientes de arquivos de texto (csv, xls, txt). Além disso, ela possuí diversos métodos para filtrar dados, selecionar dados, juntar dados e muitos outros. Nosso foco da aula será na leitura e filtragem de dados. Para manipular os arquivos precisamos subir eles para o google colab. Uma das formas é utilizando **files.upload()** que vai abrir uma janela convencional e solicitar os arquivos."
      ]
    },
    {
      "cell_type": "code",
      "metadata": {
        "id": "W1yIHwXrC2_j",
        "colab_type": "code",
        "colab": {}
      },
      "source": [
        "# Carregando arquivo via upload para o colab\n",
        "upload = files.upload()"
      ],
      "execution_count": 0,
      "outputs": []
    },
    {
      "cell_type": "markdown",
      "metadata": {
        "id": "5axmLPdnD54j",
        "colab_type": "text"
      },
      "source": [
        "Agora podemos carregar nossos dados utilizando o método **pd.read_csv**, que recebe como primeiro parâmetro o nome do arquivo com extensão, e os parâmetros opcionais **sep** que especifica um separador e **header** que indica se existe ou não header no arquivo (por default ele considera que existe, para ignorar deve-se passar **header=None**)."
      ]
    },
    {
      "cell_type": "code",
      "metadata": {
        "id": "F68Ca_Z7DY99",
        "colab_type": "code",
        "colab": {}
      },
      "source": [
        "# Lendo um arquivo com pandas\n",
        "dados1 = pd.read_csv('data1.csv', sep=',')\n",
        "dados1"
      ],
      "execution_count": 0,
      "outputs": []
    },
    {
      "cell_type": "markdown",
      "metadata": {
        "id": "fS6d-K6DE2mE",
        "colab_type": "text"
      },
      "source": [
        "Quando chamamos dados1 acima ele apresenta uma tabela bem amigável com os dados carregados. Internamente os dados estão armazenados como arrays numpy. Muitas vezes temos uma quantidade absurda de dados e não é possível imprimir todos eles no terminal. Dessa forma, existe um método chamado **head()** que recebe como parâmetro o número de linhas que deve ser impresso:"
      ]
    },
    {
      "cell_type": "code",
      "metadata": {
        "id": "ZFKTq_9wFRJR",
        "colab_type": "code",
        "colab": {}
      },
      "source": [
        "# Imprime as três primeiras linhas de dados1\n",
        "dados1.head(3)"
      ],
      "execution_count": 0,
      "outputs": []
    },
    {
      "cell_type": "markdown",
      "metadata": {
        "id": "B96BOPz0FW2T",
        "colab_type": "text"
      },
      "source": [
        "Algumas vezes é interessante extrair informações estatísticas dos nossos dados, no pandas existe o método **describe()** que apresenta uma estatística resumida dos dados:"
      ]
    },
    {
      "cell_type": "code",
      "metadata": {
        "id": "vxhGWqt-Fmqc",
        "colab_type": "code",
        "colab": {}
      },
      "source": [
        "# Apresentando algumas estatísticas dos nossos dados\n",
        "dados1.describe()"
      ],
      "execution_count": 0,
      "outputs": []
    },
    {
      "cell_type": "markdown",
      "metadata": {
        "id": "lXJVGfhdJ1Ot",
        "colab_type": "text"
      },
      "source": [
        "Quando informamos um **header** para os nosso dados é possível utilizar a chave como índice das colunas (similar ao funcionamento de um dicionário em Python)"
      ]
    },
    {
      "cell_type": "code",
      "metadata": {
        "id": "s1wcWhe4KBb-",
        "colab_type": "code",
        "colab": {}
      },
      "source": [
        "# Pegando os dados da coluna faltas\n",
        "dados1['Faltas']"
      ],
      "execution_count": 0,
      "outputs": []
    },
    {
      "cell_type": "markdown",
      "metadata": {
        "id": "LnG7d377KUA8",
        "colab_type": "text"
      },
      "source": [
        "Para obter a lista de colunas atuais do nosso objeto pandas existe o atributo **columns**, mais uma vez é similar aos dicionários em Python (provavelmente é implementado assim)."
      ]
    },
    {
      "cell_type": "code",
      "metadata": {
        "id": "oCAIRbENKfmt",
        "colab_type": "code",
        "colab": {}
      },
      "source": [
        "# Lista de colunas\n",
        "print('As colunas do meu objeto pandas são', dados1.columns)"
      ],
      "execution_count": 0,
      "outputs": []
    },
    {
      "cell_type": "markdown",
      "metadata": {
        "id": "PvkTTODgK9F5",
        "colab_type": "text"
      },
      "source": [
        "Estamos usando o nome objeto pandas, isso porque internamente o que temos é uma classe chamada DataFrame que contém os métodos que estamos utilizando, porém não vamos ver orientação a objetos nessa aula, portanto vamos manter o nome objeto pandas. O pandas permite ordenar os dados utilizando alguma coluna como referência, podemos fazer isso a partir do método **sort_values** passando na opção **by** o nome da coluna."
      ]
    },
    {
      "cell_type": "code",
      "metadata": {
        "id": "8j6kxXbwP_el",
        "colab_type": "code",
        "colab": {}
      },
      "source": [
        "# Ordenando nossos dados pela coluna Aluno\n",
        "dados1.sort_values(by='Aluno')"
      ],
      "execution_count": 0,
      "outputs": []
    },
    {
      "cell_type": "markdown",
      "metadata": {
        "id": "RcAf-17BQScL",
        "colab_type": "text"
      },
      "source": [
        "No nosso exemplo acima, os dados foram ordenados a partir da coluna Aluno. Esse comportamento é similar ao **order_by** muito utilizado em bancos de dados **Sql**. Outro comando útil é o **unique()** que serve para retornar os valores exclusivos de uma dada coluna do objeto pandas."
      ]
    },
    {
      "cell_type": "code",
      "metadata": {
        "id": "z0TM4ctQWH8M",
        "colab_type": "code",
        "colab": {}
      },
      "source": [
        "# Por exemplo na seminários temos valores entre 7.5 e 9.0 \n",
        "# os valores únicos seriam aqueles sem repetição, isto é,\n",
        "# 7.5, 8, 8.5, 9\n",
        "dados1['Seminário'].unique()"
      ],
      "execution_count": 0,
      "outputs": []
    },
    {
      "cell_type": "markdown",
      "metadata": {
        "id": "1NwFFPKigFx1",
        "colab_type": "text"
      },
      "source": [
        "Podemos também utilizar o comando **len** que vai retornar a quantidade de itens (ou linhas, ou registros) do nosso objeto pandas."
      ]
    },
    {
      "cell_type": "code",
      "metadata": {
        "id": "yZBFKYCSgOdo",
        "colab_type": "code",
        "colab": {}
      },
      "source": [
        "# Pegando o número de linhas (ou comprimento)\n",
        "# do nosso objeto pandas\n",
        "print('Nós temos %d registros' % len(dados1))"
      ],
      "execution_count": 0,
      "outputs": []
    },
    {
      "cell_type": "markdown",
      "metadata": {
        "id": "o7QQHuHRWHKW",
        "colab_type": "text"
      },
      "source": [
        "### Comando iloc\n",
        "\n",
        "E se quissermos selecionar linhas ao invés de colunas? Podemos fazer uso do método iloc. O método iloc funciona como os arrays 2D da numpy, podemos selecionar por linhas, colunas ou por slicing. Uma coisa importante é que o iloc suporta apenas números como índices (similar  a uma lista em Python)."
      ]
    },
    {
      "cell_type": "code",
      "metadata": {
        "id": "SGeSIXk6SuLh",
        "colab_type": "code",
        "colab": {}
      },
      "source": [
        "# Primeiro aluno da tabela\n",
        "print('O primeiro aluno é\\n')\n",
        "print(dados1.iloc[0, :])\n",
        "\n",
        "# Último aluno da tabela\n",
        "print('\\nO último aluno é\\n')\n",
        "print(dados1.iloc[-1, :])\n",
        "\n",
        "# Dois primeiros alunos\n",
        "print('Os dois primeiros alunos são\\n')\n",
        "dados1.iloc[0:2, :]"
      ],
      "execution_count": 0,
      "outputs": []
    },
    {
      "cell_type": "markdown",
      "metadata": {
        "id": "gzOA5vGWYxAt",
        "colab_type": "text"
      },
      "source": [
        "O comando **iloc** é bem simples mas versátil quando precisamos filtrar os dados por índices numéricos. Contudo, geralmente queremos utilizar condições ou mesmo chaves que representam strings (similar aos dicionários), nesse caso temos o comando **loc**."
      ]
    },
    {
      "cell_type": "markdown",
      "metadata": {
        "id": "OEO8RJXnU_vx",
        "colab_type": "text"
      },
      "source": [
        "### Comando loc\n",
        "\n",
        "O irmão mais velho do iloc é o loc. No loc é possível usar strings para obter linhas, como fazemos com os headers das colunas. Além do mais podemos usar condições. Vale ressaltar que, ele também suporta as operações do iloc. Vejamos um exemplo do loc utilizando uma chave do tipo string."
      ]
    },
    {
      "cell_type": "code",
      "metadata": {
        "id": "Dh3FHcTSZzSj",
        "colab_type": "code",
        "colab": {}
      },
      "source": [
        "# Precisamos dizer ao pandas o que ele deve utilizar como índice para o loc\n",
        "dados2 = dados1.set_index('Aluno')\n",
        "\n",
        "# Pegando o usuário com nome Alberto\n",
        "dados2.loc['Alberto']"
      ],
      "execution_count": 0,
      "outputs": []
    },
    {
      "cell_type": "markdown",
      "metadata": {
        "id": "BblsH6vSblEk",
        "colab_type": "text"
      },
      "source": [
        "Note que, no nosso exemplo acima, tivemos que atribuir a chamada de set_index novamente para dados1, isso ocorre porque essa operação não altera o dados1 e sim retorna um novo dataframe com o resultado do filtro. Isso ocorre porque muitos filtros são interessantes para obter dados sem alterar o objeto original. Também é possível passar uma lista de chaves (no nosso caso Aluno) para filtrar os dados:"
      ]
    },
    {
      "cell_type": "code",
      "metadata": {
        "id": "wYJ6064kcMTm",
        "colab_type": "code",
        "colab": {}
      },
      "source": [
        "# Pegando os Alunos com nomes Alberto e Joaquim\n",
        "dados2.loc[['Alberto', 'Joaquim']]"
      ],
      "execution_count": 0,
      "outputs": []
    },
    {
      "cell_type": "markdown",
      "metadata": {
        "id": "HcIMawSvcpAP",
        "colab_type": "text"
      },
      "source": [
        "Também podemos fazer combinações mais complexas como filtrar as colunas (nesse caso obrigatóriamente utilizando strings)"
      ]
    },
    {
      "cell_type": "code",
      "metadata": {
        "id": "mK--zL8IcznB",
        "colab_type": "code",
        "colab": {}
      },
      "source": [
        "# Pegando os dados de Faltas dos Alunos com nome Alberto e Joaquim\n",
        "dados2.loc[['Alberto', 'Joaquim'], 'Faltas']"
      ],
      "execution_count": 0,
      "outputs": []
    },
    {
      "cell_type": "markdown",
      "metadata": {
        "id": "9azWkn-VdYbC",
        "colab_type": "text"
      },
      "source": [
        "E agora vem um dos recursos mais fantásticos do loc! Podemos utilizar operadores condicionais e lógicos para filtrar os dados. Por exemplo, suponha que queremos apenas os alunos com falta maior que dois."
      ]
    },
    {
      "cell_type": "code",
      "metadata": {
        "id": "Rke1ESRDd8ml",
        "colab_type": "code",
        "colab": {}
      },
      "source": [
        "# Pegando os alunos com falta > 2\n",
        "dados2.loc[dados2['Faltas'] > 2, :]"
      ],
      "execution_count": 0,
      "outputs": []
    },
    {
      "cell_type": "markdown",
      "metadata": {
        "id": "WdEXmWqih7nk",
        "colab_type": "text"
      },
      "source": [
        "Operações de seleção mais complexas são possíveis. Por exemplo, retornar todos os alunos que tiveram Prova > 5 e Seminários > 7.5"
      ]
    },
    {
      "cell_type": "code",
      "metadata": {
        "id": "_IGvZZbHiJbU",
        "colab_type": "code",
        "colab": {}
      },
      "source": [
        "# Pegando os alunos com Prova > 5 e Seminário > 7.5 \n",
        "dados2.loc[(dados2['Prova'] > 5) & (dados2['Seminário'] > 7.5)]"
      ],
      "execution_count": 0,
      "outputs": []
    },
    {
      "cell_type": "markdown",
      "metadata": {
        "id": "uyfltCHweY_d",
        "colab_type": "text"
      },
      "source": [
        "O operador loc também suporta atribuição por slicing e pelas condicionais. Tome cuidado com essa operação, pois, ela vai alterar o conteúdo do objeto. Por exemplo, digamos que queremos adicionar um ponto aos alunos que tem falta menor que 3. "
      ]
    },
    {
      "cell_type": "code",
      "metadata": {
        "id": "SAqFgdrfeqPt",
        "colab_type": "code",
        "colab": {}
      },
      "source": [
        "# Cuidado a linha abaixo altera o conteúdo!\n",
        "dados2.loc[dados2['Faltas'] < 3, ['Prova']] += 1\n",
        "dados2"
      ],
      "execution_count": 0,
      "outputs": []
    },
    {
      "cell_type": "markdown",
      "metadata": {
        "id": "hzaWhOHvj7Ce",
        "colab_type": "text"
      },
      "source": [
        "### Método values\n",
        "\n",
        "O pandas também tem por padrão um método values que retorna um objeto numpy contendo os dados (ou por um filtro ou direto do próprio objeto). Por exemplo, vamos retornar os dados de Faltas e Seminário."
      ]
    },
    {
      "cell_type": "code",
      "metadata": {
        "id": "ks_g6R4TkfYh",
        "colab_type": "code",
        "colab": {}
      },
      "source": [
        "# Colocando os dados de Faltas e Seminários do pandas em um array numpy\n",
        "dados = dados1[['Faltas', 'Seminário']].values\n",
        "print('Agora tenho um numpy array 2D com os dados de Faltas e Seminário\\n', dados)"
      ],
      "execution_count": 0,
      "outputs": []
    },
    {
      "cell_type": "markdown",
      "metadata": {
        "id": "BszAfutMlC7a",
        "colab_type": "text"
      },
      "source": [
        "Normalmente o ciclo de trabalho entre a pandas e a numpy segue o que vimos aqui. Carregamos os dados via **pandas**, aplicamos algum filtro necessário e então passamos através de **values** para um array **numpy**, depois disso podemos aplicar Machine Learning em nossos dados. Claro que existem muitos outros recursos do **pandas** bem como da **numpy**, mas para as aplicações gerais de ML o que vimos na aula é mais do que suficiente."
      ]
    },
    {
      "cell_type": "markdown",
      "metadata": {
        "id": "OFtegwmfl_1f",
        "colab_type": "text"
      },
      "source": [
        "### Exercícios\n",
        "\n",
        "Antes de começar os exercícios carregue o arquivo de dados usando o files.upload(). Nossos dados são informações de apartamentos a venda em diversas localidades do Rio de janeiro. Os dados foram obtidos do site [DataHackers](https://datahackers.com.br/)."
      ]
    },
    {
      "cell_type": "code",
      "metadata": {
        "id": "jlk5pusKpHu5",
        "colab_type": "code",
        "colab": {}
      },
      "source": [
        "# Carregando arquivo via upload para o colab\n",
        "upload = files.upload()"
      ],
      "execution_count": 0,
      "outputs": []
    },
    {
      "cell_type": "markdown",
      "metadata": {
        "id": "auVlFSgvpXu-",
        "colab_type": "text"
      },
      "source": [
        "**Ex1.** Carregue os dados utilizando o pandas e mostre as 7 primeiras linhas."
      ]
    },
    {
      "cell_type": "code",
      "metadata": {
        "id": "UkzMWp0NpVyc",
        "colab_type": "code",
        "colab": {}
      },
      "source": [
        "# Não esqueça de especificar o separador\n",
        "# a maioria dos erros ocorrem ou por esquecer o\n",
        "# separador ou pelos dados não possuirem header\n"
      ],
      "execution_count": 0,
      "outputs": []
    },
    {
      "cell_type": "markdown",
      "metadata": {
        "id": "A0HMxSm_qkLz",
        "colab_type": "text"
      },
      "source": [
        "**Ex2.** Faça uma função **filtra_por_bairro** que recebe um objeto pandas e uma string **bairro** e retorna um objeto pandas filtrado pelo bairro."
      ]
    },
    {
      "cell_type": "code",
      "metadata": {
        "id": "yRa3SsAUxq3x",
        "colab_type": "code",
        "colab": {}
      },
      "source": [
        "# Escreva aqui\n"
      ],
      "execution_count": 0,
      "outputs": []
    },
    {
      "cell_type": "markdown",
      "metadata": {
        "id": "OLR17NeGyNTA",
        "colab_type": "text"
      },
      "source": [
        "**Ex3.** Filtre os dados utilizando **bairro**='Botafogo' e apenas as linhas que tem **condominio** abaixo de 1000 reais. "
      ]
    },
    {
      "cell_type": "code",
      "metadata": {
        "id": "0VhK3VlWy0kV",
        "colab_type": "code",
        "colab": {}
      },
      "source": [
        "# Escreva aqui\n"
      ],
      "execution_count": 0,
      "outputs": []
    },
    {
      "cell_type": "markdown",
      "metadata": {
        "id": "pXCpoFMT0Yhd",
        "colab_type": "text"
      },
      "source": [
        "**Ex4.** Filtre os dados de saída do exercício acima considerando as linhas do objeto pandas que tem pelo menos uma suite, uma vaga de garagem e dois quartos."
      ]
    },
    {
      "cell_type": "code",
      "metadata": {
        "id": "aXvOz4QY1LaZ",
        "colab_type": "code",
        "colab": {}
      },
      "source": [
        "# Escreva aqui\n"
      ],
      "execution_count": 0,
      "outputs": []
    },
    {
      "cell_type": "markdown",
      "metadata": {
        "id": "JbJwe_kb7K0p",
        "colab_type": "text"
      },
      "source": [
        "**Ex5.** Construa uma função **filtra_por_preco** que recebe os dados originais e retorna todas as casas que custam entre R\\$:1140613 reais e R\\$:3188386 reais."
      ]
    },
    {
      "cell_type": "code",
      "metadata": {
        "id": "hQ9ZJ-wj7dYA",
        "colab_type": "code",
        "colab": {}
      },
      "source": [
        "# Escreva aqui\n"
      ],
      "execution_count": 0,
      "outputs": []
    },
    {
      "cell_type": "markdown",
      "metadata": {
        "id": "Ir86RoDU_sRQ",
        "colab_type": "text"
      },
      "source": [
        "**Ex6.** Faça um filtro que remove todos os apartamentos com perímetro quadrado (pm2) menor que 10000, depois ordene e exiba os quinze primeiros registros de acordo com a coluna bairro e finalmente salve os dados de **condominio**, **quartos**, **suites**, **vagas**, **area** e **preco** em um csv no formato de um array numpy."
      ]
    },
    {
      "cell_type": "code",
      "metadata": {
        "id": "_MgY-cZ29H-7",
        "colab_type": "code",
        "colab": {}
      },
      "source": [
        "# Escreva aqui\n"
      ],
      "execution_count": 0,
      "outputs": []
    },
    {
      "cell_type": "markdown",
      "metadata": {
        "id": "2aqQdz-pCSwD",
        "colab_type": "text"
      },
      "source": [
        "### Matplotlib\n",
        "\n",
        "A [matplotlib](https://matplotlib.org/) é provavelmente a mais famosa biblioteca para plotar gráficos em Python. Existem alternativas como a [seaborn](https://seaborn.pydata.org/), mas como a seaborn é baseada na matplotlib é melhor aprender a própria matplotlib. O comando mais simples da matplotlib é o **plot**. O comando plot recebe uma grande quantidade de argumentos, mas pelo menos dois são obrigatórios: um valor (ou lista, ou numpy array) para o eixo x e outro valor (ou lista, ou numpy array) para o y."
      ]
    },
    {
      "cell_type": "code",
      "metadata": {
        "id": "xnXVRpXxDxpy",
        "colab_type": "code",
        "colab": {}
      },
      "source": [
        "# Valores de x e y\n",
        "x = np.array([1, 2, 3, 4])\n",
        "y = np.array([1, 4, 9, 16])\n",
        "\n",
        "# Plotando meu primeiro gráfico com matplotlib\n",
        "plt.plot(x, y)\n",
        "plt.show()"
      ],
      "execution_count": 0,
      "outputs": []
    },
    {
      "cell_type": "markdown",
      "metadata": {
        "id": "P43q3o1SE69i",
        "colab_type": "text"
      },
      "source": [
        "Nosso gráfico acima está bem incompleto, vamos adicionar algumas informações interessantes. Para adicionar um título, utilizamos o método **plt.title** para adicionar rótulos nos eixos fazemos uso dos métodos **plt.xlabel** e **plt.ylabel**."
      ]
    },
    {
      "cell_type": "code",
      "metadata": {
        "id": "L3PAYEzQFOce",
        "colab_type": "code",
        "colab": {}
      },
      "source": [
        "# Valores de x e y\n",
        "x = np.array([1, 2, 3, 4])\n",
        "y = np.array([1, 4, 9, 16])\n",
        "\n",
        "# Plotando meu primeiro gráfico com matplotlib\n",
        "plt.plot(x, y)\n",
        "plt.title('Meu primeiro gráfico em matplotlib')\n",
        "plt.xlabel('Valores de x')\n",
        "plt.ylabel('Valores de y')\n",
        "plt.show()"
      ],
      "execution_count": 0,
      "outputs": []
    },
    {
      "cell_type": "markdown",
      "metadata": {
        "id": "NWlzMj9YFic0",
        "colab_type": "text"
      },
      "source": [
        "Podemos passar um terceiro parâmetro para estilizar a cor e o tipo de linha do plot, ele é uma string, as variações são enormes, elas estão disponíveis na [documentação](https://matplotlib.org/2.1.2/api/_as_gen/matplotlib.pyplot.plot.html) oficial. Por exemplo, podemos mudar a cor para vermelho e a linha para tracejada passando a terceira opção do plot como 'r--'."
      ]
    },
    {
      "cell_type": "code",
      "metadata": {
        "id": "3tWGOL35GBN3",
        "colab_type": "code",
        "colab": {}
      },
      "source": [
        "# Valores de x e y\n",
        "x = np.array([1, 2, 3, 4])\n",
        "y = np.array([1, 4, 9, 16])\n",
        "\n",
        "# Plotando um gráfico mais elaborado\n",
        "plt.plot(x, y, 'r--')\n",
        "plt.title('Um gráfico mais elaborado em matplotlib')\n",
        "plt.xlabel('Valores de x')\n",
        "plt.ylabel('Valores de y')\n",
        "plt.show()"
      ],
      "execution_count": 0,
      "outputs": []
    },
    {
      "cell_type": "markdown",
      "metadata": {
        "id": "Wn4Iy4wfIn8o",
        "colab_type": "text"
      },
      "source": [
        "Também é possível fazer múltiplos plots em um mesmo comando passando sequências x, y e estilização."
      ]
    },
    {
      "cell_type": "code",
      "metadata": {
        "id": "A2z6jd44JQZj",
        "colab_type": "code",
        "colab": {}
      },
      "source": [
        "# Valores de x e y\n",
        "x = np.array([1, 2, 3, 4])\n",
        "y = np.array([1, 4, 9, 16])\n",
        "\n",
        "# Múltiplos plots no mesmo comando\n",
        "plt.plot(x, y, 'r--', x, y**2, 'bs', x, y**3, 'g^')\n",
        "plt.title('Um gráfico com plots múltiplos em matplotlib')\n",
        "plt.xlabel('Valores de x')\n",
        "plt.ylabel('Valores de y')\n",
        "plt.show()"
      ],
      "execution_count": 0,
      "outputs": []
    },
    {
      "cell_type": "markdown",
      "metadata": {
        "id": "ocVL24mRLmpA",
        "colab_type": "text"
      },
      "source": [
        "Podemos plotar também variáveis categóricas. Por exemplo, com o comando **plt.bar** plotamos um gráfico de barra (um histograma) considerando que a categoria vem no eixo x e a contagem da categoria no eixo y."
      ]
    },
    {
      "cell_type": "code",
      "metadata": {
        "id": "XOqWR8cKL8A9",
        "colab_type": "code",
        "colab": {}
      },
      "source": [
        "# Cores de carro e quantidade de carros por cor\n",
        "cores_de_carros = ['azul', 'preto', 'vermelho']\n",
        "carros_por_cor = [10, 50, 100]\n",
        "\n",
        "# Plotando\n",
        "plt.figure(figsize=(9, 6))\n",
        "plt.bar(cores_de_carros, carros_por_cor, color=['blue', 'black', 'red'])\n",
        "plt.title('Um gráfico de barras com matplotlib')\n",
        "plt.xlabel('Cores de carro')\n",
        "plt.ylabel('Quantidade por cor')\n",
        "plt.show()"
      ],
      "execution_count": 0,
      "outputs": []
    },
    {
      "cell_type": "markdown",
      "metadata": {
        "id": "fSMCVMTgNYKe",
        "colab_type": "text"
      },
      "source": [
        "No gráfico acima utilizamos um comando **plt.figure** e passamos a opção **figsize** que recebe uma tupla com os valores de tamanho em largura e altura do gráfico. Além disso, utilizamos a opção **color** que permite passar uma lista de cores para as nossas barras. Podemos estilizar os gráficos utilizando estilos prontos da matplotlib através do método **plt.style.use**, alguns vêm da biblioteca searborn."
      ]
    },
    {
      "cell_type": "code",
      "metadata": {
        "id": "y_2zHCZ_Op-m",
        "colab_type": "code",
        "colab": {}
      },
      "source": [
        "# Usando um estilo da searborn\n",
        "plt.style.use('seaborn-darkgrid')\n",
        "\n",
        "# Cores de carro e quantidade de carros por cor\n",
        "cores_de_carros = ['azul', 'preto', 'vermelho']\n",
        "carros_por_cor = [10, 50, 100]\n",
        "\n",
        "# Plotando\n",
        "plt.figure(figsize=(9, 6))\n",
        "plt.bar(cores_de_carros, carros_por_cor, color=['blue', 'black', 'red'])\n",
        "plt.title('Um gráfico de barras com matplotlib')\n",
        "plt.xlabel('Cores de carro')\n",
        "plt.ylabel('Quantidade por cor')\n",
        "plt.show()"
      ],
      "execution_count": 0,
      "outputs": []
    },
    {
      "cell_type": "markdown",
      "metadata": {
        "id": "yAUdc_2LQE3T",
        "colab_type": "text"
      },
      "source": [
        "É possível consultar a lista de estilos disponíveis através do atributo **plt.style.available**."
      ]
    },
    {
      "cell_type": "code",
      "metadata": {
        "id": "Db8W8n4dQVuL",
        "colab_type": "code",
        "colab": {}
      },
      "source": [
        "# Estilos disponíveis\n",
        "print('Lista de estilos disponíveis:\\n', plt.style.available)\n",
        "\n",
        "# Setando o estilo ggplot\n",
        "plt.style.use('ggplot')"
      ],
      "execution_count": 0,
      "outputs": []
    },
    {
      "cell_type": "markdown",
      "metadata": {
        "id": "BvqhQ8wBQ6LR",
        "colab_type": "text"
      },
      "source": [
        "Uma aplicação interessante é usando funções para fazer os plots. Por exemplo, considere a seguinte função sigmóide que recebe um array numpy e retorna o calculo da sigmóide:"
      ]
    },
    {
      "cell_type": "code",
      "metadata": {
        "id": "bBgAO8AqRChu",
        "colab_type": "code",
        "colab": {}
      },
      "source": [
        "#\n",
        "# Função sigmóide, muito utilizada\n",
        "# em ML em modelos de redes neurais e regressão logística.\n",
        "#\n",
        "def sigmoide(z):\n",
        "    return (1/(1+np.exp(-z)))"
      ],
      "execution_count": 0,
      "outputs": []
    },
    {
      "cell_type": "markdown",
      "metadata": {
        "id": "EJ6jIaAeRRm3",
        "colab_type": "text"
      },
      "source": [
        "Agora podemos definir um range de valores para x e plotar em y os valores de sigmoide(x). Vamos usar o método np.arange, passando três parâmetros, o início, o fim e o passo (lembre-se é similar ao range do Python)."
      ]
    },
    {
      "cell_type": "code",
      "metadata": {
        "id": "3mDCo9k0RaF7",
        "colab_type": "code",
        "colab": {}
      },
      "source": [
        "# Usando a função arange com três parâmetros\n",
        "x = np.arange(-10., 10., 0.2)\n",
        "\n",
        "# Plotando nossa sigmoide para x\n",
        "plt.figure(figsize=(9, 6))\n",
        "plt.plot(x, sigmoide(x))\n",
        "plt.title('Gráfico da sigmóide')\n",
        "plt.xlabel('x')\n",
        "plt.ylabel('sigmoide(x)')\n",
        "plt.show()"
      ],
      "execution_count": 0,
      "outputs": []
    },
    {
      "cell_type": "markdown",
      "metadata": {
        "id": "nknxzu54SZU9",
        "colab_type": "text"
      },
      "source": [
        "### Exercícios\n",
        "\n",
        "**Ex1.** Usando os dados do exercício sobre pandas, faça um filtro que faz um histograma da coluna bairro, depois faça um gráfico de barra com a matplotlib usando o histograma. "
      ]
    },
    {
      "cell_type": "code",
      "metadata": {
        "id": "lhc7-Yd9UwAk",
        "colab_type": "code",
        "colab": {}
      },
      "source": [
        "# Escreva aqui\n"
      ],
      "execution_count": 0,
      "outputs": []
    },
    {
      "cell_type": "markdown",
      "metadata": {
        "id": "DXlCjy_UcJbd",
        "colab_type": "text"
      },
      "source": [
        "**Ex2.** Faça um gráfico entre a relação área e preço dos apartamentos."
      ]
    },
    {
      "cell_type": "code",
      "metadata": {
        "id": "zks4jw8KcynM",
        "colab_type": "code",
        "colab": {}
      },
      "source": [
        "# Escreva aqui\n"
      ],
      "execution_count": 0,
      "outputs": []
    },
    {
      "cell_type": "markdown",
      "metadata": {
        "id": "-1arK4bXe7Zj",
        "colab_type": "text"
      },
      "source": [
        "**Ex3.** Faça um gráfico da relação pm2 com preço dos apartamentos.\n",
        "\n"
      ]
    },
    {
      "cell_type": "code",
      "metadata": {
        "id": "ybwZ7aCIfHyl",
        "colab_type": "code",
        "colab": {}
      },
      "source": [
        "# Escreva aqui\n"
      ],
      "execution_count": 0,
      "outputs": []
    },
    {
      "cell_type": "markdown",
      "metadata": {
        "id": "fHtzl2olfXHC",
        "colab_type": "text"
      },
      "source": [
        "**Ex4.** Faça um histograma da quantidade de quartos e plote um gráfico de barra com a matplotlib."
      ]
    },
    {
      "cell_type": "code",
      "metadata": {
        "id": "Y7o8B_sDf4SK",
        "colab_type": "code",
        "colab": {}
      },
      "source": [
        "# Escreva aqui\n"
      ],
      "execution_count": 0,
      "outputs": []
    },
    {
      "cell_type": "markdown",
      "metadata": {
        "id": "loVbWPTujYoI",
        "colab_type": "text"
      },
      "source": [
        "**Ex5.** Faça um histograma da quantidade de vagas e plote um gráfico de barra com a matplotlib."
      ]
    },
    {
      "cell_type": "code",
      "metadata": {
        "id": "d23PEK1WjZnS",
        "colab_type": "code",
        "colab": {}
      },
      "source": [
        "# Escreva aqui\n"
      ],
      "execution_count": 0,
      "outputs": []
    },
    {
      "cell_type": "markdown",
      "metadata": {
        "id": "qtVjungbj1JA",
        "colab_type": "text"
      },
      "source": [
        "**Ex6.** Faça um gráfico da relação da área com preço do condomínio."
      ]
    },
    {
      "cell_type": "code",
      "metadata": {
        "id": "hRcaZm5Fj-Xe",
        "colab_type": "code",
        "colab": {}
      },
      "source": [
        "# Escreva aqui\n"
      ],
      "execution_count": 0,
      "outputs": []
    }
  ]
}